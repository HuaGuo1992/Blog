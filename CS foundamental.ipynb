{
 "cells": [
  {
   "cell_type": "markdown",
   "metadata": {},
   "source": [
    "# 排序(Sorting)算法 "
   ]
  },
  {
   "cell_type": "markdown",
   "metadata": {},
   "source": [
    "<image src='./images/sort_method.jpg', style='zoom:50%'/>"
   ]
  },
  {
   "cell_type": "code",
   "execution_count": 50,
   "metadata": {
    "collapsed": true
   },
   "outputs": [],
   "source": [
    "import numpy as np"
   ]
  },
  {
   "cell_type": "markdown",
   "metadata": {},
   "source": [
    "<img src='images/sort_method.jpg', style=\"100%\">"
   ]
  },
  {
   "cell_type": "markdown",
   "metadata": {},
   "source": [
    "## 1. 插入排序 "
   ]
  },
  {
   "cell_type": "markdown",
   "metadata": {},
   "source": [
    "### 1.1 直接插入排序 "
   ]
  },
  {
   "cell_type": "markdown",
   "metadata": {},
   "source": [
    "插入排序(insertion sorting)：假设前面的元素已经排好序，将这个元素插入前面的元素，为提高速度，可采用二分查找来插入．"
   ]
  },
  {
   "cell_type": "code",
   "execution_count": 49,
   "metadata": {
    "collapsed": true
   },
   "outputs": [],
   "source": [
    "# normal insertion sort algorithm\n",
    "def insertion_sort(lst):\n",
    "    \n",
    "    for idx in range(1, len(lst)):\n",
    "        current_value = lst[idx]\n",
    "        position = idx\n",
    "        while position > 0 and lst[position-1] > current_value:\n",
    "            lst[position] = lst[position-1]\n",
    "            position -=1\n",
    "        lst[position] = current_value\n",
    "# insertion sort with binary search    \n",
    "def insertion_sort_binary_search(lst):   \n",
    "    for idx in range(1, len(lst)):\n",
    "        current_value = lst[idx]\n",
    "        position = idx\n",
    "        lower = 0\n",
    "        higher = position - 1\n",
    "        while higher >= lower:\n",
    "            mid = (higher + lower) / 2\n",
    "            if lst[mid] > current_value:\n",
    "                higher = mid -1\n",
    "            else:\n",
    "                lower = mid + 1\n",
    "#             print lower\n",
    "#             print higher\n",
    "        while position > lower:\n",
    "            lst[position] = lst[position-1]\n",
    "            position -=1\n",
    "        lst[position] = current_value\n",
    "#         print lst"
   ]
  },
  {
   "cell_type": "markdown",
   "metadata": {},
   "source": [
    "复杂度的问题：\n",
    "\n",
    "算法最坏复杂度为$O(n^2)$,最好为$O(n)$"
   ]
  },
  {
   "cell_type": "markdown",
   "metadata": {},
   "source": [
    "### 1.2 希尔排序"
   ]
  },
  {
   "cell_type": "markdown",
   "metadata": {},
   "source": [
    "## 2. 选择排序"
   ]
  },
  {
   "cell_type": "markdown",
   "metadata": {},
   "source": [
    "## 3.交换排序"
   ]
  },
  {
   "cell_type": "markdown",
   "metadata": {},
   "source": [
    "### ３.1 冒泡排序 "
   ]
  },
  {
   "cell_type": "markdown",
   "metadata": {},
   "source": [
    "算法：\n",
    "\n",
    "+ １．比较相邻的元素，若第一大于第二，就交换他们\n",
    "+ ２．对每一对相邻元素进行相同操作，使最大元素到最后．\n",
    "+ ３．除却后部排好序的元素，然后再次进行１，２步操作\n",
    "\n",
    "\n",
    "复杂度：\n",
    "\n",
    "$$(n-1) + (n-2) + ...+2 + 1 = \\frac{n(n-1)}{2} = O(n^2)$$"
   ]
  },
  {
   "cell_type": "code",
   "execution_count": 9,
   "metadata": {
    "collapsed": true
   },
   "outputs": [],
   "source": [
    "def bubblesort(numbers):\n",
    "    for i in range(len(numbers)-1):\n",
    "        for j in range(len(numbers)-i-1):\n",
    "            if numbers[j] > numbers[j+1]:\n",
    "                numbers[j], numbers[j+1] = numbers[j+1], numbers[j]\n",
    "    return numbers"
   ]
  },
  {
   "cell_type": "code",
   "execution_count": 10,
   "metadata": {
    "scrolled": true
   },
   "outputs": [
    {
     "data": {
      "text/plain": [
       "array([56, 93, 95, 73,  6, 75, 96,  5, 39, 98])"
      ]
     },
     "execution_count": 10,
     "metadata": {},
     "output_type": "execute_result"
    }
   ],
   "source": [
    "import numpy as np\n",
    "nums = np.random.randint(100, size=10)\n",
    "nums"
   ]
  },
  {
   "cell_type": "code",
   "execution_count": 11,
   "metadata": {},
   "outputs": [
    {
     "name": "stdout",
     "output_type": "stream",
     "text": [
      "[ 5  6 39 56 73 75 93 95 96 98]\n"
     ]
    }
   ],
   "source": [
    "print(bubblesort(nums))"
   ]
  },
  {
   "cell_type": "markdown",
   "metadata": {},
   "source": [
    "### 3.2 快速排序"
   ]
  },
  {
   "cell_type": "markdown",
   "metadata": {},
   "source": [
    "+ 1. 选择最后一个元素作为基准\n",
    "+ 2. 之前所有元素和基准元素比较，分为两部分\n",
    "+ 3. 对每部分进行１，２操作\n",
    "\n",
    "复杂度：\n"
   ]
  },
  {
   "cell_type": "code",
   "execution_count": 96,
   "metadata": {
    "collapsed": true
   },
   "outputs": [],
   "source": [
    "def partition(arr, firstIndex, lastIndex):\n",
    "    i = firstIndex - 1\n",
    "    for j in range(firstIndex, lastIndex):\n",
    "        if arr[j] <= arr[lastIndex]:\n",
    "            i += 1\n",
    "            arr[j], arr[i] = arr[i], arr[j]\n",
    "#             print 'j is ' + str(j)\n",
    "#             print arr\n",
    "    arr[i+1], arr[lastIndex] = arr[lastIndex], arr[i+1]\n",
    "    return i\n",
    "\n",
    "\n",
    "def QuickSort(arr, firstIndex, lastIndex):\n",
    "    if firstIndex < lastIndex:\n",
    "        divIndex = partition(arr, firstIndex, lastIndex)\n",
    "        QuickSort(arr, firstIndex, divIndex)\n",
    "        QuickSort(arr, divIndex+1, lastIndex)\n",
    "    else:\n",
    "        return"
   ]
  },
  {
   "cell_type": "code",
   "execution_count": 97,
   "metadata": {},
   "outputs": [
    {
     "name": "stdout",
     "output_type": "stream",
     "text": [
      "[908 144 713  41 910 998 159 385  54 650]\n",
      "[ 41  54 144 159 385 650 713 908 910 998]\n"
     ]
    }
   ],
   "source": [
    "arr = np.random.randint(1000, size=10)\n",
    "print arr\n",
    "QuickSort(arr, 0, len(arr)-1)\n",
    "print arr"
   ]
  },
  {
   "cell_type": "code",
   "execution_count": 87,
   "metadata": {
    "collapsed": true
   },
   "outputs": [],
   "source": [
    "# arr = np.random.randint(100, size=5)\n",
    "arr = [75, 31, 96, 50, 76]"
   ]
  },
  {
   "cell_type": "code",
   "execution_count": 88,
   "metadata": {},
   "outputs": [
    {
     "data": {
      "text/plain": [
       "[75, 31, 96, 50, 76]"
      ]
     },
     "execution_count": 88,
     "metadata": {},
     "output_type": "execute_result"
    }
   ],
   "source": [
    "arr"
   ]
  },
  {
   "cell_type": "code",
   "execution_count": 89,
   "metadata": {},
   "outputs": [
    {
     "name": "stdout",
     "output_type": "stream",
     "text": [
      "j is 0\n",
      "[75, 31, 96, 50, 76]\n",
      "j is 1\n",
      "[75, 31, 96, 50, 76]\n",
      "j is 3\n",
      "[75, 31, 50, 96, 76]\n"
     ]
    },
    {
     "data": {
      "text/plain": [
       "2"
      ]
     },
     "execution_count": 89,
     "metadata": {},
     "output_type": "execute_result"
    }
   ],
   "source": [
    "partition(arr, 0, len(arr)-1)"
   ]
  },
  {
   "cell_type": "code",
   "execution_count": 98,
   "metadata": {},
   "outputs": [
    {
     "data": {
      "text/plain": [
       "array([ 41,  54, 144, 159, 385, 650, 713, 908, 910, 998])"
      ]
     },
     "execution_count": 98,
     "metadata": {},
     "output_type": "execute_result"
    }
   ],
   "source": [
    "partition(arr, 0, len(arr)-1)\n",
    "arr\n",
    "\n",
    "# 推演\n",
    "# partition(a, 0, 4):\n",
    "#     i=-1\n",
    "#     j = 0\n",
    "#         a[0] <=a[4]\n",
    "#             i = 0\n",
    "#             a[0], a[0] = a[0], a[0]\n",
    "#     j = 1\n",
    "#         a[1] <= a[4]\n",
    "#             i = 1\n",
    "#             a[1], a[1] = a[1], a[1]\n",
    "#     j = 2\n",
    "#         a[2] > a[4]\n",
    "#     j = 3\n",
    "#         a[3] <= a[4]\n",
    "#             i = 2\n",
    "#             a[2], a[3] = a[3], a[2]\n",
    "#     a[4], a[2] = a[2], a[4]\n",
    "#     return 2"
   ]
  },
  {
   "cell_type": "markdown",
   "metadata": {},
   "source": [
    "快速排序算法平均复杂度为$nlog(n)$"
   ]
  },
  {
   "cell_type": "markdown",
   "metadata": {
    "collapsed": true
   },
   "source": [
    "### 合并排序"
   ]
  },
  {
   "cell_type": "markdown",
   "metadata": {},
   "source": [
    "合并排序(merge sort):　二路排序，将原始数据分为两部分，分别进行排序，然后将各自集合并． 典型分治法测略．\n",
    "\n",
    "+ Split \n",
    "+ Merge\n",
    "\n",
    "时间复杂度：\n",
    "\n",
    "Split 二分log(n)； Merge 每个元素都会被放入排序好的list中,每个需要ｎ步．\n",
    "\n",
    "所以总的复杂度为$O(nlogn)$\n",
    "\n",
    "\n",
    "<img src='images/merg_sort.png', style='100%'>"
   ]
  },
  {
   "cell_type": "markdown",
   "metadata": {},
   "source": [
    "# ???? 复杂度不太懂啊"
   ]
  },
  {
   "cell_type": "code",
   "execution_count": 4,
   "metadata": {
    "collapsed": true
   },
   "outputs": [],
   "source": [
    "def merge_sort(lst):\n",
    "    print 'Spliting: ' + str(lst)\n",
    "    \n",
    "    #spliting lst\n",
    "    if len(lst) > 1:\n",
    "        mid = len(lst) // 2\n",
    "        left_half = lst[:mid]\n",
    "        right_half = lst[mid:]\n",
    "        merge_sort(left_half)\n",
    "        merge_sort(right_half)\n",
    "\n",
    "        # index of left_half, right_half & lst\n",
    "        i = 0\n",
    "        j = 0\n",
    "        k = 0\n",
    "\n",
    "        # while until one of the list has been iterated\n",
    "        while i < len(left_half) and j < len(right_half):\n",
    "            if left_half[i] < right_half[j]:\n",
    "                lst[k] = left_half[i]\n",
    "                i += 1\n",
    "            else:\n",
    "                lst[k] = right_half[j]\n",
    "                j += 1\n",
    "            k += 1\n",
    "\n",
    "        # To iterate the rest one\n",
    "        while i < len(left_half):\n",
    "            lst[k] = left_half[i]\n",
    "            i += 1\n",
    "            k += 1\n",
    "        while j < len(right_half):\n",
    "            lst[k] = right_half[j]\n",
    "            j += 1\n",
    "            k += 1\n",
    "        print 'Merging: ' + str(lst)\n",
    "    "
   ]
  },
  {
   "cell_type": "code",
   "execution_count": 6,
   "metadata": {},
   "outputs": [
    {
     "name": "stdout",
     "output_type": "stream",
     "text": [
      "Spliting: [54, 26, 93, 17, 77, 31, 44, 55, 20]\n",
      "Spliting: [54, 26, 93, 17]\n",
      "Spliting: [54, 26]\n",
      "Spliting: [54]\n",
      "Spliting: [26]\n",
      "Merging: [26, 54]\n",
      "Spliting: [93, 17]\n",
      "Spliting: [93]\n",
      "Spliting: [17]\n",
      "Merging: [17, 93]\n",
      "Merging: [17, 26, 54, 93]\n",
      "Spliting: [77, 31, 44, 55, 20]\n",
      "Spliting: [77, 31]\n",
      "Spliting: [77]\n",
      "Spliting: [31]\n",
      "Merging: [31, 77]\n",
      "Spliting: [44, 55, 20]\n",
      "Spliting: [44]\n",
      "Spliting: [55, 20]\n",
      "Spliting: [55]\n",
      "Spliting: [20]\n",
      "Merging: [20, 55]\n",
      "Merging: [20, 44, 55]\n",
      "Merging: [20, 31, 44, 55, 77]\n",
      "Merging: [17, 20, 26, 31, 44, 54, 55, 77, 93]\n",
      "[17, 20, 26, 31, 44, 54, 55, 77, 93]\n"
     ]
    }
   ],
   "source": [
    "lst = [54, 26, 93, 17, 77, 31, 44, 55, 20]\n",
    "merge_sort(lst)\n",
    "print(lst)"
   ]
  },
  {
   "cell_type": "code",
   "execution_count": null,
   "metadata": {
    "collapsed": true
   },
   "outputs": [],
   "source": []
  }
 ],
 "metadata": {
  "kernelspec": {
   "display_name": "Python 2",
   "language": "python",
   "name": "python2"
  },
  "language_info": {
   "codemirror_mode": {
    "name": "ipython",
    "version": 2
   },
   "file_extension": ".py",
   "mimetype": "text/x-python",
   "name": "python",
   "nbconvert_exporter": "python",
   "pygments_lexer": "ipython2",
   "version": "2.7.13"
  }
 },
 "nbformat": 4,
 "nbformat_minor": 2
}
