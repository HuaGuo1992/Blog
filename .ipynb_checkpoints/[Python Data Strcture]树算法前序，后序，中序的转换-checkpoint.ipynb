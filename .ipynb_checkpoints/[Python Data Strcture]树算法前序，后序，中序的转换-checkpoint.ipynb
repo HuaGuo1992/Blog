{
 "cells": [
  {
   "cell_type": "markdown",
   "metadata": {
    "toc": true
   },
   "source": [
    "<h1>Table of Contents<span class=\"tocSkip\"></span></h1>\n",
    "<div class=\"toc\"><ul class=\"toc-item\"><li><span><a href=\"#定义树节点\" data-toc-modified-id=\"定义树节点-1\"><span class=\"toc-item-num\">1&nbsp;&nbsp;</span>定义树节点</a></span></li><li><span><a href=\"#由前序，中序到后序\" data-toc-modified-id=\"由前序，中序到后序-2\"><span class=\"toc-item-num\">2&nbsp;&nbsp;</span>由前序，中序到后序</a></span></li><li><span><a href=\"#由后序，中序到前序\" data-toc-modified-id=\"由后序，中序到前序-3\"><span class=\"toc-item-num\">3&nbsp;&nbsp;</span>由后序，中序到前序</a></span></li></ul></div>"
   ]
  },
  {
   "cell_type": "markdown",
   "metadata": {},
   "source": [
    "# 定义树节点"
   ]
  },
  {
   "cell_type": "markdown",
   "metadata": {},
   "source": [
    "**一定要注意递归的思想**"
   ]
  },
  {
   "cell_type": "code",
   "execution_count": null,
   "metadata": {},
   "outputs": [],
   "source": [
    "#定义node\n",
    "class Node:\n",
    "    def __init__(self, value):\n",
    "        self.value = value\n",
    "        self.left = None\n",
    "        self.right = None"
   ]
  },
  {
   "cell_type": "markdown",
   "metadata": {},
   "source": [
    "# 由前序，中序到后序"
   ]
  },
  {
   "cell_type": "markdown",
   "metadata": {},
   "source": [
    "前：GDAFEMHZ\n",
    "\n",
    "中：ADEFGHMZ"
   ]
  },
  {
   "cell_type": "code",
   "execution_count": 69,
   "metadata": {},
   "outputs": [],
   "source": [
    "preorder = 'GDAFEMHZ'\n",
    "inorder = 'ADEFGHMZ'\n",
    "preorder = [i for i in preorder]\n",
    "inorder = [i for i in inorder]\n",
    "\n",
    "# create_tree 和print_post 函数都不需要额外的记忆量\n",
    "\n",
    "def create_tree(preorder, inorder):\n",
    "    if len(preorder) == 0:\n",
    "        return None\n",
    "    root = Node(preorder[0])    \n",
    "    idx = inorder.index(preorder[0])\n",
    "    root.left = create_tree(preorder[1:idx+1], inorder[0:idx])\n",
    "    root.right = create_tree(preorder[idx+1:], inorder[idx+1:])\n",
    "    return root\n",
    "    \n",
    "    \n",
    "\n",
    "def print_post(root):\n",
    "    if not root:\n",
    "        return []\n",
    "    res = []\n",
    "    res += print_post(root.left)\n",
    "    res += print_post(root.right)\n",
    "    res += [root.value]\n",
    "    return res\n",
    "    "
   ]
  },
  {
   "cell_type": "code",
   "execution_count": 70,
   "metadata": {},
   "outputs": [
    {
     "data": {
      "text/plain": [
       "[4, 5, 2, 6, 7, 3, 1]"
      ]
     },
     "execution_count": 70,
     "metadata": {},
     "output_type": "execute_result"
    }
   ],
   "source": [
    "## 测试print_post函数\n",
    "a, b, c, d, e, f, g = [Node(i) for i in range(1, 8)]\n",
    "a.left = b\n",
    "a.right = c\n",
    "b.left = d\n",
    "b.right = e\n",
    "c.left = f\n",
    "c.right = g\n",
    "print_post(a)"
   ]
  },
  {
   "cell_type": "code",
   "execution_count": 72,
   "metadata": {},
   "outputs": [
    {
     "name": "stdout",
     "output_type": "stream",
     "text": [
      "Post order is :  AEFDHZMG\n"
     ]
    }
   ],
   "source": [
    "# 测试\n",
    "root =  create_tree(preorder, inorder)\n",
    "res = print_post(root)\n",
    "print('Post order is : ', ''.join(res))"
   ]
  },
  {
   "cell_type": "markdown",
   "metadata": {},
   "source": [
    "# 由后序，中序到前序 "
   ]
  },
  {
   "cell_type": "markdown",
   "metadata": {},
   "source": [
    "后：AEFDHZMG\n",
    "\n",
    "中：ADEFGHMZ"
   ]
  },
  {
   "cell_type": "code",
   "execution_count": 99,
   "metadata": {},
   "outputs": [],
   "source": [
    "postorder = 'AEFDHZMG'\n",
    "inorder = 'ADEFGHMZ'\n",
    "postorder = [i for i in postorder]\n",
    "inorder = [i for i in inorder]\n",
    "\n",
    "# create_tree 和print_post 函数都不需要额外的记忆量\n",
    "\n",
    "def create_tree(postorder, inorder):\n",
    "    if len(postorder) == 0:\n",
    "        return None\n",
    "    root = Node(postorder[-1]) \n",
    "    idx = inorder.index(postorder[-1])\n",
    "    root.left = create_tree(postorder[0:idx], inorder[0:idx])\n",
    "    root.right = create_tree(postorder[idx:-1], inorder[idx+1:])\n",
    "    return root\n",
    "    \n",
    "    \n",
    "\n",
    "def print_pre(root):\n",
    "    if not root:\n",
    "        return []\n",
    "    res = [root.value]\n",
    "    res += print_pre(root.left)\n",
    "    res += print_pre(root.right)\n",
    "    return res\n",
    "    "
   ]
  },
  {
   "cell_type": "code",
   "execution_count": 100,
   "metadata": {},
   "outputs": [
    {
     "data": {
      "text/plain": [
       "[1, 2, 4, 5, 3, 6, 7]"
      ]
     },
     "execution_count": 100,
     "metadata": {},
     "output_type": "execute_result"
    }
   ],
   "source": [
    "## 测试print_pre函数\n",
    "a, b, c, d, e, f, g = [Node(i) for i in range(1, 8)]\n",
    "a.left = b\n",
    "a.right = c\n",
    "b.left = d\n",
    "b.right = e \n",
    "c.left = f\n",
    "c.right = g\n",
    "print_pre(a)"
   ]
  },
  {
   "cell_type": "code",
   "execution_count": 102,
   "metadata": {},
   "outputs": [
    {
     "name": "stdout",
     "output_type": "stream",
     "text": [
      "Pre order is :  GDAFEMHZ\n"
     ]
    }
   ],
   "source": [
    "# 测试\n",
    "root =  create_tree(postorder, inorder)\n",
    "res = print_pre(root)\n",
    "print('Pre order is : ', ''.join(res))"
   ]
  }
 ],
 "metadata": {
  "kernelspec": {
   "display_name": "Python 3",
   "language": "python",
   "name": "python3"
  },
  "language_info": {
   "codemirror_mode": {
    "name": "ipython",
    "version": 3
   },
   "file_extension": ".py",
   "mimetype": "text/x-python",
   "name": "python",
   "nbconvert_exporter": "python",
   "pygments_lexer": "ipython3",
   "version": "3.6.4"
  },
  "toc": {
   "nav_menu": {},
   "number_sections": true,
   "sideBar": true,
   "skip_h1_title": false,
   "title_cell": "Table of Contents",
   "title_sidebar": "Contents",
   "toc_cell": true,
   "toc_position": {},
   "toc_section_display": true,
   "toc_window_display": true
  }
 },
 "nbformat": 4,
 "nbformat_minor": 2
}
