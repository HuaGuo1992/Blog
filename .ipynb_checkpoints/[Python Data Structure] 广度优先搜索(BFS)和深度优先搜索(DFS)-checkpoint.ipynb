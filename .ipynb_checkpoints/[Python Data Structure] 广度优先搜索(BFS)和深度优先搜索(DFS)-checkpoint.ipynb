{
 "cells": [
  {
   "cell_type": "markdown",
   "metadata": {
    "toc": true
   },
   "source": [
    "<h1>Table of Contents<span class=\"tocSkip\"></span></h1>\n",
    "<div class=\"toc\"><ul class=\"toc-item\"><li><span><a href=\"#图\" data-toc-modified-id=\"图-1\"><span class=\"toc-item-num\">1&nbsp;&nbsp;</span>图</a></span></li><li><span><a href=\"#算法\" data-toc-modified-id=\"算法-2\"><span class=\"toc-item-num\">2&nbsp;&nbsp;</span>算法</a></span></li><li><span><a href=\"#实现\" data-toc-modified-id=\"实现-3\"><span class=\"toc-item-num\">3&nbsp;&nbsp;</span>实现</a></span></li></ul></div>"
   ]
  },
  {
   "cell_type": "markdown",
   "metadata": {},
   "source": [
    "# 图"
   ]
  },
  {
   "cell_type": "markdown",
   "metadata": {},
   "source": [
    "以下面有向图为例, 以字典来表示这个图, 如下:"
   ]
  },
  {
   "cell_type": "code",
   "execution_count": 141,
   "metadata": {},
   "outputs": [],
   "source": [
    "a, b, c, d, e, f = '1', '2', '3', '4', '5', '6'\n",
    "g = {a: [b, d], b:[c, d], c:[], d:[e], e:[b, f], f:[c]}"
   ]
  },
  {
   "cell_type": "markdown",
   "metadata": {},
   "source": [
    "<img src='images/BFS_DFS.png' width=800>"
   ]
  },
  {
   "cell_type": "markdown",
   "metadata": {},
   "source": [
    "# 算法 "
   ]
  },
  {
   "cell_type": "markdown",
   "metadata": {},
   "source": [
    "BFS用队列实现, DFS用栈实现. 由于栈和递归特殊的关系, DFS也可以用递归实现, 当然一般用递归实现.\n",
    "\n",
    "**BFS**\n",
    "通俗讲为从初始顶点开始, 先访问所有距离为1的顶点, 然后再访问所有距离为2的顶点(先被访问顶点的临节点要比后被访问节点临节点先访问)....\n",
    "\n",
    "结果为: 1, 2, 4, 3, 5, 6\n",
    "\n",
    "**DFS**\n",
    "通俗讲为从初始顶点开始, 把一个分支访问完之后再访问下个分支...\n",
    "\n",
    "结果为: 1, 2, 3, 4, 5, 6"
   ]
  },
  {
   "cell_type": "markdown",
   "metadata": {},
   "source": [
    "# 实现 "
   ]
  },
  {
   "cell_type": "markdown",
   "metadata": {},
   "source": [
    "**BFS**\n",
    "\n",
    "用queue实现"
   ]
  },
  {
   "cell_type": "code",
   "execution_count": 115,
   "metadata": {},
   "outputs": [],
   "source": [
    "def BFS(g, begin_point):\n",
    "    visted = []\n",
    "    queue = [begin_point]\n",
    "    while len(queue) !=0:\n",
    "        pop = queue.pop(0)    \n",
    "        if pop in visted:\n",
    "            continue\n",
    "        else:\n",
    "            visted.append(pop)        \n",
    "        for next_point in g[pop]:\n",
    "            if next_point not in visted:\n",
    "                queue.append(next_point)\n",
    "    print(visted)   "
   ]
  },
  {
   "cell_type": "code",
   "execution_count": 116,
   "metadata": {
    "scrolled": true
   },
   "outputs": [
    {
     "name": "stdout",
     "output_type": "stream",
     "text": [
      "['1', '2', '4', '3', '5', '6']\n"
     ]
    }
   ],
   "source": [
    "BFS(g, a)"
   ]
  },
  {
   "cell_type": "markdown",
   "metadata": {},
   "source": [
    "**DFS**\n",
    "\n",
    "用栈实现"
   ]
  },
  {
   "cell_type": "code",
   "execution_count": 142,
   "metadata": {},
   "outputs": [],
   "source": [
    "def DFS(g, begin_point):\n",
    "    visted = []\n",
    "    stack = [begin_point]\n",
    "    while len(stack) != 0:\n",
    "        pop = stack.pop()\n",
    "        if pop in visted:\n",
    "            continue\n",
    "        else:\n",
    "            visted.append(pop)\n",
    "            \n",
    "#         lst = g[pop]\n",
    "#         print('lst', lst)\n",
    "#         print(type(lst))\n",
    "#         print('lst reverse', lst.reverse())\n",
    "#         r = lst.reverse()\n",
    "        for next_point in list(reversed(g[pop])):\n",
    "            if next_point not in visted:\n",
    "                stack.append(next_point)\n",
    "        \n",
    "#         print('stack', stack)\n",
    "#         print('visted', visted)\n",
    "    print(visted)           "
   ]
  },
  {
   "cell_type": "code",
   "execution_count": 143,
   "metadata": {
    "scrolled": false
   },
   "outputs": [
    {
     "name": "stdout",
     "output_type": "stream",
     "text": [
      "['1', '2', '3', '4', '5', '6']\n"
     ]
    }
   ],
   "source": [
    "DFS(g, a)"
   ]
  },
  {
   "cell_type": "markdown",
   "metadata": {},
   "source": [
    "用递归实现"
   ]
  },
  {
   "cell_type": "code",
   "execution_count": 144,
   "metadata": {},
   "outputs": [],
   "source": [
    "visited = []\n",
    "def DFS_r(g, begin_point):\n",
    "    visited.append(begin_point)\n",
    "    if len(visited) == len(g):\n",
    "        return\n",
    "    for next_point in g[begin_point]:\n",
    "        if next_point not in visited:\n",
    "            DFS_r(g, next_point)"
   ]
  },
  {
   "cell_type": "code",
   "execution_count": 145,
   "metadata": {},
   "outputs": [
    {
     "data": {
      "text/plain": [
       "['1', '2', '3', '4', '5', '6']"
      ]
     },
     "execution_count": 145,
     "metadata": {},
     "output_type": "execute_result"
    }
   ],
   "source": [
    "DFS_r(g, a)\n",
    "visited"
   ]
  }
 ],
 "metadata": {
  "kernelspec": {
   "display_name": "Python 3",
   "language": "python",
   "name": "python3"
  },
  "language_info": {
   "codemirror_mode": {
    "name": "ipython",
    "version": 3
   },
   "file_extension": ".py",
   "mimetype": "text/x-python",
   "name": "python",
   "nbconvert_exporter": "python",
   "pygments_lexer": "ipython3",
   "version": "3.6.4"
  },
  "toc": {
   "nav_menu": {},
   "number_sections": true,
   "sideBar": true,
   "skip_h1_title": false,
   "title_cell": "Table of Contents",
   "title_sidebar": "Contents",
   "toc_cell": true,
   "toc_position": {},
   "toc_section_display": true,
   "toc_window_display": true
  }
 },
 "nbformat": 4,
 "nbformat_minor": 2
}
