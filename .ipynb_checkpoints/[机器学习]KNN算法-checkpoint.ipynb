{
 "cells": [
  {
   "cell_type": "markdown",
   "metadata": {
    "toc": true
   },
   "source": [
    "<h1>Table of Contents<span class=\"tocSkip\"></span></h1>\n",
    "<div class=\"toc\"><ul class=\"toc-item\"><li><span><a href=\"#前言\" data-toc-modified-id=\"前言-1\"><span class=\"toc-item-num\">1&nbsp;&nbsp;</span>前言</a></span></li><li><span><a href=\"#实验\" data-toc-modified-id=\"实验-2\"><span class=\"toc-item-num\">2&nbsp;&nbsp;</span>实验</a></span><ul class=\"toc-item\"><li><span><a href=\"#单特征,-单样本预测-(分步)\" data-toc-modified-id=\"单特征,-单样本预测-(分步)-2.1\"><span class=\"toc-item-num\">2.1&nbsp;&nbsp;</span>单特征, 单样本预测 (分步)</a></span></li><li><span><a href=\"#单特征,-单样本预测-(整合)\" data-toc-modified-id=\"单特征,-单样本预测-(整合)-2.2\"><span class=\"toc-item-num\">2.2&nbsp;&nbsp;</span>单特征, 单样本预测 (整合)</a></span></li></ul></li><li><span><a href=\"#实战\" data-toc-modified-id=\"实战-3\"><span class=\"toc-item-num\">3&nbsp;&nbsp;</span>实战</a></span><ul class=\"toc-item\"><li><span><a href=\"#数据清理\" data-toc-modified-id=\"数据清理-3.1\"><span class=\"toc-item-num\">3.1&nbsp;&nbsp;</span>数据清理</a></span><ul class=\"toc-item\"><li><span><a href=\"#数据集信息\" data-toc-modified-id=\"数据集信息-3.1.1\"><span class=\"toc-item-num\">3.1.1&nbsp;&nbsp;</span>数据集信息</a></span></li><li><span><a href=\"#处理空数据\" data-toc-modified-id=\"处理空数据-3.1.2\"><span class=\"toc-item-num\">3.1.2&nbsp;&nbsp;</span>处理空数据</a></span></li><li><span><a href=\"#归一化数据\" data-toc-modified-id=\"归一化数据-3.1.3\"><span class=\"toc-item-num\">3.1.3&nbsp;&nbsp;</span>归一化数据</a></span></li></ul></li><li><span><a href=\"#评估标准-mse和rmse\" data-toc-modified-id=\"评估标准-mse和rmse-3.2\"><span class=\"toc-item-num\">3.2&nbsp;&nbsp;</span>评估标准-mse和rmse</a></span></li><li><span><a href=\"#Sklearn-预测\" data-toc-modified-id=\"Sklearn-预测-3.3\"><span class=\"toc-item-num\">3.3&nbsp;&nbsp;</span>Sklearn 预测</a></span></li></ul></li></ul></div>"
   ]
  },
  {
   "cell_type": "markdown",
   "metadata": {},
   "source": [
    "# 前言 "
   ]
  },
  {
   "cell_type": "markdown",
   "metadata": {},
   "source": [
    "KNN算法是比较简单的机器学习算法. 它属于惰性学习, 没有训练过程. **算法中将和预测样本最近的n个样本的平均特征作为预测结果**\n",
    "\n",
    "**三个步骤**:\n",
    "1. 确定参数标准(比如欧式距离)\n",
    "1. 根据定义的参数计算出前k个元素\n",
    "1. 将这K个元素的平均特征作为其特征\n",
    "\n",
    "**缺点:**\n",
    "1. 计算复杂度高, 适用于小数据集"
   ]
  },
  {
   "cell_type": "markdown",
   "metadata": {},
   "source": [
    "下面两个单元, 第二单元以单特征, 单样本预测为例, 用pandas, numpy解释原理；第三单元用多特征, 用sklearn模块展示knn算法"
   ]
  },
  {
   "cell_type": "markdown",
   "metadata": {},
   "source": [
    "# 实验"
   ]
  },
  {
   "cell_type": "markdown",
   "metadata": {},
   "source": [
    "## 单特征, 单样本预测 (分步)"
   ]
  },
  {
   "cell_type": "markdown",
   "metadata": {},
   "source": [
    "airbnb 数据预测价格, 单特征: accommodates.  单样本: new_listing=3\n",
    "\n",
    "参数标准**距离**为:$$|x-y|$$\n",
    "\n",
    "下面展示距离的频率"
   ]
  },
  {
   "cell_type": "code",
   "execution_count": 25,
   "metadata": {
    "scrolled": false
   },
   "outputs": [
    {
     "name": "stdout",
     "output_type": "stream",
     "text": [
      "1     2294\n",
      "2      503\n",
      "0      461\n",
      "3      279\n",
      "5       73\n",
      "4       35\n",
      "7       22\n",
      "6       17\n",
      "9       12\n",
      "13       8\n",
      "8        7\n",
      "12       6\n",
      "11       4\n",
      "10       2\n",
      "Name: distance, dtype: int64\n"
     ]
    }
   ],
   "source": [
    "import pandas as pd\n",
    "import numpy as np\n",
    "\n",
    "dc_listings = pd.read_csv('dc_airbnb.csv')\n",
    "new_listing = 3\n",
    "dc_listings['distance'] = dc_listings['accommodates'].apply(lambda x: np.abs(x - new_listing))\n",
    "print(dc_listings['distance'].value_counts())"
   ]
  },
  {
   "cell_type": "markdown",
   "metadata": {},
   "source": [
    "将列表以distance从小到大的顺序从上到下排列"
   ]
  },
  {
   "cell_type": "code",
   "execution_count": 26,
   "metadata": {},
   "outputs": [
    {
     "data": {
      "text/html": [
       "<div>\n",
       "<style scoped>\n",
       "    .dataframe tbody tr th:only-of-type {\n",
       "        vertical-align: middle;\n",
       "    }\n",
       "\n",
       "    .dataframe tbody tr th {\n",
       "        vertical-align: top;\n",
       "    }\n",
       "\n",
       "    .dataframe thead th {\n",
       "        text-align: right;\n",
       "    }\n",
       "</style>\n",
       "<table border=\"1\" class=\"dataframe\">\n",
       "  <thead>\n",
       "    <tr style=\"text-align: right;\">\n",
       "      <th></th>\n",
       "      <th>price</th>\n",
       "      <th>distance</th>\n",
       "    </tr>\n",
       "  </thead>\n",
       "  <tbody>\n",
       "    <tr>\n",
       "      <th>577</th>\n",
       "      <td>$185.00</td>\n",
       "      <td>0</td>\n",
       "    </tr>\n",
       "    <tr>\n",
       "      <th>2166</th>\n",
       "      <td>$180.00</td>\n",
       "      <td>0</td>\n",
       "    </tr>\n",
       "    <tr>\n",
       "      <th>3631</th>\n",
       "      <td>$175.00</td>\n",
       "      <td>0</td>\n",
       "    </tr>\n",
       "    <tr>\n",
       "      <th>71</th>\n",
       "      <td>$128.00</td>\n",
       "      <td>0</td>\n",
       "    </tr>\n",
       "    <tr>\n",
       "      <th>1011</th>\n",
       "      <td>$115.00</td>\n",
       "      <td>0</td>\n",
       "    </tr>\n",
       "  </tbody>\n",
       "</table>\n",
       "</div>"
      ],
      "text/plain": [
       "        price  distance\n",
       "577   $185.00         0\n",
       "2166  $180.00         0\n",
       "3631  $175.00         0\n",
       "71    $128.00         0\n",
       "1011  $115.00         0"
      ]
     },
     "execution_count": 26,
     "metadata": {},
     "output_type": "execute_result"
    }
   ],
   "source": [
    "import numpy as np\n",
    "np.random.seed(1)\n",
    "dc_listings = dc_listings.loc[np.random.permutation(len(dc_listings))]\n",
    "dc_listings = dc_listings.sort_values('distance')\n",
    "dc_listings[['price', 'distance']].head(5)"
   ]
  },
  {
   "cell_type": "markdown",
   "metadata": {},
   "source": [
    "以前5个的平均价格作为预测价格"
   ]
  },
  {
   "cell_type": "code",
   "execution_count": 27,
   "metadata": {},
   "outputs": [
    {
     "name": "stdout",
     "output_type": "stream",
     "text": [
      "The pridicted price for 1 accommodate is: 156.6\n"
     ]
    }
   ],
   "source": [
    "stripped_commas = dc_listings['price'].str.replace(',', '')\n",
    "stripped_dollars = stripped_commas.str.replace('$', '')\n",
    "dc_listings['price'] = stripped_dollars.astype('float')\n",
    "mean_price = dc_listings.iloc[0:5]['price'].mean()\n",
    "print('The pridicted price for 1 accommodate is:', mean_price)"
   ]
  },
  {
   "cell_type": "markdown",
   "metadata": {},
   "source": [
    "## 单特征, 单样本预测 (整合)"
   ]
  },
  {
   "cell_type": "markdown",
   "metadata": {},
   "source": [
    "将以上步骤整合在一起如下:"
   ]
  },
  {
   "cell_type": "code",
   "execution_count": 28,
   "metadata": {},
   "outputs": [
    {
     "name": "stdout",
     "output_type": "stream",
     "text": [
      "The pridicted price for 1 accommodate is: 71.8\n",
      "The pridicted price for 2 accommodates is: 96.8\n",
      "The pridicted price for 4 accommodates is: 96.0\n"
     ]
    }
   ],
   "source": [
    "# Brought along the changes we made to the `dc_listings` Dataframe.\n",
    "dc_listings = pd.read_csv('dc_airbnb.csv')\n",
    "stripped_commas = dc_listings['price'].str.replace(',', '')\n",
    "stripped_dollars = stripped_commas.str.replace('$', '')\n",
    "dc_listings['price'] = stripped_dollars.astype('float')\n",
    "dc_listings = dc_listings.loc[np.random.permutation(len(dc_listings))]\n",
    "\n",
    "def predict_price(new_listing):\n",
    "    temp_df = dc_listings.copy()\n",
    "    temp_df['distance'] = temp_df['accommodates'].apply(lambda x: np.abs(x - new_listing))\n",
    "    temp_df = temp_df.sort_values('distance')\n",
    "    nearest_neighbors = temp_df.iloc[0:5]['price']\n",
    "    predicted_price = nearest_neighbors.mean()\n",
    "    return(predicted_price)\n",
    "\n",
    "acc_one = predict_price(1)\n",
    "acc_two = predict_price(2)\n",
    "acc_four = predict_price(4)\n",
    "print('The pridicted price for 1 accommodate is:',acc_one)\n",
    "print('The pridicted price for 2 accommodates is:',acc_two)\n",
    "print('The pridicted price for 4 accommodates is:',acc_four)"
   ]
  },
  {
   "cell_type": "markdown",
   "metadata": {},
   "source": [
    "# 实战 "
   ]
  },
  {
   "cell_type": "markdown",
   "metadata": {},
   "source": [
    "## 数据清理 "
   ]
  },
  {
   "cell_type": "markdown",
   "metadata": {},
   "source": [
    "### 数据集信息"
   ]
  },
  {
   "cell_type": "code",
   "execution_count": 35,
   "metadata": {},
   "outputs": [
    {
     "name": "stdout",
     "output_type": "stream",
     "text": [
      "<class 'pandas.core.frame.DataFrame'>\n",
      "Int64Index: 3723 entries, 574 to 1061\n",
      "Data columns (total 9 columns):\n",
      "Unnamed: 0           3723 non-null int64\n",
      "accommodates         3723 non-null int64\n",
      "bedrooms             3702 non-null float64\n",
      "bathrooms            3696 non-null float64\n",
      "beds                 3712 non-null float64\n",
      "price                3723 non-null float64\n",
      "minimum_nights       3723 non-null int64\n",
      "maximum_nights       3723 non-null int64\n",
      "number_of_reviews    3723 non-null int64\n",
      "dtypes: float64(4), int64(5)\n",
      "memory usage: 290.9 KB\n",
      "None\n"
     ]
    }
   ],
   "source": [
    "import pandas as pd\n",
    "import numpy as np\n",
    "np.random.seed(1)\n",
    "\n",
    "dc_listings = pd.read_csv('dc_airbnb.csv')\n",
    "dc_listings = dc_listings.loc[np.random.permutation(len(dc_listings))]\n",
    "stripped_commas = dc_listings['price'].str.replace(',', '')\n",
    "stripped_dollars = stripped_commas.str.replace('$', '')\n",
    "dc_listings['price'] = stripped_dollars.astype('float')\n",
    "print(dc_listings.info())"
   ]
  },
  {
   "cell_type": "markdown",
   "metadata": {},
   "source": [
    "### 处理空数据"
   ]
  },
  {
   "cell_type": "code",
   "execution_count": 36,
   "metadata": {
    "scrolled": true
   },
   "outputs": [
    {
     "name": "stdout",
     "output_type": "stream",
     "text": [
      "处理之前:\n",
      "Unnamed: 0            0\n",
      "accommodates          0\n",
      "bedrooms             21\n",
      "bathrooms            27\n",
      "beds                 11\n",
      "price                 0\n",
      "minimum_nights        0\n",
      "maximum_nights        0\n",
      "number_of_reviews     0\n",
      "dtype: int64\n",
      "\n",
      "处理之后:\n",
      "Unnamed: 0           0\n",
      "accommodates         0\n",
      "bedrooms             0\n",
      "bathrooms            0\n",
      "beds                 0\n",
      "price                0\n",
      "minimum_nights       0\n",
      "maximum_nights       0\n",
      "number_of_reviews    0\n",
      "dtype: int64\n"
     ]
    }
   ],
   "source": [
    "print('处理之前:')\n",
    "print(dc_listings.isnull().sum())\n",
    "print()\n",
    "dc_listings = dc_listings.dropna(axis=0)\n",
    "print('处理之后:')\n",
    "print( dc_listings.isnull().sum())"
   ]
  },
  {
   "cell_type": "markdown",
   "metadata": {},
   "source": [
    "### 归一化数据 "
   ]
  },
  {
   "cell_type": "code",
   "execution_count": 37,
   "metadata": {},
   "outputs": [
    {
     "name": "stdout",
     "output_type": "stream",
     "text": [
      "      Unnamed: 0  accommodates  bedrooms  bathrooms      beds  price  \\\n",
      "574    -1.203033     -0.596544 -0.249467  -0.439151 -0.546858  125.0   \n",
      "1593   -0.255599     -0.596544 -0.249467   0.412923 -0.546858   85.0   \n",
      "3091    1.137193     -1.095499 -0.249467  -1.291226 -0.546858   50.0   \n",
      "\n",
      "      minimum_nights  maximum_nights  number_of_reviews  \n",
      "574        -0.341375       -0.016604           4.579650  \n",
      "1593       -0.341375       -0.016603           1.159275  \n",
      "3091       -0.341375       -0.016573          -0.482505  \n"
     ]
    }
   ],
   "source": [
    "normalized_listings = (dc_listings - dc_listings.mean()) / dc_listings.std()\n",
    "normalized_listings['price'] = dc_listings['price']\n",
    "print(normalized_listings.head(3))"
   ]
  },
  {
   "cell_type": "markdown",
   "metadata": {},
   "source": [
    "## 评估标准-mse和rmse"
   ]
  },
  {
   "cell_type": "markdown",
   "metadata": {},
   "source": [
    "均方误差(mean square error)定义如下:\n",
    "\n",
    "假设正式值为 $x_1, x_2,...x_n$, 预测值为$p_1, p_2...p_n$,mse为:\n",
    "$$RMS=\\frac{\\sum_1^n(x_i-p_i)^2}{n}$$\n",
    "\n",
    "RMSE为:\n",
    "$$RMSE=\\sqrt{RMS}$$"
   ]
  },
  {
   "cell_type": "code",
   "execution_count": 40,
   "metadata": {},
   "outputs": [],
   "source": [
    "from sklearn.metrics import mean_squared_error"
   ]
  },
  {
   "cell_type": "markdown",
   "metadata": {},
   "source": [
    "## Sklearn 预测"
   ]
  },
  {
   "cell_type": "code",
   "execution_count": 44,
   "metadata": {},
   "outputs": [
    {
     "name": "stdout",
     "output_type": "stream",
     "text": [
      "mse is: 15455.168464163822\n",
      "rmse is: 124.31881782000592\n"
     ]
    }
   ],
   "source": [
    "features = ['accommodates', 'bedrooms', 'bathrooms', 'beds', 'minimum_nights', 'maximum_nights', 'number_of_reviews']\n",
    "from sklearn.neighbors import KNeighborsRegressor\n",
    "#划分 train, test set\n",
    "train_df = normalized_listings.iloc[0:2792]\n",
    "test_df = normalized_listings.iloc[2792:]\n",
    "\n",
    "knn = KNeighborsRegressor(n_neighbors=5, algorithm='brute')\n",
    "train_features = train_df[features]\n",
    "train_target = train_df['price']\n",
    "test_features = test_df[features]\n",
    "# 拟合\n",
    "knn.fit(train_features, train_target)\n",
    "# 预测\n",
    "all_features_predictions = knn.predict(test_features)\n",
    "all_features_mse = mean_squared_error(test_df['price'], all_features_predictions)\n",
    "all_features_rmse = np.power(all_features_mse, 0.5)\n",
    "print('mse is:',all_features_mse)\n",
    "print('rmse is:', all_features_rmse)"
   ]
  }
 ],
 "metadata": {
  "kernelspec": {
   "display_name": "Python 3",
   "language": "python",
   "name": "python3"
  },
  "language_info": {
   "codemirror_mode": {
    "name": "ipython",
    "version": 3
   },
   "file_extension": ".py",
   "mimetype": "text/x-python",
   "name": "python",
   "nbconvert_exporter": "python",
   "pygments_lexer": "ipython3",
   "version": "3.6.4"
  },
  "toc": {
   "nav_menu": {},
   "number_sections": true,
   "sideBar": true,
   "skip_h1_title": false,
   "title_cell": "Table of Contents",
   "title_sidebar": "Contents",
   "toc_cell": true,
   "toc_position": {},
   "toc_section_display": true,
   "toc_window_display": true
  }
 },
 "nbformat": 4,
 "nbformat_minor": 2
}
