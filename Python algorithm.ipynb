{
 "cells": [
  {
   "cell_type": "markdown",
   "metadata": {},
   "source": [
    "### p86 The celebrity problem\n",
    "---\n",
    "**Inductive way of think**\n"
   ]
  },
  {
   "cell_type": "code",
   "execution_count": 19,
   "metadata": {
    "collapsed": true
   },
   "outputs": [],
   "source": [
    "from random import randrange\n",
    "n = 100\n",
    "G = [[randrange(2) for i in range(n)] for i in range(n)]"
   ]
  },
  {
   "cell_type": "code",
   "execution_count": 20,
   "metadata": {},
   "outputs": [
    {
     "data": {
      "text/plain": [
       "87"
      ]
     },
     "execution_count": 20,
     "metadata": {},
     "output_type": "execute_result"
    }
   ],
   "source": [
    "c = randrange(n)\n",
    "for i in range(n):\n",
    "    G[i][c] = True\n",
    "    G[c][i] = False\n",
    "c"
   ]
  },
  {
   "cell_type": "code",
   "execution_count": 24,
   "metadata": {
    "collapsed": true
   },
   "outputs": [],
   "source": [
    "def celeb(G):\n",
    "    n = len(G)\n",
    "    u, v = 0, 1\n",
    "    for c in range(2, n+1):\n",
    "        if G[u][v]:\n",
    "            u = c\n",
    "        else:\n",
    "            v = c\n",
    "    # ？？？？\n",
    "    if u == n:\n",
    "        c = v\n",
    "    else:\n",
    "        c = u\n",
    "        \n",
    "    for i in range(n):\n",
    "        if c == v:\n",
    "            # continue跳出本次循环， break 跳出整个循环\n",
    "            continue\n",
    "        if G[c][i]:\n",
    "            break\n",
    "        if not G[i][c]:\n",
    "            break\n",
    "        return c\n",
    "    return None"
   ]
  },
  {
   "cell_type": "code",
   "execution_count": 25,
   "metadata": {},
   "outputs": [
    {
     "data": {
      "text/plain": [
       "87"
      ]
     },
     "execution_count": 25,
     "metadata": {},
     "output_type": "execute_result"
    }
   ],
   "source": [
    "celeb(G)"
   ]
  },
  {
   "cell_type": "markdown",
   "metadata": {},
   "source": [
    "# Topological sorting"
   ]
  },
  {
   "cell_type": "code",
   "execution_count": 4,
   "metadata": {
    "collapsed": true
   },
   "outputs": [],
   "source": [
    "#adjacency set representation of graph\n",
    "a, b, c, d, e, f = range(6)\n",
    "G = {a:{b, f}, \n",
    "    b:{f, d, c}, \n",
    "    c:{d},\n",
    "    d:{f, e},\n",
    "    e:{f},\n",
    "    f:set()}\n"
   ]
  },
  {
   "cell_type": "code",
   "execution_count": 29,
   "metadata": {},
   "outputs": [
    {
     "data": {
      "text/plain": [
       "[1, 2, 5, 6, 8]"
      ]
     },
     "execution_count": 29,
     "metadata": {},
     "output_type": "execute_result"
    }
   ],
   "source": [
    "# insertion sort\n",
    "def insertion_sort(seq, last_idx):\n",
    "    if last_idx == 0:\n",
    "        return \n",
    "    value = seq[last_idx]\n",
    "    insertion_sort(seq, last_idx -1)\n",
    "    # assuming it hold for the case of n-1\n",
    "    j = last_idx\n",
    "    while j>0 and seq[j-1] > seq[j]:\n",
    "        j -= 1\n",
    "        seq[j], seq[j-1] = seq[j-1], seq[j]\n",
    "   \n",
    "\n",
    "seq = [2, 5, 8, 6, 1]\n",
    "insertion_sort(seq, len(seq) -1)\n",
    "seq"
   ]
  },
  {
   "cell_type": "code",
   "execution_count": 38,
   "metadata": {},
   "outputs": [
    {
     "data": {
      "text/plain": [
       "[0, 1, 2, 3, 4, 5]"
      ]
     },
     "execution_count": 38,
     "metadata": {},
     "output_type": "execute_result"
    }
   ],
   "source": [
    "# naive algorithm for topological sorting  O(n2)\n",
    "\n",
    "# a, b, c = range(3)\n",
    "# G = {a:{b, c}, b:{c}, c:{}}\n",
    "\n",
    "def naive_topsort(G, S=None):\n",
    "    if S == None:\n",
    "        S = set(G)\n",
    "    if len(S)== 1:\n",
    "        return list(S)\n",
    "    u = S.pop()\n",
    "    seq = naive_topsort(G, S)\n",
    "    \n",
    "    idx = 0\n",
    "    for i, v in enumerate(seq):\n",
    "        if u in G[v]:\n",
    "            idx = i + 1\n",
    "    seq.insert(idx, u)\n",
    "    \n",
    "    return seq\n",
    "\n",
    "naive_topsort(G)\n",
    "        \n",
    "    "
   ]
  },
  {
   "cell_type": "code",
   "execution_count": 41,
   "metadata": {
    "collapsed": true
   },
   "outputs": [],
   "source": [
    "# selection sort\n",
    "def selection_sort(seq, last_idx):\n",
    "    if last_idx == 0:\n",
    "        return \n",
    "    selection_sort(seq, last_idx-1)\n",
    "    max_j = last_idx\n",
    "    for j in range(last_idx):\n",
    "        if seq[j] > seq[max_j]:\n",
    "            max_j = j\n",
    "    seq[max_j], seq[j] = seq[j], seq[max_j]\n",
    "    \n",
    "# similiar to selection sort O(n)\n",
    "\n",
    "def topsort(G):\n",
    "    # income edge of every node\n",
    "    count = dict((u, 0) for u in G.keys())\n",
    "    for v in G.values():\n",
    "        for u in v:\n",
    "            count[u] += 1\n",
    "    Q = [u for u in count.keys() if count[u] == 0]\n",
    "    result = []\n",
    "    while len(Q) != 0:\n",
    "        u = Q.pop()\n",
    "        result.append(u)\n",
    "        for out in G[u]:\n",
    "            count[out] -=1\n",
    "            if count[out] == 0:\n",
    "                Q.append(out)\n",
    "    return result\n",
    "        "
   ]
  },
  {
   "cell_type": "code",
   "execution_count": 1,
   "metadata": {
    "collapsed": true
   },
   "outputs": [
    {
     "ename": "NameError",
     "evalue": "name 'topsort' is not defined",
     "output_type": "error",
     "traceback": [
      "\u001b[0;31m---------------------------------------------------------------------------\u001b[0m",
      "\u001b[0;31mNameError\u001b[0m                                 Traceback (most recent call last)",
      "\u001b[0;32m<ipython-input-1-f8618ed0b7a1>\u001b[0m in \u001b[0;36m<module>\u001b[0;34m()\u001b[0m\n\u001b[0;32m----> 1\u001b[0;31m \u001b[0mtopsort\u001b[0m\u001b[0;34m(\u001b[0m\u001b[0mG\u001b[0m\u001b[0;34m)\u001b[0m\u001b[0;34m\u001b[0m\u001b[0m\n\u001b[0m",
      "\u001b[0;31mNameError\u001b[0m: name 'topsort' is not defined"
     ]
    }
   ],
   "source": [
    "topsort(G)"
   ]
  },
  {
   "cell_type": "markdown",
   "metadata": {},
   "source": [
    "# Chapter 5 Traversal "
   ]
  },
  {
   "cell_type": "markdown",
   "metadata": {},
   "source": [
    "walk function\n",
    "--\n",
    "\n",
    "<img src='images/undirected.png' style='100%'>\n",
    "\n"
   ]
  },
  {
   "cell_type": "code",
   "execution_count": 51,
   "metadata": {
    "collapsed": true
   },
   "outputs": [],
   "source": [
    "# graph representation using adjacency set\n",
    "a, b, c, d = range(4)\n",
    "G1 = {a:{b, c, d},\n",
    "    b: {a, c, d},\n",
    "    c: {a, b, d},\n",
    "    d: {a, b, c}}\n"
   ]
  },
  {
   "cell_type": "code",
   "execution_count": 28,
   "metadata": {
    "collapsed": true
   },
   "outputs": [],
   "source": [
    "# predecessor and to-do list\n",
    "def walk(G, s, S=set()):\n",
    "    P, T = dict(), set()\n",
    "#     print('type s', type(s))\n",
    "    \n",
    "    P[s] = None\n",
    "    T.add(s)\n",
    "    while T:\n",
    "        u = T.pop()\n",
    "#         print('type G[u] ', type(G[u]))\n",
    "        for v in G[u].difference(P, S):\n",
    "            T.add(v)\n",
    "            P[v] = u\n",
    "    return P    \n",
    "    \n",
    "    "
   ]
  },
  {
   "cell_type": "code",
   "execution_count": 34,
   "metadata": {},
   "outputs": [
    {
     "name": "stdout",
     "output_type": "stream",
     "text": [
      "{0: None, 1: 0, 2: 0, 3: 0}\n"
     ]
    }
   ],
   "source": [
    "print(walk(G1, a))\n",
    "# print(walk(G2, a))"
   ]
  },
  {
   "cell_type": "code",
   "execution_count": 37,
   "metadata": {
    "collapsed": true
   },
   "outputs": [],
   "source": [
    "# find all connected components\n",
    "def components(G):\n",
    "    comp = []\n",
    "    seen = set()\n",
    "    for u in G:\n",
    "        if u in seen:\n",
    "            continue\n",
    "        C = walk(G, u)\n",
    "        seen.update(C)\n",
    "        comp.append(C)\n",
    "    return comp"
   ]
  },
  {
   "cell_type": "code",
   "execution_count": 38,
   "metadata": {},
   "outputs": [
    {
     "data": {
      "text/plain": [
       "[{0: None, 1: 0, 2: 0, 3: 0}]"
      ]
     },
     "execution_count": 38,
     "metadata": {},
     "output_type": "execute_result"
    }
   ],
   "source": [
    "components(G)"
   ]
  },
  {
   "cell_type": "markdown",
   "metadata": {},
   "source": [
    "## A walk in the park"
   ]
  },
  {
   "cell_type": "code",
   "execution_count": 36,
   "metadata": {
    "collapsed": true
   },
   "outputs": [],
   "source": [
    "# resursive version depth first research\n",
    "def rec_dfs(G, s, S=None):\n",
    "    if S == None:\n",
    "        S = set()\n",
    "    S.add(s)\n",
    "    for u in G[s]:\n",
    "        if u in S:\n",
    "            continue\n",
    "        rec_dfs(G, u, S)\n",
    "    return S\n",
    "#         yield u"
   ]
  },
  {
   "cell_type": "code",
   "execution_count": 85,
   "metadata": {},
   "outputs": [
    {
     "data": {
      "text/plain": [
       "[1, 2, 3]"
      ]
     },
     "execution_count": 85,
     "metadata": {},
     "output_type": "execute_result"
    }
   ],
   "source": [
    "# S = None\n",
    "list(rec_dfs(G, a, S))"
   ]
  },
  {
   "cell_type": "markdown",
   "metadata": {},
   "source": [
    "## Go deep"
   ]
  },
  {
   "cell_type": "code",
   "execution_count": 38,
   "metadata": {
    "collapsed": true
   },
   "outputs": [],
   "source": [
    "# iterative depth-first-search\n",
    "def iter_dfs(G, s):\n",
    "    S, Q = set(), []\n",
    "    Q.append(s)\n",
    "    while Q:\n",
    "        u =  Q.pop()\n",
    "        if u in S:\n",
    "            continue\n",
    "        S.add(s)\n",
    "        Q.extend(G[u])\n",
    "        yield u    "
   ]
  },
  {
   "cell_type": "code",
   "execution_count": 88,
   "metadata": {
    "scrolled": true
   },
   "outputs": [
    {
     "ename": "KeyboardInterrupt",
     "evalue": "",
     "output_type": "error",
     "traceback": [
      "\u001b[0;31m---------------------------------------------------------------------------\u001b[0m",
      "\u001b[0;31mKeyboardInterrupt\u001b[0m                         Traceback (most recent call last)",
      "\u001b[0;32m<ipython-input-88-d62413765f50>\u001b[0m in \u001b[0;36m<module>\u001b[0;34m()\u001b[0m\n\u001b[0;32m----> 1\u001b[0;31m \u001b[0mlist\u001b[0m\u001b[0;34m(\u001b[0m\u001b[0miter_dfs\u001b[0m\u001b[0;34m(\u001b[0m\u001b[0mG\u001b[0m\u001b[0;34m,\u001b[0m \u001b[0ma\u001b[0m\u001b[0;34m)\u001b[0m\u001b[0;34m)\u001b[0m\u001b[0;34m\u001b[0m\u001b[0m\n\u001b[0m",
      "\u001b[0;32m<ipython-input-87-89afb68092a8>\u001b[0m in \u001b[0;36miter_dfs\u001b[0;34m(G, s)\u001b[0m\n\u001b[1;32m      5\u001b[0m     \u001b[0;32mwhile\u001b[0m \u001b[0mQ\u001b[0m\u001b[0;34m:\u001b[0m\u001b[0;34m\u001b[0m\u001b[0m\n\u001b[1;32m      6\u001b[0m         \u001b[0mu\u001b[0m \u001b[0;34m=\u001b[0m  \u001b[0mQ\u001b[0m\u001b[0;34m.\u001b[0m\u001b[0mpop\u001b[0m\u001b[0;34m(\u001b[0m\u001b[0;34m)\u001b[0m\u001b[0;34m\u001b[0m\u001b[0m\n\u001b[0;32m----> 7\u001b[0;31m         \u001b[0;32mif\u001b[0m \u001b[0mu\u001b[0m \u001b[0;32min\u001b[0m \u001b[0mS\u001b[0m\u001b[0;34m:\u001b[0m\u001b[0;34m\u001b[0m\u001b[0m\n\u001b[0m\u001b[1;32m      8\u001b[0m             \u001b[0;32mcontinue\u001b[0m\u001b[0;34m\u001b[0m\u001b[0m\n\u001b[1;32m      9\u001b[0m         \u001b[0mS\u001b[0m\u001b[0;34m.\u001b[0m\u001b[0madd\u001b[0m\u001b[0;34m(\u001b[0m\u001b[0ms\u001b[0m\u001b[0;34m)\u001b[0m\u001b[0;34m\u001b[0m\u001b[0m\n",
      "\u001b[0;31mKeyboardInterrupt\u001b[0m: "
     ]
    }
   ],
   "source": [
    "list(iter_dfs(G, a))"
   ]
  },
  {
   "cell_type": "code",
   "execution_count": 63,
   "metadata": {
    "collapsed": true
   },
   "outputs": [],
   "source": [
    "item = [3, 4, 5, 6]\n",
    "item2 = [5, 6, 7, 8]\n",
    "item.extend(item2)"
   ]
  },
  {
   "cell_type": "code",
   "execution_count": 64,
   "metadata": {},
   "outputs": [
    {
     "data": {
      "text/plain": [
       "[3, 4, 5, 6, 5, 6, 7, 8]"
      ]
     },
     "execution_count": 64,
     "metadata": {},
     "output_type": "execute_result"
    }
   ],
   "source": [
    "item"
   ]
  },
  {
   "cell_type": "code",
   "execution_count": 67,
   "metadata": {
    "collapsed": true
   },
   "outputs": [],
   "source": [
    "def fab(max): \n",
    "    n, a, b = 0, 0, 1 \n",
    "    while n < max: \n",
    "        yield b \n",
    "        # print b \n",
    "        a, b = b, a + b \n",
    "        n = n + 1 "
   ]
  },
  {
   "cell_type": "code",
   "execution_count": 69,
   "metadata": {},
   "outputs": [
    {
     "data": {
      "text/plain": [
       "<generator object fab at 0x7f40cf36b050>"
      ]
     },
     "execution_count": 69,
     "metadata": {},
     "output_type": "execute_result"
    }
   ],
   "source": [
    "fab(5)"
   ]
  },
  {
   "cell_type": "code",
   "execution_count": 71,
   "metadata": {},
   "outputs": [
    {
     "name": "stdout",
     "output_type": "stream",
     "text": [
      "1\n",
      "1\n",
      "2\n",
      "3\n",
      "5\n"
     ]
    }
   ],
   "source": [
    "for n in fab(5):\n",
    "    print n"
   ]
  },
  {
   "cell_type": "code",
   "execution_count": 82,
   "metadata": {},
   "outputs": [
    {
     "data": {
      "text/plain": [
       "[1, 1, 2, 3, 5]"
      ]
     },
     "execution_count": 82,
     "metadata": {},
     "output_type": "execute_result"
    }
   ],
   "source": [
    "f = fab(5)\n",
    "list(f)"
   ]
  },
  {
   "cell_type": "code",
   "execution_count": 79,
   "metadata": {},
   "outputs": [
    {
     "data": {
      "text/plain": [
       "1"
      ]
     },
     "execution_count": 79,
     "metadata": {},
     "output_type": "execute_result"
    }
   ],
   "source": [
    "f.next()"
   ]
  },
  {
   "cell_type": "code",
   "execution_count": 80,
   "metadata": {},
   "outputs": [
    {
     "data": {
      "text/plain": [
       "1"
      ]
     },
     "execution_count": 80,
     "metadata": {},
     "output_type": "execute_result"
    }
   ],
   "source": [
    "f.next()"
   ]
  },
  {
   "cell_type": "code",
   "execution_count": 81,
   "metadata": {},
   "outputs": [
    {
     "data": {
      "text/plain": [
       "2"
      ]
     },
     "execution_count": 81,
     "metadata": {},
     "output_type": "execute_result"
    }
   ],
   "source": [
    "f.next()"
   ]
  },
  {
   "cell_type": "markdown",
   "metadata": {
    "collapsed": true
   },
   "source": [
    "## DFS and topological sorting "
   ]
  },
  {
   "cell_type": "markdown",
   "metadata": {},
   "source": [
    "<img src='image/directed.png' style='100%'>"
   ]
  },
  {
   "cell_type": "markdown",
   "metadata": {},
   "source": [
    "<img src = 'images/directed1.png' style='90%'>"
   ]
  },
  {
   "cell_type": "code",
   "execution_count": 11,
   "metadata": {},
   "outputs": [
    {
     "data": {
      "text/plain": [
       "{0: {1, 5}, 1: {2, 3, 5}, 2: {3}, 3: {4, 5}, 4: {5}, 5: set()}"
      ]
     },
     "execution_count": 11,
     "metadata": {},
     "output_type": "execute_result"
    }
   ],
   "source": [
    "a, b, c, d, e, f = range(6)\n",
    "G = {a:{b, f}, \n",
    "    b:{f, d, c}, \n",
    "    c:{d},\n",
    "    d:{f, e},\n",
    "    e:{f},\n",
    "    f:set()}\n",
    "G"
   ]
  },
  {
   "cell_type": "code",
   "execution_count": 8,
   "metadata": {
    "collapsed": true
   },
   "outputs": [],
   "source": [
    "# recursive version dfs with timestamp \n",
    "def dfs(G, s, d, f, t=0, S=None):\n",
    "    if S == None:\n",
    "        S = set()\n",
    "    d[s] = t;\n",
    "    t += 1\n",
    "    S.add(s)\n",
    "    for u in G[s]:\n",
    "        if u in S:\n",
    "            continue\n",
    "        t = dfs(G, u, d, f, t, S)\n",
    "    f[s] =t\n",
    "    t += 1\n",
    "    return t    "
   ]
  },
  {
   "cell_type": "code",
   "execution_count": 39,
   "metadata": {
    "scrolled": false
   },
   "outputs": [
    {
     "name": "stdout",
     "output_type": "stream",
     "text": [
      "('discovery', {0: 0, 1: 1, 2: 2, 3: 3, 4: 4, 5: 5})\n",
      "('finish', {0: 11, 1: 10, 2: 9, 3: 8, 4: 7, 5: 6})\n"
     ]
    }
   ],
   "source": [
    "discovery, finish = dict(), dict()\n",
    "dfs(G, a, discovery, finish)\n",
    "print('discovery', discovery)\n",
    "print('finish', finish)"
   ]
  },
  {
   "cell_type": "code",
   "execution_count": 26,
   "metadata": {
    "collapsed": true
   },
   "outputs": [],
   "source": [
    "# 基于深度优先搜索的拓扑排序\n",
    "def dfs_topsort(G):\n",
    "    S, res = set(), []\n",
    "    def recurse(u):\n",
    "        if u in S:\n",
    "            return\n",
    "        S.add(u)\n",
    "        for v in G[u]:\n",
    "            recurse(v)\n",
    "        res.append(u)\n",
    "    for u in G:\n",
    "        recurse(u)\n",
    "    res.reverse()\n",
    "    return res"
   ]
  },
  {
   "cell_type": "code",
   "execution_count": 27,
   "metadata": {},
   "outputs": [
    {
     "name": "stdout",
     "output_type": "stream",
     "text": [
      "('Result of topological sort based on DFS:', [0, 1, 2, 3, 4, 5])\n"
     ]
    }
   ],
   "source": [
    "print('Result of topological sort based on DFS:', dfs_topsort(G))"
   ]
  },
  {
   "cell_type": "code",
   "execution_count": 1,
   "metadata": {},
   "outputs": [
    {
     "data": {
      "text/plain": [
       "{1, 2, 3, 4}"
      ]
     },
     "execution_count": 1,
     "metadata": {},
     "output_type": "execute_result"
    }
   ],
   "source": [
    "a = {1, 2, 3, 4}\n",
    "a"
   ]
  },
  {
   "cell_type": "code",
   "execution_count": 2,
   "metadata": {
    "collapsed": true
   },
   "outputs": [],
   "source": [
    "a.update([3, 4, 5])"
   ]
  },
  {
   "cell_type": "code",
   "execution_count": 3,
   "metadata": {},
   "outputs": [
    {
     "data": {
      "text/plain": [
       "{1, 2, 3, 4, 5}"
      ]
     },
     "execution_count": 3,
     "metadata": {},
     "output_type": "execute_result"
    }
   ],
   "source": [
    "a"
   ]
  },
  {
   "cell_type": "code",
   "execution_count": 4,
   "metadata": {
    "collapsed": true
   },
   "outputs": [],
   "source": [
    "a.update({5: 'g', 6: 'h' })"
   ]
  },
  {
   "cell_type": "code",
   "execution_count": 5,
   "metadata": {},
   "outputs": [
    {
     "data": {
      "text/plain": [
       "{1, 2, 3, 4, 5, 6}"
      ]
     },
     "execution_count": 5,
     "metadata": {},
     "output_type": "execute_result"
    }
   ],
   "source": [
    "a"
   ]
  },
  {
   "cell_type": "code",
   "execution_count": null,
   "metadata": {
    "collapsed": true
   },
   "outputs": [],
   "source": []
  }
 ],
 "metadata": {
  "kernelspec": {
   "display_name": "Python 3",
   "language": "python",
   "name": "python3"
  },
  "language_info": {
   "codemirror_mode": {
    "name": "ipython",
    "version": 3
   },
   "file_extension": ".py",
   "mimetype": "text/x-python",
   "name": "python",
   "nbconvert_exporter": "python",
   "pygments_lexer": "ipython3",
   "version": "3.6.4"
  }
 },
 "nbformat": 4,
 "nbformat_minor": 2
}
