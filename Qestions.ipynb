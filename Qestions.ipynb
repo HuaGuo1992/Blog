{
 "cells": [
  {
   "cell_type": "markdown",
   "metadata": {},
   "source": [
    "# Questions "
   ]
  },
  {
   "cell_type": "markdown",
   "metadata": {},
   "source": [
    "1. in 操作：　python list O(n(  python dict O(1)   为啥list是数组，ｄｉｃｔ是链表？？？"
   ]
  },
  {
   "cell_type": "code",
   "execution_count": 1,
   "metadata": {
    "collapsed": true
   },
   "outputs": [],
   "source": [
    "import numpy as np\n",
    "from timeit import Timer\n",
    "import random\n",
    "import matplotlib.pyplot as plt\n",
    "%matplotlib inline"
   ]
  },
  {
   "cell_type": "markdown",
   "metadata": {},
   "source": [
    "## 1.17 Programming Exercise"
   ]
  },
  {
   "cell_type": "code",
   "execution_count": 1,
   "metadata": {},
   "outputs": [],
   "source": [
    "def gcd(m,n):\n",
    "    while m%n != 0:\n",
    "        oldm = m\n",
    "        oldn = n\n",
    "\n",
    "        m = oldn\n",
    "        n = oldm%oldn\n",
    "    return n\n",
    "\n",
    "class Fraction:\n",
    "     def __init__(self,top,bottom):\n",
    "         self.num = top\n",
    "         self.den = bottom\n",
    "\n",
    "     def __str__(self):\n",
    "         return str(self.num)+\"/\"+str(self.den)\n",
    "\n",
    "     def show(self):\n",
    "         print(self.num,\"/\",self.den)\n",
    "\n",
    "     def __add__(self,otherfraction):\n",
    "         newnum = self.num*otherfraction.den + \\\n",
    "                      self.den*otherfraction.num\n",
    "         newden = self.den * otherfraction.den\n",
    "         common = gcd(newnum,newden)\n",
    "         return Fraction(newnum//common,newden//common)\n",
    "\n",
    "     def __eq__(self, other):\n",
    "         firstnum = self.num * other.den\n",
    "         secondnum = other.num * self.den\n",
    "\n",
    "         return firstnum == secondnum\n",
    "\n"
   ]
  },
  {
   "cell_type": "markdown",
   "metadata": {},
   "source": [
    "## 2.11 Programming Exercises"
   ]
  },
  {
   "cell_type": "code",
   "execution_count": 21,
   "metadata": {},
   "outputs": [
    {
     "data": {
      "text/plain": [
       "(0, 1)"
      ]
     },
     "execution_count": 21,
     "metadata": {},
     "output_type": "execute_result"
    },
    {
     "data": {
      "image/png": "[encoded data removed]",
      "text/plain": [
       "<matplotlib.figure.Figure at 0x7fac3c836410>"
      ]
     },
     "metadata": {},
     "output_type": "display_data"
    }
   ],
   "source": [
    "# Q1\n",
    "import numpy as np\n",
    "from timeit import Timer\n",
    "import random\n",
    "import matplotlib.pyplot as plt\n",
    "%matplotlib inline\n",
    "\n",
    "times = []\n",
    "for i in range(1, 1000):\n",
    "    lst = list(range(i))\n",
    "    index_timer = Timer('lst[random.randrange(%d)]'%i, 'from __main__ import lst, random')\n",
    "    time = index_timer.timeit(number=1000)\n",
    "    times.append(time)\n",
    "\n",
    "    \n",
    "plt.plot(times)\n",
    "plt.ylim([0, 1])"
   ]
  },
  {
   "cell_type": "code",
   "execution_count": 56,
   "metadata": {
    "scrolled": true
   },
   "outputs": [
    {
     "data": {
      "text/plain": [
       "(0, 1)"
      ]
     },
     "execution_count": 56,
     "metadata": {},
     "output_type": "execute_result"
    },
    {
     "data": {
      "image/png": "[encoded data removed]",
      "text/plain": [
       "<matplotlib.figure.Figure at 0x7fac3c489890>"
      ]
     },
     "metadata": {},
     "output_type": "display_data"
    }
   ],
   "source": [
    "#Q2 \n",
    "gets = []\n",
    "sets = []\n",
    "\n",
    "for i in range(1, 1000):\n",
    "    dic = {j: None for j in range(i)}\n",
    "    get_timer = Timer('dic[random.randrange(%d)]'%i, 'from __main__ import dic, random')\n",
    "    get_time = get_timer.timeit(number =1000)\n",
    "    gets.append(get_time)\n",
    "    set_timer = Timer('dic[random.randrange(%d)] = 3'%i, 'from __main__ import dic, random')\n",
    "    set_time = set_timer.timeit(number=1000)\n",
    "    sets.append(set_time)\n",
    "    \n",
    "plt.plot(gets)\n",
    "plt.plot(sets)\n",
    "plt.ylim([0, 1])"
   ]
  },
  {
   "cell_type": "code",
   "execution_count": 8,
   "metadata": {
    "scrolled": true
   },
   "outputs": [
    {
     "data": {
      "text/plain": [
       "[0, 1, 2]"
      ]
     },
     "execution_count": 8,
     "metadata": {},
     "output_type": "execute_result"
    }
   ],
   "source": [
    "i = 3\n",
    "x = range(3)\n",
    "random.randrange(3)\n",
    "x"
   ]
  },
  {
   "cell_type": "markdown",
   "metadata": {
    "collapsed": true
   },
   "source": [
    "#  Chapter 3. Basic Data Stracture"
   ]
  },
  {
   "cell_type": "markdown",
   "metadata": {},
   "source": [
    "## implement a stack instance"
   ]
  },
  {
   "cell_type": "code",
   "execution_count": 3,
   "metadata": {
    "collapsed": true
   },
   "outputs": [],
   "source": [
    "# implement a stack instance\n",
    "\n",
    "class Stack:\n",
    "    \n",
    "    def __init__(self):\n",
    "        self.stack = []\n",
    "    \n",
    "    def push(self, item):\n",
    "        self.stack.append(item)\n",
    "        \n",
    "    def pop(self):\n",
    "        return self.stack.pop()\n",
    "        \n",
    "    def peek(self):\n",
    "#         print ('self.stack ', self.stack)\n",
    "        return self.stack[-1]\n",
    "    \n",
    "    def size(self):\n",
    "        return len(self.stack)\n",
    "        \n",
    "    def isEmpty(self):\n",
    "        if self.size()==0:\n",
    "            return True\n",
    "        else: \n",
    "            return False\n",
    "    \n",
    "    "
   ]
  },
  {
   "cell_type": "code",
   "execution_count": 16,
   "metadata": {},
   "outputs": [
    {
     "name": "stdout",
     "output_type": "stream",
     "text": [
      "True\n",
      "dog\n",
      "3\n",
      "False\n",
      "8.4\n",
      "True\n",
      "2\n"
     ]
    }
   ],
   "source": [
    "s = Stack()\n",
    "print(s.isEmpty())\n",
    "s.push(4)\n",
    "s.push('dog')\n",
    "print(s.peek())\n",
    "s.push(True)\n",
    "print(s.size())\n",
    "print(s.isEmpty())\n",
    "s.push(8.4)\n",
    "print(s.pop())\n",
    "print(s.pop())\n",
    "print(s.size())"
   ]
  },
  {
   "cell_type": "markdown",
   "metadata": {},
   "source": [
    "### inbalance parentheses proble with stack "
   ]
  },
  {
   "cell_type": "code",
   "execution_count": 105,
   "metadata": {},
   "outputs": [
    {
     "name": "stdout",
     "output_type": "stream",
     "text": [
      "False\n",
      "False\n"
     ]
    }
   ],
   "source": [
    "# inbalance parentheses proble with stack \n",
    "\n",
    "def parChecker(ps):\n",
    "    s = Stack()\n",
    "    balance = True\n",
    "    idx = 0\n",
    "    while idx < len(ps) and balance:\n",
    "        if ps[idx] == '(':\n",
    "            s.push(1)\n",
    "        else:\n",
    "            if s.isEmpty():\n",
    "                balance = False\n",
    "            else:\n",
    "                s.pop()\n",
    "        idx += 1\n",
    "#     print(balance)\n",
    "#     print(s.isEmpty())\n",
    "    if balance and s.isEmpty():\n",
    "        return True\n",
    "    else:\n",
    "        return False\n",
    "    \n",
    "print(parChecker('((()))'))\n",
    "print(parChecker('(()'))          \n"
   ]
  },
  {
   "cell_type": "markdown",
   "metadata": {},
   "source": [
    "### general case: inbalance symbols"
   ]
  },
  {
   "cell_type": "code",
   "execution_count": 20,
   "metadata": {
    "collapsed": true
   },
   "outputs": [],
   "source": [
    "# general case: inbalance symbols\n",
    "\n",
    "def match(o, c):\n",
    "    opener = '{(['\n",
    "    closer = '})]'\n",
    "    return opener.index(o) == closer.index(c)\n",
    "\n",
    "def symChecker(symbols):\n",
    "    s = Stack()\n",
    "    balance = True\n",
    "    idx = 0\n",
    "    while idx < len(symbols) and balance:\n",
    "        sym = symbols[idx]\n",
    "        if sym in  '{([':\n",
    "            s.push(sym)\n",
    "        else:\n",
    "            if s.isEmpty():\n",
    "                balance = False\n",
    "            else:\n",
    "                item = s.pop()\n",
    "#                 print(item)\n",
    "#                 print(sym)\n",
    "#                 print(match(item, sym))\n",
    "                if not match(item, sym):\n",
    "                    balance = False\n",
    "# #         print(s.stack)\n",
    "#         print('isempty', s.isEmpty())\n",
    "#         print('stack', s.stack)\n",
    "#         print('size', s.size())\n",
    "        idx += 1\n",
    "#     print(balance)\n",
    "#     print(s.isEmpty())\n",
    "#     print(s.stack)\n",
    "    if balance and s.isEmpty():\n",
    "        return True\n",
    "    else:\n",
    "        return False    \n"
   ]
  },
  {
   "cell_type": "code",
   "execution_count": 22,
   "metadata": {},
   "outputs": [
    {
     "name": "stdout",
     "output_type": "stream",
     "text": [
      "True\n",
      "False\n"
     ]
    }
   ],
   "source": [
    "print(symChecker('{{([][])}()}'))\n",
    "print(symChecker('[{()]'))"
   ]
  },
  {
   "cell_type": "markdown",
   "metadata": {
    "collapsed": true
   },
   "source": [
    "### Converting dicimal numbers to binary nunbers"
   ]
  },
  {
   "cell_type": "markdown",
   "metadata": {},
   "source": [
    "`'Divided by 2' algorithm: continually divides the dicimal number by 2 and keeps track of the remainders. The first remainder we compute will actually be the last digit. "
   ]
  },
  {
   "cell_type": "code",
   "execution_count": 36,
   "metadata": {
    "collapsed": true
   },
   "outputs": [],
   "source": [
    "def dividedBy2(num):\n",
    "    s = Stack()\n",
    "    \n",
    "    # my version:\n",
    "#     fold = num // 2\n",
    "#     remainder = num % 2\n",
    "#     while not (fold == 0 and remainder == 0):\n",
    "#         s.push(remainder)\n",
    "#         num = fold\n",
    "#         fold = num // 2\n",
    "#         remainder = num % 2\n",
    "\n",
    "    # book version:\n",
    "    while num > 0:\n",
    "        remainder = num % 2\n",
    "        num  = num // 2\n",
    "        s.push(remainder)\n",
    "    \n",
    "    \n",
    "    binary = '0'\n",
    "    while not s.isEmpty():\n",
    "        binary += str(s.pop())\n",
    "    return int(binary)\n",
    "    \n",
    "    "
   ]
  },
  {
   "cell_type": "code",
   "execution_count": 37,
   "metadata": {},
   "outputs": [
    {
     "name": "stdout",
     "output_type": "stream",
     "text": [
      "0\n",
      "1\n",
      "10\n",
      "11\n",
      "100\n",
      "101\n",
      "110\n",
      "111\n",
      "1000\n",
      "1001\n"
     ]
    }
   ],
   "source": [
    "for i in range(10):\n",
    "    print(dividedBy2(i))"
   ]
  },
  {
   "cell_type": "code",
   "execution_count": 38,
   "metadata": {},
   "outputs": [
    {
     "data": {
      "text/plain": [
       "101010"
      ]
     },
     "execution_count": 38,
     "metadata": {},
     "output_type": "execute_result"
    }
   ],
   "source": [
    "dividedBy2(42)"
   ]
  },
  {
   "cell_type": "markdown",
   "metadata": {},
   "source": [
    "This algorithm can be used for any base."
   ]
  },
  {
   "cell_type": "code",
   "execution_count": 39,
   "metadata": {
    "collapsed": true
   },
   "outputs": [],
   "source": [
    "def divideChecker(num, base):\n",
    "    s = Stack()\n",
    "    \n",
    "    # my version:\n",
    "#     fold = num // 2\n",
    "#     remainder = num % 2\n",
    "#     while not (fold == 0 and remainder == 0):\n",
    "#         s.push(remainder)\n",
    "#         num = fold\n",
    "#         fold = num // 2\n",
    "#         remainder = num % 2\n",
    "\n",
    "    # book version:\n",
    "    while num > 0:\n",
    "        remainder = num % base\n",
    "        num  = num // base\n",
    "        s.push(remainder)\n",
    "    \n",
    "    \n",
    "    result = '0'\n",
    "    while not s.isEmpty():\n",
    "        result += str(s.pop())\n",
    "    return int(result)"
   ]
  },
  {
   "cell_type": "code",
   "execution_count": 47,
   "metadata": {},
   "outputs": [
    {
     "name": "stdout",
     "output_type": "stream",
     "text": [
      "10\n"
     ]
    }
   ],
   "source": [
    "print(divideChecker(26, 26))\n",
    "# print(divideChecker(25, 16))"
   ]
  },
  {
   "cell_type": "markdown",
   "metadata": {},
   "source": [
    "### Infix, prefix, postfix expression"
   ]
  },
  {
   "cell_type": "markdown",
   "metadata": {},
   "source": [
    "infix to postfix"
   ]
  },
  {
   "cell_type": "code",
   "execution_count": 23,
   "metadata": {
    "collapsed": true
   },
   "outputs": [],
   "source": [
    "def infixToPostfix(expression):\n",
    "    \n",
    "    opstack = Stack()\n",
    "    oprators = {'+': 1, '-':1, '*': 2, '/':2, '**':3}\n",
    "    result = []\n",
    "    \n",
    "    for item in expression:\n",
    "        if item in oprators.keys():\n",
    "            if opstack.size() != 0:\n",
    "                while (opstack.size() != 0) and (opstack.peek() in oprators.keys()) and oprators[opstack.peek()] >= oprators[item]:\n",
    "#                     print('size ', opstack.size())\n",
    "#                     print('peek ', opstack.peek())\n",
    "#                     # #                 print ('stack size ', opstack.size())\n",
    "# # #                 print ('stack', opstack.stack)\n",
    "# # #                 print('opstack.stack[-1] ', opstack.stack[-1])\n",
    "#                     if oprators[opstack.peek()] >= oprators[item]:\n",
    "                        result.append(opstack.pop()) \n",
    "            opstack.push(item)\n",
    "                \n",
    "        elif item == '(':\n",
    "            opstack.push(item)\n",
    "        elif item == ')':\n",
    "            top = opstack.pop()\n",
    "            while top != '(':\n",
    "                result.append(top)\n",
    "                top = opstack.pop()\n",
    "        elif item in \"ABCDEFGHIJKLMNOPQRSTUVWXYZ\" or item in \"0123456789\":\n",
    "            result.append(item)\n",
    "    \n",
    "    while not opstack.isEmpty():\n",
    "        result.append(opstack.pop())\n",
    "        \n",
    "    return ' '.join(result)"
   ]
  },
  {
   "cell_type": "code",
   "execution_count": 24,
   "metadata": {},
   "outputs": [
    {
     "name": "stdout",
     "output_type": "stream",
     "text": [
      "A B * C D * +\n",
      "A B + C * D E - F G + * -\n"
     ]
    }
   ],
   "source": [
    "\n",
    "print(infixToPostfix(\"A*B+C*D\"))\n",
    "print(infixToPostfix(\"( A + B ) * C - ( D - E ) * ( F + G )\"))\n",
    "\n",
    "# infixToPostfix('A+B')"
   ]
  },
  {
   "cell_type": "code",
   "execution_count": 25,
   "metadata": {},
   "outputs": [
    {
     "data": {
      "text/plain": [
       "'5 3 * * 4 2 - *'"
      ]
     },
     "execution_count": 25,
     "metadata": {},
     "output_type": "execute_result"
    }
   ],
   "source": [
    "infixToPostfix('5 * 3 ** (4 - 2)')"
   ]
  },
  {
   "cell_type": "markdown",
   "metadata": {
    "collapsed": true
   },
   "source": [
    "Postfix evaluation"
   ]
  },
  {
   "cell_type": "code",
   "execution_count": 21,
   "metadata": {
    "collapsed": true
   },
   "outputs": [],
   "source": [
    "def postfixEval(exp):\n",
    "    post_stack = Stack()\n",
    "    \n",
    "    for item in exp:\n",
    "        if item in '0123456789':\n",
    "            post_stack.push(item)\n",
    "        elif item in '+-*/':\n",
    "            newer = float(post_stack.pop())\n",
    "            older = float(post_stack.pop())\n",
    "            if item == '+':\n",
    "                post_stack.push(str(newer+older))\n",
    "            elif item == '-':\n",
    "                post_stack.push(str(older - newer))\n",
    "            elif item == '*':\n",
    "                post_stack.push(str(older * newer))\n",
    "            else:\n",
    "                post_stack.push(str(older / newer))\n",
    "        \n",
    "    return post_stack.pop()"
   ]
  },
  {
   "cell_type": "code",
   "execution_count": 22,
   "metadata": {},
   "outputs": [
    {
     "name": "stdout",
     "output_type": "stream",
     "text": [
      "3.0\n"
     ]
    }
   ],
   "source": [
    "print(postfixEval('7 8 + 3 2 + /'))"
   ]
  },
  {
   "cell_type": "markdown",
   "metadata": {
    "collapsed": true
   },
   "source": [
    "## 3.10 Queue"
   ]
  },
  {
   "cell_type": "markdown",
   "metadata": {},
   "source": [
    "Implement a quene instance"
   ]
  },
  {
   "cell_type": "code",
   "execution_count": 25,
   "metadata": {
    "collapsed": true
   },
   "outputs": [],
   "source": [
    "class Queue():\n",
    "    \n",
    "    def __init__(self):\n",
    "        self.items = []\n",
    "        \n",
    "    def enqueue(self, item):\n",
    "        self.items.insert(0, item)\n",
    "    \n",
    "    def dequeue(self):\n",
    "        return self.items.pop()\n",
    "    \n",
    "    def isEmpty(self):\n",
    "        return self.items == []\n",
    "    \n",
    "    def size(self):\n",
    "        return len(self.items)\n",
    "    \n",
    "    "
   ]
  },
  {
   "cell_type": "code",
   "execution_count": 2,
   "metadata": {},
   "outputs": [
    {
     "data": {
      "text/plain": [
       "[3, 'dog']"
      ]
     },
     "execution_count": 2,
     "metadata": {},
     "output_type": "execute_result"
    }
   ],
   "source": [
    "q = Queue()\n",
    "q.enqueue('hello')\n",
    "q.enqueue('dog')\n",
    "q.enqueue(3)\n",
    "q.dequeue()\n",
    "q.size()\n",
    "q.items"
   ]
  },
  {
   "cell_type": "markdown",
   "metadata": {
    "collapsed": true
   },
   "source": [
    "Simulation hot potato"
   ]
  },
  {
   "cell_type": "code",
   "execution_count": 9,
   "metadata": {
    "collapsed": true
   },
   "outputs": [],
   "source": [
    "def hotPotato(namelist, num):\n",
    "    names = Queue()\n",
    "    for name in namelist:\n",
    "        names.enqueue(name)\n",
    "    \n",
    "    while num > 0:\n",
    "\n",
    "        dequeue_name = names.dequeue()\n",
    "        names.enqueue(dequeue_name)\n",
    "        num -= 1\n",
    "    # remove the one with the potato\n",
    "    names.dequeue()\n",
    "    \n",
    "    return names.dequeue()"
   ]
  },
  {
   "cell_type": "code",
   "execution_count": 10,
   "metadata": {},
   "outputs": [
    {
     "name": "stdout",
     "output_type": "stream",
     "text": [
      "Susan\n"
     ]
    }
   ],
   "source": [
    "print(hotPotato([\"Bill\",\"David\",\"Susan\",\"Jane\",\"Kent\",\"Brad\"],7))"
   ]
  },
  {
   "cell_type": "markdown",
   "metadata": {
    "collapsed": true
   },
   "source": [
    "## 3.14 Simulation: Printing Tasks "
   ]
  },
  {
   "cell_type": "markdown",
   "metadata": {},
   "source": [
    "### from random import randrange\n"
   ]
  },
  {
   "cell_type": "code",
   "execution_count": 89,
   "metadata": {},
   "outputs": [],
   "source": [
    "# help function to decide weather there is a tast\n",
    "\n",
    "from random import randrange\n",
    "\n",
    "def newTask():\n",
    "    if randrange(1, 181) == 180:\n",
    "        return True\n",
    "    else:\n",
    "        return False\n",
    "    "
   ]
  },
  {
   "cell_type": "code",
   "execution_count": 113,
   "metadata": {
    "collapsed": true
   },
   "outputs": [],
   "source": [
    "# Printer instance\n",
    "class Printer:\n",
    "    \n",
    "    def __init__(self, ppm):\n",
    "        self.pagerate = ppm\n",
    "        self.currentTask = None\n",
    "        self.remainTime = 0 \n",
    "\n",
    "\n",
    "    def isBusy(self):\n",
    "        if self.remainTime != 0:\n",
    "            return True\n",
    "        else:\n",
    "            return False\n",
    "        \n",
    "    def tick(self):\n",
    "        if self.currentTask != None:\n",
    "            self.remainTime -= 1\n",
    "            if self.remainTime <= 0:\n",
    "                self.currentTask = None\n",
    "            \n",
    "        \n",
    "    def startNext(self, newTask):\n",
    "        self.currentTask = newTask\n",
    "        self.remainTime = newTask.getPage() * 60 / self.pagerate       \n",
    "        \n",
    "        "
   ]
  },
  {
   "cell_type": "code",
   "execution_count": 114,
   "metadata": {
    "collapsed": true
   },
   "outputs": [],
   "source": [
    "# Task instance\n",
    "class Task:\n",
    "    \n",
    "    def __init__(self, beginTime):\n",
    "        self.page = randrange(1, 21)\n",
    "        self.timeStamp = beginTime\n",
    "        \n",
    "    def getPage(self):\n",
    "        return self.page\n",
    "    \n",
    "    def getStamp(self):\n",
    "        return self.timeStamp\n",
    "\n",
    "    "
   ]
  },
  {
   "cell_type": "code",
   "execution_count": 117,
   "metadata": {},
   "outputs": [],
   "source": [
    "import numpy as np \n",
    "\n",
    "def mainSimulation(totalTime, pageRate):\n",
    "    # initialize \n",
    "    labPrinter = Printer(pageRate)\n",
    "    taskQueue = Queue()\n",
    "    waitingtime = []\n",
    "    \n",
    "    for currenttime in range(totalTime):\n",
    "        if newTask():\n",
    "            newtask = Task(currenttime)\n",
    "            taskQueue.enqueue(newtask)\n",
    "\n",
    "#         # debug: \n",
    "#         newtask = Task(currenttime)\n",
    "#         taskQueue.enqueue(newtask)\n",
    "#         print('printer busy ', not labPrinter.isBusy())\n",
    "#         print('task empty ', not taskQueue.isEmpty())\n",
    "        \n",
    "        if (not labPrinter.isBusy()) and (not taskQueue.isEmpty()):\n",
    "            current_task = taskQueue.dequeue()\n",
    "            time = currenttime - current_task.getStamp()\n",
    "#             print('time ', time)\n",
    "            waitingtime.append(time)\n",
    "            labPrinter.startNext(current_task)\n",
    "        labPrinter.tick()\n",
    "#     waitingtime = np.array(waitingtime)\n",
    "#     print('Waitingtime ', waitingtime)\n",
    "    if len(waitingtime) != 0:\n",
    "        avg_time = sum(waitingtime) / len(waitingtime)\n",
    "    else:\n",
    "        avg_time = 0\n",
    "#     avg_time = waitingtime.mean()\n",
    "#     avg_time = sum(waitingtime) / len(waitingtime)\n",
    "        \n",
    "    print('The average waiting time is %f and %d task remained'%(avg_time, taskQueue.size()))\n",
    "            "
   ]
  },
  {
   "cell_type": "code",
   "execution_count": 119,
   "metadata": {
    "scrolled": true
   },
   "outputs": [
    {
     "name": "stdout",
     "output_type": "stream",
     "text": [
      "The average waiting time is 42.000000 and 0 task remained\n",
      "The average waiting time is 174.000000 and 4 task remained\n",
      "The average waiting time is 170.000000 and 0 task remained\n",
      "The average waiting time is 100.000000 and 3 task remained\n",
      "The average waiting time is 169.000000 and 1 task remained\n",
      "The average waiting time is 32.000000 and 0 task remained\n",
      "The average waiting time is 206.000000 and 0 task remained\n",
      "The average waiting time is 61.000000 and 4 task remained\n",
      "The average waiting time is 55.000000 and 2 task remained\n",
      "The average waiting time is 243.000000 and 2 task remained\n"
     ]
    }
   ],
   "source": [
    "for i in range(10):\n",
    "    mainSimulation(3600, 5)"
   ]
  },
  {
   "cell_type": "code",
   "execution_count": 120,
   "metadata": {},
   "outputs": [
    {
     "name": "stdout",
     "output_type": "stream",
     "text": [
      "The average waiting time is 32.000000 and 0 task remained\n",
      "The average waiting time is 46.000000 and 0 task remained\n",
      "The average waiting time is 19.000000 and 0 task remained\n",
      "The average waiting time is 12.000000 and 1 task remained\n",
      "The average waiting time is 5.000000 and 0 task remained\n",
      "The average waiting time is 5.000000 and 0 task remained\n",
      "The average waiting time is 7.000000 and 0 task remained\n",
      "The average waiting time is 13.000000 and 0 task remained\n",
      "The average waiting time is 23.000000 and 0 task remained\n",
      "The average waiting time is 12.000000 and 0 task remained\n"
     ]
    }
   ],
   "source": [
    "for i in range(10):\n",
    "    mainSimulation(3600, 10)"
   ]
  },
  {
   "cell_type": "markdown",
   "metadata": {},
   "source": [
    "## 3. 17 Implementing a Deque in Python "
   ]
  },
  {
   "cell_type": "code",
   "execution_count": 162,
   "metadata": {},
   "outputs": [],
   "source": [
    "class Deque():\n",
    "    \n",
    "    def __init__(self):\n",
    "        self.items = []\n",
    "        \n",
    "    def addFront(self, item):\n",
    "        self.items.append(item)\n",
    "    \n",
    "    def addRear(self, item):\n",
    "        self.items.insert(0, item)\n",
    "        \n",
    "    def removeFront(self):\n",
    "        return self.items.pop()\n",
    "    \n",
    "    def removeRear(self):\n",
    "        return self.items.pop(0)\n",
    "    \n",
    "    def isEmpty(self):\n",
    "        return self.items == []\n",
    "    \n",
    "    def size(self):\n",
    "        return len(self.items)\n",
    "        "
   ]
  },
  {
   "cell_type": "markdown",
   "metadata": {},
   "source": [
    "## 3. 18 Palindrome-Checker"
   ]
  },
  {
   "cell_type": "code",
   "execution_count": 165,
   "metadata": {
    "collapsed": true
   },
   "outputs": [],
   "source": [
    "def palchecker(char):\n",
    "    check_deque = Deque()\n",
    "    result = True\n",
    "    \n",
    "    for item in char:\n",
    "        check_deque.addRear(item)\n",
    "    while check_deque.size() >1 and result:\n",
    "        rear = check_deque.removeRear()\n",
    "        front = check_deque.removeFront()\n",
    "        if rear != front:\n",
    "            result = False\n",
    "            \n",
    "    return result\n",
    "        "
   ]
  },
  {
   "cell_type": "code",
   "execution_count": 167,
   "metadata": {},
   "outputs": [
    {
     "name": "stdout",
     "output_type": "stream",
     "text": [
      "False\n",
      "True\n"
     ]
    }
   ],
   "source": [
    "print(palchecker(\"lsdkjfskf\"))\n",
    "print(palchecker(\"radar\"))\n"
   ]
  },
  {
   "cell_type": "markdown",
   "metadata": {},
   "source": [
    "## 3.21 Implementing an Unordered List: Linked Lists "
   ]
  },
  {
   "cell_type": "code",
   "execution_count": 168,
   "metadata": {
    "collapsed": true
   },
   "outputs": [],
   "source": [
    "# node class, two kinds of info: 1. of this filed  2. of next field\n",
    "\n",
    "class Node:\n",
    "    \n",
    "    def __init__(self, initData):\n",
    "        self.data = initData\n",
    "        self.next = None\n",
    "        \n",
    "    def getData(self):\n",
    "        return self.data\n",
    "    \n",
    "    def getNext(self):\n",
    "        return self.next\n",
    "    \n",
    "    def setData(self, data):\n",
    "        self.data = data\n",
    "    \n",
    "    def setNext(self, data):\n",
    "        self.next = data\n",
    "        \n",
    "        "
   ]
  },
  {
   "cell_type": "code",
   "execution_count": 231,
   "metadata": {},
   "outputs": [],
   "source": [
    "# unordered list\n",
    "\n",
    "class UnorderedList:\n",
    "    \n",
    "    def __init__(self):\n",
    "        self.head = None\n",
    "        \n",
    "    def isEmpty(self):\n",
    "        return self.head == None\n",
    "    \n",
    "    def add(self, item):\n",
    "        node = Node(item)\n",
    "        node.setNext(self.head)\n",
    "        self.head = node  \n",
    "        \n",
    "    def size(self):\n",
    "        current = self.head\n",
    "        count = 0\n",
    "        while current != None:\n",
    "            current = current.getNext()\n",
    "            count += 1\n",
    "        return count\n",
    "    \n",
    "    def search(self, item):\n",
    "        current = self.head\n",
    "        found = False\n",
    "        while current != None and not found:\n",
    "            if current.getData() == item:\n",
    "                found = True\n",
    "            else:\n",
    "                current = current.getNext()        \n",
    "        return found\n",
    "    \n",
    "    def remove(self, item):\n",
    "        current = self.head\n",
    "        previous = None\n",
    "        found = False\n",
    "        while not found:\n",
    "            if current.getData() == item:\n",
    "                found = True\n",
    "            else:\n",
    "                previous = current\n",
    "                current = current.getNext()\n",
    "        if previous == None:\n",
    "            self.head = current.getNext()\n",
    "        else:\n",
    "            previous.setNext(current.getNext())    \n",
    "            \n",
    "        \n",
    "    def append(self, item):\n",
    "        current = self.head\n",
    "        previous = None\n",
    "        \n",
    "        while current != None:\n",
    "            previous = current\n",
    "            current = current.getNext()\n",
    "        if previous == None:\n",
    "            self.add(item)\n",
    "        else:\n",
    "            previous.setNext(Node(item))\n",
    "            \n",
    "    "
   ]
  },
  {
   "cell_type": "code",
   "execution_count": 232,
   "metadata": {
    "scrolled": true
   },
   "outputs": [
    {
     "name": "stdout",
     "output_type": "stream",
     "text": [
      "6\n",
      "True\n",
      "False\n",
      "True\n",
      "7\n",
      "6\n",
      "5\n",
      "4\n",
      "False\n"
     ]
    }
   ],
   "source": [
    "mylist = UnorderedList()\n",
    "\n",
    "mylist.add(31)\n",
    "mylist.add(77)\n",
    "mylist.add(17)\n",
    "mylist.add(93)\n",
    "mylist.add(26)\n",
    "mylist.add(54)\n",
    "\n",
    "print(mylist.size())\n",
    "print(mylist.search(93))\n",
    "print(mylist.search(100))\n",
    "\n",
    "mylist.add(100)\n",
    "print(mylist.search(100))\n",
    "print(mylist.size())\n",
    "\n",
    "mylist.remove(54)\n",
    "print(mylist.size())\n",
    "mylist.remove(93)\n",
    "print(mylist.size())\n",
    "mylist.remove(31)\n",
    "print(mylist.size())\n",
    "print(mylist.search(93))\n"
   ]
  },
  {
   "cell_type": "markdown",
   "metadata": {},
   "source": [
    "## 3.22 The Ordered List Abstract Data Type"
   ]
  },
  {
   "cell_type": "code",
   "execution_count": 237,
   "metadata": {
    "collapsed": true
   },
   "outputs": [],
   "source": [
    "# Ordered list\n",
    "\n",
    "class OrderedList:\n",
    "    \n",
    "    def __init__(self):\n",
    "        self.head = None\n",
    "        \n",
    "    def isEmpty(self):\n",
    "        return self.head == None\n",
    "    \n",
    "    def add(self, item):\n",
    "#         node = Node(item)\n",
    "#         node.setNext(self.head)\n",
    "#         self.head = node  \n",
    "        current = self.head\n",
    "        previous = None\n",
    "        stop = False\n",
    "        \n",
    "        while current != None and not stop:\n",
    "            if current.getData() > item:\n",
    "                stop = True\n",
    "            else:\n",
    "                previous = current\n",
    "                current = current.getNext()\n",
    "        if previous == None:\n",
    "            node = Node(item)\n",
    "            node.setNext(self.head)\n",
    "            self.head = node     \n",
    "        else:\n",
    "            previous.setNext(Node(item))            \n",
    "        \n",
    "        \n",
    "        \n",
    "    def size(self):\n",
    "        current = self.head\n",
    "        count = 0\n",
    "        while current != None:\n",
    "            current = current.getNext()\n",
    "            count += 1\n",
    "        return count\n",
    "    \n",
    "    def search(self, item):\n",
    "        current = self.head\n",
    "        found = False\n",
    "        stop = False\n",
    "        while current != None and not found and not stop:\n",
    "            if current.getData() == item:\n",
    "                found = True\n",
    "            else:\n",
    "                if current.getData() > item:\n",
    "                    stop = True\n",
    "                else:\n",
    "                    current = current.getNext()        \n",
    "        return found\n",
    "    \n",
    "    def remove(self, item):\n",
    "        current = self.head\n",
    "        previous = None\n",
    "        found = False\n",
    "        while not found:\n",
    "            if current.getData() == item:\n",
    "                found = True\n",
    "            else:\n",
    "                previous = current\n",
    "                current = current.getNext()\n",
    "        if previous == None:\n",
    "            self.head = current.getNext()\n",
    "        else:\n",
    "            previous.setNext(current.getNext())    \n"
   ]
  },
  {
   "cell_type": "code",
   "execution_count": null,
   "metadata": {
    "collapsed": true
   },
   "outputs": [],
   "source": []
  }
 ],
 "metadata": {
  "kernelspec": {
   "display_name": "Python 2",
   "language": "python",
   "name": "python2"
  },
  "language_info": {
   "codemirror_mode": {
    "name": "ipython",
    "version": 2
   },
   "file_extension": ".py",
   "mimetype": "text/x-python",
   "name": "python",
   "nbconvert_exporter": "python",
   "pygments_lexer": "ipython2",
   "version": "2.7.13"
  }
 },
 "nbformat": 4,
 "nbformat_minor": 2
}
