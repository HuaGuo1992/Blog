{
 "cells": [
  {
   "cell_type": "markdown",
   "metadata": {},
   "source": [
    "2018-2-10\n",
    "--"
   ]
  },
  {
   "cell_type": "markdown",
   "metadata": {},
   "source": [
    "Course 4 Convolutional Neutral Network\n",
    "--"
   ]
  },
  {
   "cell_type": "markdown",
   "metadata": {},
   "source": [
    "这是本系列课程的第四门课程,这门课程主要介绍卷积神经网络,其先介绍了卷积神经网络基础知识,后重点介绍了几个已有的成熟的神经网络模型,之后课程将注意力关注于物体检测,人脸识别和风格迁移等实际应用层面."
   ]
  },
  {
   "cell_type": "markdown",
   "metadata": {},
   "source": [
    "将解决的问题\n",
    "--\n",
    "本节课中要解决的计算机视觉问题有三个：\n",
    "+ 图像分类(image classificator)\n",
    "+ 物体检测(Object detection)\n",
    "+ 神经风格迁移(Neutral style transfer)"
   ]
  },
  {
   "cell_type": "markdown",
   "metadata": {
    "collapsed": true
   },
   "source": [
    "卷积神经网络基础\n",
    "--"
   ]
  },
  {
   "cell_type": "markdown",
   "metadata": {},
   "source": [
    "**边缘检测问题**\n",
    "\n",
    "如下图，可以用特定的滤波器(filter)来实现图像中边缘检测问题，进而引出**卷积**\n",
    "\n",
    "<img src='images/edge_detection.png' width='800' height='600'>"
   ]
  },
  {
   "cell_type": "markdown",
   "metadata": {},
   "source": [
    "**Padding & Stridding**\n",
    "\n",
    "无padding的标准卷积的缺点:\n",
    "+ 输出网格变小\n",
    "+ 损失一些信息,特别是边缘信息\n",
    "\n",
    "Valid and same convolution:\n",
    "+ valid:  (n, n)\\*(f, f) $\\longrightarrow$ (n-f+1, n-f+1)\n",
    "+ same:  Input size = output size\n",
    "\n",
    "最终维度为:\n",
    "\n",
    "(n, n) image, padding p, (f, f) filter, $\\longrightarrow$ ($\\frac{n+2p-f}{s} + 1$, $\\frac{n+2p-f}{s} + 1$)"
   ]
  },
  {
   "cell_type": "markdown",
   "metadata": {},
   "source": [
    "**卷积神经网络中的层**\n",
    "\n",
    "1. Convolution (CoNN)\n",
    "2. Pooling (POOL)\n",
    "3. Fully Connected (FC)"
   ]
  },
  {
   "cell_type": "markdown",
   "metadata": {},
   "source": [
    "**Pooling Layer**\n",
    "\n",
    "分为max pooling 和 average pooling. 无参数.\n",
    "\n",
    "**Pooling layer 的作用???**\n",
    "\n",
    "**卷积(convolution)和互相关(cross-correlation)**\n",
    "\n",
    "神经网络中的卷积在**数字图像处理**中实际为互相关,而实际的卷积运算会对核(Kernel)进行翻转.由于**惯例**,神经网络中称为卷积\n",
    "\n",
    "<img src='images/cross_correlation.png' width='800' height='600'>\n",
    "\n",
    "**为什么选用卷积**\n",
    "\n",
    "课程中解释了两个优点:\n",
    "+ 参数共享: 每个特征会被多次利用, 同时参数数量相对fullly connected减少很多\n",
    "+ 稀疏连接: 每个输出只赖于部分输入参数, 减少过拟合."
   ]
  },
  {
   "cell_type": "markdown",
   "metadata": {},
   "source": [
    "CNN实例研究\n",
    "--\n",
    "\n",
    "本节研究的实例主要有:\n",
    "\n",
    "+ 经典实例\n",
    "    + LeNet-5\n",
    "    + AlexNet\n",
    "    + VGG\n",
    "+ Redidual Network (ResNet)\n",
    "+ Inception neutral network"
   ]
  },
  {
   "cell_type": "markdown",
   "metadata": {},
   "source": [
    "**经典实例**\n",
    "\n",
    "LeNet 最初用于识别数字.它的基本结构为Input layer -> CNN layer -> Pooling layer -> CNN layer -> Pooling layer -> FC layer -> FC layer -> Output layer. 大约有6万个参数.\n",
    "\n",
    "<img src='images/LeNet.png' width = '800'>\n",
    "\n",
    "模型提出时池化层采用average pool, 各激活层采用Sigmoid和tanh函数."
   ]
  },
  {
   "cell_type": "markdown",
   "metadata": {},
   "source": [
    "AlexNet 结构比LeNet复杂.大约有6千万个参数.\n",
    "\n",
    "<img src='images/AlexNet.png' width='800'>"
   ]
  },
  {
   "cell_type": "markdown",
   "metadata": {},
   "source": [
    "VGG结构使用了固定的CNN层和Pooling层:\n",
    "\n",
    "CONV = (3, 3) filter, s=1, same\n",
    "\n",
    "MAX-POOL = (2, 2), s=2\n",
    "\n",
    "<img src='images/VGG.png' width='800'>\n"
   ]
  },
  {
   "cell_type": "code",
   "execution_count": null,
   "metadata": {},
   "outputs": [],
   "source": []
  }
 ],
 "metadata": {
  "kernelspec": {
   "display_name": "Python 3",
   "language": "python",
   "name": "python3"
  },
  "language_info": {
   "codemirror_mode": {
    "name": "ipython",
    "version": 3
   },
   "file_extension": ".py",
   "mimetype": "text/x-python",
   "name": "python",
   "nbconvert_exporter": "python",
   "pygments_lexer": "ipython3",
   "version": "3.6.4"
  }
 },
 "nbformat": 4,
 "nbformat_minor": 2
}
