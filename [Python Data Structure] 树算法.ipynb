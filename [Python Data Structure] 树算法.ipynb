{
 "cells": [
  {
   "cell_type": "markdown",
   "metadata": {},
   "source": [
    "2018.1.4"
   ]
  },
  {
   "cell_type": "markdown",
   "metadata": {},
   "source": [
    "这篇文章主要介绍树相关算法, 首先介绍树的两种定义, 而后介绍树的遍历, 之后为二叉堆, 之后介绍的二叉搜索树, 然后时平衡树AVL树, 最后总结了四种map抽象数据结构的复杂度."
   ]
  },
  {
   "cell_type": "markdown",
   "metadata": {},
   "source": [
    "# 1. Definition of Tree "
   ]
  },
  {
   "cell_type": "markdown",
   "metadata": {},
   "source": [
    "树的定义有两个,一个是普通定义, 一个是递归的定义:\n",
    "1. 普通版: 树由节点和边组成, 一个树有以下定义:.....(按住不表)\n",
    "2. **递归版: 一个树要么是空的, 要么由根和0个或几个子树构成, 每个子树都是一个树**\n",
    "\n",
    "**注意:**\n",
    "\n",
    "递归版定义在后面树算法中很有用处, 树的定义都是从递归开始的, 可见**递归思想**在树算法中的重要作用."
   ]
  },
  {
   "cell_type": "markdown",
   "metadata": {},
   "source": [
    "Binary tree\n",
    "--"
   ]
  },
  {
   "cell_type": "code",
   "execution_count": 1,
   "metadata": {
    "scrolled": true
   },
   "outputs": [
    {
     "name": "stdout",
     "output_type": "stream",
     "text": [
      "a\n",
      "None\n",
      "<__main__.BinaryTree instance at 0x7fc697b69e18>\n",
      "b\n",
      "<__main__.BinaryTree instance at 0x7fc697b69d40>\n",
      "c\n",
      "hello\n"
     ]
    }
   ],
   "source": [
    "class BinaryTree:\n",
    "    def __init__(self,rootObj):\n",
    "        self.key = rootObj\n",
    "        self.leftChild = None\n",
    "        self.rightChild = None\n",
    "\n",
    "    def insertLeft(self,newNode):\n",
    "        if self.leftChild == None:\n",
    "            self.leftChild = BinaryTree(newNode)\n",
    "        else:\n",
    "            t = BinaryTree(newNode)\n",
    "            t.leftChild = self.leftChild\n",
    "            self.leftChild = t\n",
    "\n",
    "    def insertRight(self,newNode):\n",
    "        if self.rightChild == None:\n",
    "            self.rightChild = BinaryTree(newNode)\n",
    "        else:\n",
    "            t = BinaryTree(newNode)\n",
    "            t.rightChild = self.rightChild\n",
    "            self.rightChild = t\n",
    "\n",
    "\n",
    "    def getRightChild(self):\n",
    "        return self.rightChild\n",
    "\n",
    "    def getLeftChild(self):\n",
    "        return self.leftChild\n",
    "\n",
    "    def setRootVal(self,obj):\n",
    "        self.key = obj\n",
    "\n",
    "    def getRootVal(self):\n",
    "        return self.key\n",
    "\n",
    "\n",
    "r = BinaryTree('a')\n",
    "print(r.getRootVal())\n",
    "print(r.getLeftChild())\n",
    "r.insertLeft('b')\n",
    "print(r.getLeftChild())\n",
    "print(r.getLeftChild().getRootVal())\n",
    "r.insertRight('c')\n",
    "print(r.getRightChild())\n",
    "print(r.getRightChild().getRootVal())\n",
    "r.getRightChild().setRootVal('hello')\n",
    "print(r.getRightChild().getRootVal())\n"
   ]
  },
  {
   "cell_type": "markdown",
   "metadata": {},
   "source": [
    "Parse Tree(语义树)\n",
    "--\n",
    "Parse tree can be used to represent real-world constructions like **sentences or mathematicals**\n",
    "\n",
    "这个二叉树只适用于括号尽量在右边的，即二叉树想下延伸的。而对于括号在前面或中间都是不行的。"
   ]
  },
  {
   "cell_type": "code",
   "execution_count": 2,
   "metadata": {
    "collapsed": true
   },
   "outputs": [],
   "source": [
    "from tools import Stack, BinaryTree\n",
    "\n",
    "def buildParseTree(fpexp):\n",
    "    fpexp = fpexp.split()\n",
    "    eTree = BinaryTree('')\n",
    "    pStack = Stack()\n",
    "    pStack.push(eTree)\n",
    "    currentTree = eTree\n",
    "    for item in fpexp:\n",
    "        if item == \"(\":\n",
    "            currentTree.insertLeft('')\n",
    "            pStack.push(currentTree)\n",
    "            currentTree = currentTree.getLeftChild()\n",
    "        elif item in  ['+','-','/','*']:\n",
    "            currentTree.setRootVal(item)\n",
    "            currentTree.insertRight('')\n",
    "            pStack.push(currentTree)\n",
    "            currentTree = currentTree.getRightChild()\n",
    "        elif item not in ['+','-','/','*', ')']:\n",
    "#             print(item)\n",
    "            currentTree.setRootVal(int(item))\n",
    "            parent = pStack.pop()\n",
    "            currentTree = parent\n",
    "        elif item == ')':\n",
    "            parent = pStack.pop()\n",
    "            currentTree = parent\n",
    "        else:\n",
    "#             print(item)\n",
    "            raise ValueError\n",
    "    return eTree\n",
    "\n",
    "pt = buildParseTree(\"( ( 10 + 5 ) * 3 )\")\n",
    "    "
   ]
  },
  {
   "cell_type": "markdown",
   "metadata": {},
   "source": [
    "# 2. Tree Traversals"
   ]
  },
  {
   "cell_type": "markdown",
   "metadata": {},
   "source": [
    "**二叉树的遍历**\n",
    "1. 先序遍历\n",
    "    + 访问根节点 \n",
    "    + 先序遍历左子树\n",
    "    + 先序遍历右子树\n",
    "2. 中序遍历\n",
    "    + 中序遍历左子树\n",
    "    + 访问根节点\n",
    "    + 中序遍历右子树\n",
    "3. 后序遍历\n",
    "    + 后序遍历左子树\n",
    "    + 后序遍历右子树\n",
    "    + 访问根节点"
   ]
  },
  {
   "cell_type": "markdown",
   "metadata": {},
   "source": [
    "在[递归思想]()那一节中, 我们提到了**递归和循环的转换**, 下面给出两个版本的遍历:"
   ]
  },
  {
   "cell_type": "markdown",
   "metadata": {},
   "source": [
    "递归版本遍历\n",
    "--"
   ]
  },
  {
   "cell_type": "code",
   "execution_count": 3,
   "metadata": {
    "collapsed": true
   },
   "outputs": [],
   "source": [
    "def preorder(tree):\n",
    "    if tree:\n",
    "        print(tree.getRootVal())\n",
    "        preorder(tree.getLeftChild())\n",
    "        preorder(tree.getRightChild())\n",
    "        \n",
    "def inorder(tree):\n",
    "    if tree:\n",
    "        inorder(tree.getLeftChild())\n",
    "        print(tree.getRootVal())\n",
    "        inorder(tree.getRightChild())  \n",
    "        \n",
    "def postorder(tree):\n",
    "    if tree:\n",
    "        postorder(tree.getLeftChild())\n",
    "        postorder(tree.getRightChild())\n",
    "        print(tree.getRootVal())        "
   ]
  },
  {
   "cell_type": "markdown",
   "metadata": {},
   "source": [
    "循环版本遍历\n",
    "--\n",
    "\n",
    "根据leetcode中题目所得, 都是用栈的数据结构来实现遍历, 以下先给出先序遍历的循环版本"
   ]
  },
  {
   "cell_type": "code",
   "execution_count": 1,
   "metadata": {
    "scrolled": true
   },
   "outputs": [],
   "source": [
    "# preorder\n",
    "class Solution(object):\n",
    "    def preorderTraversal(self, root):\n",
    "        \"\"\"\n",
    "        :type root: TreeNode\n",
    "        :rtype: List[int]\n",
    "        \"\"\"\n",
    "        res = []\n",
    "        stack = []\n",
    "        while stack or root :\n",
    "            if root:\n",
    "                stack.append(root)\n",
    "                res.append(root.val)\n",
    "                root = root.left\n",
    "            else:\n",
    "                tempNode = stack.pop()\n",
    "                # res.append()\n",
    "                root = tempNode.right\n",
    "        return res"
   ]
  },
  {
   "cell_type": "markdown",
   "metadata": {},
   "source": [
    "# 3. 用二叉堆实现优先队列"
   ]
  },
  {
   "cell_type": "markdown",
   "metadata": {},
   "source": [
    "搜索树，字典结构都支持覆盖数据全集的访问和操作，然而优先级队列的操作对象限定于当前的**全局极值者**。这种访问被成为**循优先级访问(call-by-priority)**。"
   ]
  },
  {
   "cell_type": "markdown",
   "metadata": {},
   "source": [
    "**Priority queue**: the highest priority items are at the front of queue and the lowest priority items are at the back.\n",
    "\n",
    "用二叉堆(binary heap)可以使enqueue and dequeue items in $O(logn)$\n",
    "\n",
    "二叉堆：\n",
    "1. min heap 最小堆 ---不管进入的顺序如何，最小的元素会被最先移除\n",
    "2. max heap 最大堆 ----。。。。。。。。。。最大。。。。。。。。"
   ]
  },
  {
   "cell_type": "markdown",
   "metadata": {},
   "source": [
    "构造二叉堆\n",
    "--\n",
    "\n",
    "用完全二叉树：位置p的点的子代是2p和2p+1\n",
    "\n",
    "**Heap Order Property**: 节点x的父亲是p，则p的key要小于或等于x的key(min heap)\n",
    "\n",
    "如下，二叉堆第一个元素为0：\n",
    "<img src='images/heapList.png' width=800>"
   ]
  },
  {
   "cell_type": "code",
   "execution_count": 7,
   "metadata": {
    "collapsed": true
   },
   "outputs": [],
   "source": [
    "class BinHeap:\n",
    "    \n",
    "    def __init__(self):\n",
    "        self.heapList = [0]\n",
    "        self.size = 0\n",
    "        \n",
    "    def precUp(self, i):\n",
    "        while i // 2 > 0:\n",
    "            if self.heapList[i//2] > self.heapList[i]:\n",
    "                self.heapList[i//2], self.heapList[i] = self.heapList[i], self.heapList[i//2]\n",
    "            i = i//2\n",
    "    \n",
    "    def insert(self, item):\n",
    "        self.heapList.append(item)\n",
    "        self.size += 1\n",
    "        self.precUp(self.size)\n",
    "    \n",
    "    def findMin(self):\n",
    "        pass\n",
    "    \n",
    "    def precDown(self, i):\n",
    "        while i*2<= self.size:\n",
    "            mc = self.minChild(i)\n",
    "            if self.heapList[mc] < self.heapList[i]:\n",
    "                self.heapList[mc], self.heapList[i] = self.heapList[i], self.heapList[mc]\n",
    "            i = i * 2\n",
    "    def minChild(self, i):\n",
    "        if i*2 == self.size:\n",
    "            return i*2\n",
    "        else:\n",
    "            if self.heapList[i*2] < self.heapList[i*2+1]:\n",
    "                return i*2\n",
    "            else:\n",
    "                return i*2 + 1\n",
    "    \n",
    "    def delMin(self):\n",
    "        minItem = self.heapList[1]\n",
    "        self.heapList[1] = self.heapList[self.size]\n",
    "        self.size -= 1\n",
    "        self.heapList.pop()\n",
    "        self.precDown(1)\n",
    "        return minItem\n",
    "    \n",
    "    def isEmpty(self):\n",
    "        return self.size == 0\n",
    "    \n",
    "    def size(self):\n",
    "        return self.size\n",
    "    \n",
    "    def dbuildHeap(self, alist):\n",
    "        i = len(alist) // 2\n",
    "        self.size = len(alist)\n",
    "        self.heapList = [0] +  alist\n",
    "        while i > 0:\n",
    "            self.precDown(i)\n",
    "            i -= 1\n",
    "    "
   ]
  },
  {
   "cell_type": "markdown",
   "metadata": {},
   "source": [
    "二叉堆的另一应用为[堆排序](http://blog.csdn.net/guohua1992/article/details/79419604)"
   ]
  },
  {
   "cell_type": "markdown",
   "metadata": {
    "collapsed": true
   },
   "source": [
    "# 4. 二叉树搜索(Binary search tree)"
   ]
  },
  {
   "cell_type": "markdown",
   "metadata": {},
   "source": [
    "可以实现map ADT 的方式：\n",
    "1. hash tables\n",
    "2. binary search on a list\n",
    "3. binary search trees\n",
    "\n",
    "map ADT的操作：\n",
    "<img src='images/mapADT.png' width=800>\n"
   ]
  },
  {
   "cell_type": "markdown",
   "metadata": {},
   "source": [
    "**搜索二叉树性质**: left subtree < root < right subtree\n",
    "\n",
    "复杂度分析：对于put函数来说，复杂度介于O(logn)和O(n)之间。\n"
   ]
  },
  {
   "cell_type": "code",
   "execution_count": 9,
   "metadata": {},
   "outputs": [
    {
     "name": "stdout",
     "output_type": "stream",
     "text": [
      "yellow\n",
      "at\n"
     ]
    }
   ],
   "source": [
    "class TreeNode:\n",
    "    def __init__(self,key,val,left=None,right=None,parent=None):\n",
    "        self.key = key\n",
    "        self.payload = val\n",
    "        self.leftChild = left\n",
    "        self.rightChild = right\n",
    "        self.parent = parent\n",
    "\n",
    "    def hasLeftChild(self):\n",
    "        return self.leftChild\n",
    "\n",
    "    def hasRightChild(self):\n",
    "        return self.rightChild\n",
    "\n",
    "    def isLeftChild(self):\n",
    "        return self.parent and self.parent.leftChild == self\n",
    "\n",
    "    def isRightChild(self):\n",
    "        return self.parent and self.parent.rightChild == self\n",
    "\n",
    "    def isRoot(self):\n",
    "        return not self.parent\n",
    "\n",
    "    def isLeaf(self):\n",
    "        return not (self.rightChild or self.leftChild)\n",
    "\n",
    "    def hasAnyChildren(self):\n",
    "        return self.rightChild or self.leftChild\n",
    "\n",
    "    def hasBothChildren(self):\n",
    "        return self.rightChild and self.leftChild\n",
    "\n",
    "    def replaceNodeData(self,key,value,lc,rc):\n",
    "        self.key = key\n",
    "        self.payload = value\n",
    "        self.leftChild = lc\n",
    "        self.rightChild = rc\n",
    "        if self.hasLeftChild():\n",
    "            self.leftChild.parent = self\n",
    "        if self.hasRightChild():\n",
    "            self.rightChild.parent = self\n",
    "\n",
    "\n",
    "class BinarySearchTree:\n",
    "\n",
    "    def __init__(self):\n",
    "        self.root = None\n",
    "        self.size = 0\n",
    "\n",
    "    def length(self):\n",
    "        return self.size\n",
    "\n",
    "    def __len__(self):\n",
    "        return self.size\n",
    "\n",
    "    def put(self,key,val):\n",
    "        if self.root:\n",
    "            self._put(key,val,self.root)\n",
    "        else:\n",
    "            self.root = TreeNode(key,val)\n",
    "        self.size = self.size + 1\n",
    "\n",
    "    def _put(self,key,val,currentNode):\n",
    "        if key < currentNode.key:\n",
    "            if currentNode.hasLeftChild():\n",
    "                   self._put(key,val,currentNode.leftChild)\n",
    "            else:\n",
    "                   currentNode.leftChild = TreeNode(key,val,parent=currentNode)\n",
    "        else:\n",
    "            if currentNode.hasRightChild():\n",
    "                   self._put(key,val,currentNode.rightChild)\n",
    "            else:\n",
    "                   currentNode.rightChild = TreeNode(key,val,parent=currentNode)\n",
    "\n",
    "    def __setitem__(self,k,v):\n",
    "       self.put(k,v)\n",
    "\n",
    "    def get(self,key):\n",
    "       if self.root:\n",
    "           res = self._get(key,self.root)\n",
    "           if res:\n",
    "                  return res.payload\n",
    "           else:\n",
    "                  return None\n",
    "       else:\n",
    "           return None\n",
    "\n",
    "    def _get(self,key,currentNode):\n",
    "       if not currentNode:\n",
    "           return None\n",
    "       elif currentNode.key == key:\n",
    "           return currentNode\n",
    "       elif key < currentNode.key:\n",
    "           return self._get(key,currentNode.leftChild)\n",
    "       else:\n",
    "           return self._get(key,currentNode.rightChild)\n",
    "\n",
    "    def __getitem__(self,key):\n",
    "       return self.get(key)\n",
    "\n",
    "    def __contains__(self,key):\n",
    "       if self._get(key,self.root):\n",
    "           return True\n",
    "       else:\n",
    "           return False\n",
    "\n",
    "    def delete(self,key):\n",
    "      if self.size > 1:\n",
    "         nodeToRemove = self._get(key,self.root)\n",
    "         if nodeToRemove:\n",
    "             self.remove(nodeToRemove)\n",
    "             self.size = self.size-1\n",
    "         else:\n",
    "             raise KeyError('Error, key not in tree')\n",
    "      elif self.size == 1 and self.root.key == key:\n",
    "         self.root = None\n",
    "         self.size = self.size - 1\n",
    "      else:\n",
    "         raise KeyError('Error, key not in tree')\n",
    "\n",
    "    def __delitem__(self,key):\n",
    "       self.delete(key)\n",
    "\n",
    "    def spliceOut(self):\n",
    "       if self.isLeaf():\n",
    "           if self.isLeftChild():\n",
    "                  self.parent.leftChild = None\n",
    "           else:\n",
    "                  self.parent.rightChild = None\n",
    "       elif self.hasAnyChildren():\n",
    "           if self.hasLeftChild():\n",
    "                  if self.isLeftChild():\n",
    "                     self.parent.leftChild = self.leftChild\n",
    "                  else:\n",
    "                     self.parent.rightChild = self.leftChild\n",
    "                  self.leftChild.parent = self.parent\n",
    "           else:\n",
    "                  if self.isLeftChild():\n",
    "                     self.parent.leftChild = self.rightChild\n",
    "                  else:\n",
    "                     self.parent.rightChild = self.rightChild\n",
    "                  self.rightChild.parent = self.parent\n",
    "\n",
    "    def findSuccessor(self):\n",
    "      succ = None\n",
    "      if self.hasRightChild():\n",
    "          succ = self.rightChild.findMin()\n",
    "      else:\n",
    "          if self.parent:\n",
    "                 if self.isLeftChild():\n",
    "                     succ = self.parent\n",
    "                 else:\n",
    "                     self.parent.rightChild = None\n",
    "                     succ = self.parent.findSuccessor()\n",
    "                     self.parent.rightChild = self\n",
    "      return succ\n",
    "\n",
    "    def findMin(self):\n",
    "      current = self\n",
    "      while current.hasLeftChild():\n",
    "          current = current.leftChild\n",
    "      return current\n",
    "\n",
    "    def remove(self,currentNode):\n",
    "         if currentNode.isLeaf(): #leaf\n",
    "           if currentNode == currentNode.parent.leftChild:\n",
    "               currentNode.parent.leftChild = None\n",
    "           else:\n",
    "               currentNode.parent.rightChild = None\n",
    "         elif currentNode.hasBothChildren(): #interior\n",
    "           succ = currentNode.findSuccessor()\n",
    "           succ.spliceOut()\n",
    "           currentNode.key = succ.key\n",
    "           currentNode.payload = succ.payload\n",
    "\n",
    "         else: # this node has one child\n",
    "           if currentNode.hasLeftChild():\n",
    "             if currentNode.isLeftChild():\n",
    "                 currentNode.leftChild.parent = currentNode.parent\n",
    "                 currentNode.parent.leftChild = currentNode.leftChild\n",
    "             elif currentNode.isRightChild():\n",
    "                 currentNode.leftChild.parent = currentNode.parent\n",
    "                 currentNode.parent.rightChild = currentNode.leftChild\n",
    "             else:\n",
    "                 currentNode.replaceNodeData(currentNode.leftChild.key,\n",
    "                                    currentNode.leftChild.payload,\n",
    "                                    currentNode.leftChild.leftChild,\n",
    "                                    currentNode.leftChild.rightChild)\n",
    "           else:\n",
    "             if currentNode.isLeftChild():\n",
    "                 currentNode.rightChild.parent = currentNode.parent\n",
    "                 currentNode.parent.leftChild = currentNode.rightChild\n",
    "             elif currentNode.isRightChild():\n",
    "                 currentNode.rightChild.parent = currentNode.parent\n",
    "                 currentNode.parent.rightChild = currentNode.rightChild\n",
    "             else:\n",
    "                 currentNode.replaceNodeData(currentNode.rightChild.key,\n",
    "                                    currentNode.rightChild.payload,\n",
    "                                    currentNode.rightChild.leftChild,\n",
    "                                    currentNode.rightChild.rightChild)\n",
    "\n",
    "\n",
    "\n",
    "\n",
    "mytree = BinarySearchTree()\n",
    "mytree[3]=\"red\"\n",
    "mytree[4]=\"blue\"\n",
    "mytree[6]=\"yellow\"\n",
    "mytree[2]=\"at\"\n",
    "\n",
    "print(mytree[6])\n",
    "print(mytree[2])\n"
   ]
  },
  {
   "cell_type": "markdown",
   "metadata": {},
   "source": [
    "# 5. 平衡二叉树-AVL Tree"
   ]
  },
  {
   "cell_type": "markdown",
   "metadata": {},
   "source": [
    "**通过不断调整树的balanceFactor来生成平衡的树，进而提高树的效率。**\n",
    "\n",
    "Unbalanced Tree $\\rightarrow$ performance degrade to O(n) $\\rightarrow$ AVL tree\n",
    "\n",
    "**平衡因子(Balance factor)**:\n",
    "\n",
    "balanceFactor = height(leftsubtree) - height(rightsubtree)\n",
    "\n",
    "balanceFactor = 0, 1, -1  $\\rightarrow$ balance tree"
   ]
  },
  {
   "cell_type": "markdown",
   "metadata": {},
   "source": [
    "AVL Tree\n",
    "--\n",
    "添加节点后，由节点的**左右**来更新(调整歪斜等)父节点的balanceFator\n",
    "\n",
    "Left Rotation\n",
    "--\n",
    "如下图(右旋转类似)：\n",
    "1. 将右节点B作为新的root\n",
    "2. 将原来的rootA变为B的左孩子\n",
    "1. 若B有左孩子，将其作为A的右孩子\n",
    "<img src='images/leftRotation.png' width=600>\n",
    "\n",
    "Balance factor of -2\n",
    "--\n",
    "如下图，\n",
    "<img src='images/balance2.png' width=400>\n",
    "解决办法：\n",
    "1. 如果需要左旋转，先验证其右孩子是否向左偏重\n",
    "2. 若是，则对其右孩子进行右旋转，然后对其进行左旋转\n",
    "<img src='images/balance22.png' width=800>\n",
    "代码如下：\n",
    "\n",
    "    def rebalance(self,node):\n",
    "        if node.balanceFactor < 0:\n",
    "             if node.rightChild.balanceFactor > 0:\n",
    "                self.rotateRight(node.rightChild)\n",
    "                self.rotateLeft(node)\n",
    "             else:\n",
    "                self.rotateLeft(node)\n",
    "        elif node.balanceFactor > 0:\n",
    "             if node.leftChild.balanceFactor < 0:\n",
    "                self.rotateLeft(node.leftChild)\n",
    "                self.rotateRight(node)\n",
    "             else:\n",
    "                self.rotateRight(node)\n",
    "\n"
   ]
  },
  {
   "cell_type": "markdown",
   "metadata": {},
   "source": [
    "还有一类平衡二叉树为[红黑树]()"
   ]
  },
  {
   "cell_type": "markdown",
   "metadata": {},
   "source": [
    "# 6. Summary of Map ADT  "
   ]
  },
  {
   "cell_type": "markdown",
   "metadata": {},
   "source": [
    "下面总结了四种map抽象数据结构的复杂度: 二分搜索的list, hash table, 二叉搜索树, 平衡树"
   ]
  },
  {
   "cell_type": "markdown",
   "metadata": {},
   "source": [
    "<img src='images/map.png' width=800>"
   ]
  }
 ],
 "metadata": {
  "kernelspec": {
   "display_name": "Python 3",
   "language": "python",
   "name": "python3"
  },
  "language_info": {
   "codemirror_mode": {
    "name": "ipython",
    "version": 3
   },
   "file_extension": ".py",
   "mimetype": "text/x-python",
   "name": "python",
   "nbconvert_exporter": "python",
   "pygments_lexer": "ipython3",
   "version": "3.6.4"
  }
 },
 "nbformat": 4,
 "nbformat_minor": 2
}
