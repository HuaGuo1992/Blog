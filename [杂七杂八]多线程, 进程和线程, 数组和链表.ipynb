{
 "cells": [
  {
   "cell_type": "markdown",
   "metadata": {},
   "source": [
    "# １．单线程 "
   ]
  },
  {
   "cell_type": "code",
   "execution_count": 2,
   "metadata": {},
   "outputs": [
    {
     "name": "stdout",
     "output_type": "stream",
     "text": [
      "I was listening to music. Thu Dec 14 16:40:39 2017\n",
      "I was listening to music. Thu Dec 14 16:40:40 2017\n",
      "I was at the movies! Thu Dec 14 16:40:41 2017\n",
      "I was at the movies! Thu Dec 14 16:40:46 2017\n",
      "all over Thu Dec 14 16:40:51 2017\n"
     ]
    }
   ],
   "source": [
    "from time import ctime,sleep\n",
    "\n",
    "def music():\n",
    "    for i in range(2):\n",
    "        print \"I was listening to music. %s\" %ctime()\n",
    "        sleep(1)\n",
    "\n",
    "def move():\n",
    "    for i in range(2):\n",
    "        print \"I was at the movies! %s\" %ctime()\n",
    "        sleep(5)\n",
    "\n",
    "if __name__ == '__main__':\n",
    "    music()\n",
    "    move()\n",
    "    print \"all over %s\" %ctime()"
   ]
  },
  {
   "cell_type": "markdown",
   "metadata": {},
   "source": [
    "耗时12s"
   ]
  },
  {
   "cell_type": "markdown",
   "metadata": {},
   "source": [
    "# ２．双线程 "
   ]
  },
  {
   "cell_type": "code",
   "execution_count": 4,
   "metadata": {},
   "outputs": [
    {
     "name": "stdout",
     "output_type": "stream",
     "text": [
      "I was listening to 爱情买卖. Thu Dec 14 16:42:01 2017\n",
      "all over Thu Dec 14 16:42:01 2017\n",
      "I was at the 阿凡达! Thu Dec 14 16:42:01 2017\n",
      "I was listening to 爱情买卖. Thu Dec 14 16:42:02 2017\n",
      "I was at the 阿凡达! Thu Dec 14 16:42:06 2017\n"
     ]
    }
   ],
   "source": [
    "#coding=utf-8\n",
    "import threading\n",
    "from time import ctime,sleep\n",
    "\n",
    "\n",
    "def music(func):\n",
    "    for i in range(2):\n",
    "        print \"I was listening to %s. %s\" %(func,ctime())\n",
    "        sleep(1)\n",
    "\n",
    "def move(func):\n",
    "    for i in range(2):\n",
    "        print \"I was at the %s! %s\" %(func,ctime())\n",
    "        sleep(5)\n",
    "\n",
    "threads = []\n",
    "t1 = threading.Thread(target=music,args=(u'爱情买卖',))\n",
    "threads.append(t1)\n",
    "t2 = threading.Thread(target=move,args=(u'阿凡达',))\n",
    "threads.append(t2)\n",
    "\n",
    "if __name__ == '__main__':\n",
    "    for t in threads:\n",
    "        t.setDaemon(True)\n",
    "        t.start()\n",
    "\n",
    "    print \"all over %s\" %ctime()"
   ]
  },
  {
   "cell_type": "markdown",
   "metadata": {},
   "source": [
    "耗时5s"
   ]
  },
  {
   "cell_type": "markdown",
   "metadata": {},
   "source": [
    "# 进程和线程 "
   ]
  },
  {
   "cell_type": "markdown",
   "metadata": {},
   "source": [
    "1. 进程是资源分配的基本单位，线程是CPU调度，或者说是程序执行的最小单位．\n",
    "\n",
    "２．线程是进程的一部分\n",
    "\n",
    "３．进程间互补影响，一个线程挂掉导致整个进程挂掉"
   ]
  },
  {
   "cell_type": "markdown",
   "metadata": {},
   "source": [
    "## 数组和链表的区别： "
   ]
  },
  {
   "cell_type": "markdown",
   "metadata": {},
   "source": [
    "数组:通过索引进行查询数据时效较高，对数组插入和删除操作效率低．\n",
    "\n",
    "链表:保证数据插入和删除，不影响其他数据移动，保证线性开销．节点组成，每个节点一个链点next链．在插入和删除时，需要该表链表next链的指向地址．\n",
    "    \n",
    "    链表：双向链表(pre & next)，单向链表(next)"
   ]
  },
  {
   "cell_type": "code",
   "execution_count": null,
   "metadata": {
    "collapsed": true
   },
   "outputs": [],
   "source": []
  }
 ],
 "metadata": {
  "kernelspec": {
   "display_name": "Python 2",
   "language": "python",
   "name": "python2"
  },
  "language_info": {
   "codemirror_mode": {
    "name": "ipython",
    "version": 2
   },
   "file_extension": ".py",
   "mimetype": "text/x-python",
   "name": "python",
   "nbconvert_exporter": "python",
   "pygments_lexer": "ipython2",
   "version": "2.7.13"
  }
 },
 "nbformat": 4,
 "nbformat_minor": 2
}
