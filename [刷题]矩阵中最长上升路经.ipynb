{
 "cells": [
  {
   "cell_type": "markdown",
   "metadata": {},
   "source": [
    "# 矩阵中最长上升路经\n",
    "\n",
    "\n",
    "[题目链接](https://leetcode.com/problems/longest-increasing-path-in-a-matrix/description/)"
   ]
  },
  {
   "cell_type": "code",
   "execution_count": 27,
   "metadata": {},
   "outputs": [],
   "source": [
    "# test case \n",
    "nums1 = [\n",
    "  [9,9,4],\n",
    "  [6,6,8],\n",
    "  [2,1,1]\n",
    "]\n",
    "\n",
    "#  结果： [1, 2, 6, 9]\n",
    "\n",
    "\n",
    "nums2 = [\n",
    "  [3,4,5],\n",
    "  [3,2,6],\n",
    "  [2,2,1]\n",
    "]\n",
    "\n",
    "# 结果： ·[3, 4, 5, 6]"
   ]
  },
  {
   "cell_type": "markdown",
   "metadata": {},
   "source": [
    "## 解法1 带memorization的动态规划"
   ]
  },
  {
   "cell_type": "markdown",
   "metadata": {},
   "source": [
    "dfs[i][j]代表i，j处最长的序列。"
   ]
  },
  {
   "cell_type": "code",
   "execution_count": 39,
   "metadata": {},
   "outputs": [],
   "source": [
    "# 这个版本返回的时序列，携程面试题\n",
    "\n",
    "def findLongest(matrix):\n",
    "    def dfs(x, y):\n",
    "        val = matrix[x][y]\n",
    "        res = []\n",
    "        left = dfs(x-1, y) if x-1 >=0 and matrix[x-1][y] > val else []\n",
    "        right = dfs(x+1, y) if x+1 < rows and matrix[x+1][y] > val else []\n",
    "        up = dfs(x, y-1) if y-1 >=0 and matrix[x][y-1] > val else []\n",
    "        down = dfs(x, y+1) if y+1 < cols and matrix[x][y+1] > val else []\n",
    "        for item in [left, right, up, down]:\n",
    "            if len(item) > len(res):\n",
    "                res = item\n",
    "        dp[x][y] = [val] + res\n",
    "        return dp[x][y]\n",
    "\n",
    "    \n",
    "    if not matrix or not matrix[0]:\n",
    "        return []\n",
    "    rows = len(matrix)\n",
    "    cols = len(matrix[0])\n",
    "    dp = [[0] * cols for row in range(rows)]\n",
    "#     dp = [[[matrix[row][col]]]  for row in range(rows)]\n",
    "    for row in range(rows):\n",
    "        for col in range(cols):\n",
    "            dp[row][col] = [matrix[row][col]]\n",
    "            \n",
    "    lengh = 0\n",
    "    row, col = 0, 0\n",
    "    for i in range(rows):\n",
    "        for j in range(cols):\n",
    "            if len(dfs(i, j)) > lengh:\n",
    "                lengh = len(dfs(i, j))\n",
    "                row = i\n",
    "                col = j\n",
    "#     print(dp)\n",
    "#     print(dfs(row, col))\n",
    "    return dfs(row, col)   \n",
    "    "
   ]
  },
  {
   "cell_type": "code",
   "execution_count": 37,
   "metadata": {},
   "outputs": [
    {
     "data": {
      "text/plain": [
       "[[9, 9, 4], [6, 6, 8], [2, 1, 1]]"
      ]
     },
     "execution_count": 37,
     "metadata": {},
     "output_type": "execute_result"
    }
   ],
   "source": [
    "nums1 "
   ]
  },
  {
   "cell_type": "code",
   "execution_count": 38,
   "metadata": {
    "scrolled": false
   },
   "outputs": [
    {
     "name": "stdout",
     "output_type": "stream",
     "text": [
      "Answer for nums1: [1, 2, 6, 9]\n",
      "Answer for nums2:  [3, 4, 5, 6]\n"
     ]
    }
   ],
   "source": [
    "print('Answer for nums1:',findLongest(nums1))\n",
    "print('Answer for nums2: ',findLongest(nums2) )"
   ]
  },
  {
   "cell_type": "markdown",
   "metadata": {},
   "source": [
    "## 解法二  拓扑排序  还不懂 "
   ]
  },
  {
   "cell_type": "markdown",
   "metadata": {},
   "source": [
    "[链接](https://blog.csdn.net/u012129558/article/details/52422348)"
   ]
  }
 ],
 "metadata": {
  "kernelspec": {
   "display_name": "Python 3",
   "language": "python",
   "name": "python3"
  },
  "language_info": {
   "codemirror_mode": {
    "name": "ipython",
    "version": 3
   },
   "file_extension": ".py",
   "mimetype": "text/x-python",
   "name": "python",
   "nbconvert_exporter": "python",
   "pygments_lexer": "ipython3",
   "version": "3.6.4"
  },
  "toc": {
   "nav_menu": {},
   "number_sections": true,
   "sideBar": true,
   "skip_h1_title": false,
   "title_cell": "Table of Contents",
   "title_sidebar": "Contents",
   "toc_cell": false,
   "toc_position": {},
   "toc_section_display": true,
   "toc_window_display": false
  }
 },
 "nbformat": 4,
 "nbformat_minor": 2
}
