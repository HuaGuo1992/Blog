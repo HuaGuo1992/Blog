{
 "cells": [
  {
   "cell_type": "markdown",
   "metadata": {},
   "source": [
    "# 基础知识"
   ]
  },
  {
   "cell_type": "markdown",
   "metadata": {},
   "source": [
    "这里包括条件概率，全概率公式和贝叶斯公式的基本概念，比较抽象。结合题目实际理解很容易理解"
   ]
  },
  {
   "cell_type": "markdown",
   "metadata": {},
   "source": [
    "**条件概率：**\n",
    "\n",
    "$$P(A|B) = \\frac{P(AB)}{P(B)}$$\n",
    "\n",
    "**全概率公式：假设$B_1, B_2, B_3 ... B_n$ 为互斥，而且是样本空间的一个完整划分则对于A**\n",
    "\n",
    "$$P(A) = \\sum_1^n P(B_i)P(A|B_i)$$\n",
    "\n",
    "结合条件概率和全概率公式得到**贝叶斯公式**\n",
    "$$P(B_i|A) =\\frac{P(AB_i)}{P(A)} =\\frac{P(B_i)P(A|B_i)}{\\sum_1^n P(B_i)P(A|B_i)}$$ \n"
   ]
  },
  {
   "cell_type": "markdown",
   "metadata": {},
   "source": [
    "# 实际问题理解"
   ]
  },
  {
   "cell_type": "markdown",
   "metadata": {},
   "source": [
    "## 例1 "
   ]
  },
  {
   "cell_type": "markdown",
   "metadata": {},
   "source": [
    "<img src=images/bay.png width=800>"
   ]
  },
  {
   "cell_type": "markdown",
   "metadata": {},
   "source": [
    "**解答：**\n",
    "\n",
    "A为看到并投递简历，B为收藏信息，所求为P(B|A)\n",
    "\n",
    "已知： P(A) = 4%, P(B) = 15%, P(A|B) = 20%\n",
    "\n",
    "求解： $$P(B|A) = \\frac{P(AB)}{P(A)} = \\frac{P(A|B)P(B)}{P(A)}$$"
   ]
  },
  {
   "cell_type": "markdown",
   "metadata": {},
   "source": [
    "## 例2 "
   ]
  },
  {
   "cell_type": "markdown",
   "metadata": {},
   "source": [
    "<img src=images/bay2.png width=800>"
   ]
  },
  {
   "cell_type": "markdown",
   "metadata": {},
   "source": [
    "**解答**\n",
    "\n",
    "假设$A_1, A_2, A_3$ 为由甲乙丙车间生产，B为出现次品。则$A_1, A_2, A_3$构成一个完备事件. 所求为$P(A_1|B)$则：\n",
    "\n",
    "$P(A_1) = 25\\%,P(A_2) = 35\\%, P(A_3) = 40\\%$\n",
    "\n",
    "$P(B|A_1) = 5\\%,P(B|A_2) = 4\\%, P(B|A_3) = 2\\% $\n",
    "\n",
    "\n",
    "则：\n",
    "\n",
    "$$P(A_1|B) = \\frac{P(A_1B)}{P(B)} = \\frac{P(A_1)P(B|A_1)}{P(A_1)P(B|A_1) + P(A_1)P(B|A_1)}$$\n"
   ]
  },
  {
   "cell_type": "markdown",
   "metadata": {},
   "source": [
    "条件概率的理解和贝叶斯公式的更多应用题目理解[链接](https://blog.csdn.net/ITShang/article/details/77930453)"
   ]
  }
 ],
 "metadata": {
  "kernelspec": {
   "display_name": "Python 3",
   "language": "python",
   "name": "python3"
  },
  "language_info": {
   "codemirror_mode": {
    "name": "ipython",
    "version": 3
   },
   "file_extension": ".py",
   "mimetype": "text/x-python",
   "name": "python",
   "nbconvert_exporter": "python",
   "pygments_lexer": "ipython3",
   "version": "3.6.4"
  },
  "toc": {
   "nav_menu": {},
   "number_sections": true,
   "sideBar": true,
   "skip_h1_title": false,
   "title_cell": "Table of Contents",
   "title_sidebar": "Contents",
   "toc_cell": false,
   "toc_position": {},
   "toc_section_display": true,
   "toc_window_display": false
  }
 },
 "nbformat": 4,
 "nbformat_minor": 2
}
