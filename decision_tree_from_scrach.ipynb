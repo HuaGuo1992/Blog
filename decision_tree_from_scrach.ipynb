{
 "cells": [
  {
   "cell_type": "code",
   "execution_count": 11,
   "metadata": {},
   "outputs": [
    {
     "data": {
      "text/html": [
       "<div>\n",
       "<style>\n",
       "    .dataframe thead tr:only-child th {\n",
       "        text-align: right;\n",
       "    }\n",
       "\n",
       "    .dataframe thead th {\n",
       "        text-align: left;\n",
       "    }\n",
       "\n",
       "    .dataframe tbody tr th {\n",
       "        vertical-align: top;\n",
       "    }\n",
       "</style>\n",
       "<table border=\"1\" class=\"dataframe\">\n",
       "  <thead>\n",
       "    <tr style=\"text-align: right;\">\n",
       "      <th></th>\n",
       "      <th>high_income</th>\n",
       "      <th>age</th>\n",
       "      <th>marital_status</th>\n",
       "    </tr>\n",
       "  </thead>\n",
       "  <tbody>\n",
       "    <tr>\n",
       "      <th>0</th>\n",
       "      <td>0</td>\n",
       "      <td>20</td>\n",
       "      <td>0</td>\n",
       "    </tr>\n",
       "    <tr>\n",
       "      <th>1</th>\n",
       "      <td>0</td>\n",
       "      <td>60</td>\n",
       "      <td>2</td>\n",
       "    </tr>\n",
       "    <tr>\n",
       "      <th>2</th>\n",
       "      <td>0</td>\n",
       "      <td>40</td>\n",
       "      <td>1</td>\n",
       "    </tr>\n",
       "    <tr>\n",
       "      <th>3</th>\n",
       "      <td>1</td>\n",
       "      <td>25</td>\n",
       "      <td>1</td>\n",
       "    </tr>\n",
       "    <tr>\n",
       "      <th>4</th>\n",
       "      <td>1</td>\n",
       "      <td>35</td>\n",
       "      <td>2</td>\n",
       "    </tr>\n",
       "    <tr>\n",
       "      <th>5</th>\n",
       "      <td>1</td>\n",
       "      <td>55</td>\n",
       "      <td>1</td>\n",
       "    </tr>\n",
       "  </tbody>\n",
       "</table>\n",
       "</div>"
      ],
      "text/plain": [
       "   high_income  age  marital_status\n",
       "0            0   20               0\n",
       "1            0   60               2\n",
       "2            0   40               1\n",
       "3            1   25               1\n",
       "4            1   35               2\n",
       "5            1   55               1"
      ]
     },
     "execution_count": 11,
     "metadata": {},
     "output_type": "execute_result"
    }
   ],
   "source": [
    "import pandas as pd\n",
    "import numpy as np\n",
    "import matplotlib.pyplot as plt\n",
    "%matplotlib inline\n",
    "\n",
    "income = pd.DataFrame([\n",
    "    [0,20,0],\n",
    "    [0,60,2],\n",
    "    [0,40,1],\n",
    "    [1,25,1],\n",
    "    [1,35,2],\n",
    "    [1,55,1]\n",
    "    ])\n",
    "income.columns = ['high_income', 'age', 'marital_status']\n",
    "income"
   ]
  },
  {
   "cell_type": "code",
   "execution_count": 14,
   "metadata": {},
   "outputs": [
    {
     "data": {
      "text/plain": [
       "[<matplotlib.lines.Line2D at 0x7fbf9fe37950>]"
      ]
     },
     "execution_count": 14,
     "metadata": {},
     "output_type": "execute_result"
    },
    {
     "data": {
      "image/png": "[encoded data removed]",
      "text/plain": [
       "<matplotlib.figure.Figure at 0x7fbf9a4d2d50>"
      ]
     },
     "metadata": {},
     "output_type": "display_data"
    }
   ],
   "source": [
    "x = np.linspace(0.00001, 1, 40)\n",
    "y = -x*np.log(x)\n",
    "plt.plot(x, y)"
   ]
  },
  {
   "cell_type": "markdown",
   "metadata": {},
   "source": [
    "## Information entropy & information gain"
   ]
  },
  {
   "cell_type": "markdown",
   "metadata": {},
   "source": [
    "划分选择：\n",
    "\n",
    "选择最优划分属性，使决策树的分支结点所包含的样本尽可能属于统一类别，即节点的纯度(purity)越来越高．\n",
    "\n",
    "\n",
    "假定当前样本集合Ｄ中第k类样本所占的比例为$p_k$, \n",
    "\n",
    "信息熵(information entropy):\n",
    "\n",
    "$$Ent(D) = -\\sum_{k=1}^{|y|}p_klog_2p_k$$\n",
    "\n",
    "假设离散属性ａ有Ｖ个可能的取值($a^1, a^2, a^V$).第Ｖ个分支节点包含勒Ｄ中所有在属性ａ上取值为$a^V$的样本，记为$D^V$\n",
    "\n",
    "信息增益(information gain):\n",
    "\n",
    "$$Gain(D, a) = Ent(D) - \\sum_{v=1}^{V}\\frac{D^v}{D}Ent(D^v)$$"
   ]
  },
  {
   "cell_type": "code",
   "execution_count": 53,
   "metadata": {},
   "outputs": [
    {
     "data": {
      "text/plain": [
       "[-0.57988115602968027, -0.69314718055994529]"
      ]
     },
     "execution_count": 53,
     "metadata": {},
     "output_type": "execute_result"
    }
   ],
   "source": [
    "def cal_entropy(col_data):\n",
    "    prob= np.bincount(col_data)/float(len(col_data))\n",
    "    entropy = 0\n",
    "    for item in prob:\n",
    "        if item >0:\n",
    "            entropy -= item * np.log(item)\n",
    "    return entropy\n",
    "\n",
    "entropy_age = cal_entropy(income['age'])\n",
    "entropy_age\n",
    "\n",
    "def cal_info_gain(data, split_col, target_col):\n",
    "    \n",
    "    original_entropy = cal_entropy(data[target_col])\n",
    "    \n",
    "    # split with median\n",
    "    median = data[split_col].median()\n",
    "    left_col = data[data[split_col] <= median]\n",
    "    right_col = data[data[split_col] > median]\n",
    "#     print 'split_col: ' + str(split_col)\n",
    "#     print 'median: ' + str(median)\n",
    "#     print left_col\n",
    "#     print right_col\n",
    "    to_subtract = 0\n",
    "    for col in [left_col, right_col]:\n",
    "        weight = float(col.shape[0]) / col.shape[0]\n",
    "        to_subtract -= weight*cal_entropy(col[target_col])\n",
    "        \n",
    "    gain = original_entropy + to_subtract\n",
    "    return gain\n",
    "    \n",
    "\n",
    "gains = []\n",
    "for col in ['age', 'marital_status']:\n",
    "    gain = cal_info_gain(income, col, 'high_income')\n",
    "    gains.append(gain)\n",
    "    \n",
    "gains"
   ]
  },
  {
   "cell_type": "markdown",
   "metadata": {},
   "source": [
    "### Find the best column "
   ]
  },
  {
   "cell_type": "code",
   "execution_count": 34,
   "metadata": {
    "collapsed": true
   },
   "outputs": [],
   "source": [
    "def find_best_col(data, target_col, cols):\n",
    "    info_gains = []\n",
    "    for col in cols:\n",
    "        gain = cal_info_gain(data, col, target_col)\n",
    "        info_gains.append(gain)\n",
    "    max_gain = max(info_gains)\n",
    "    best_col = cols[info_gains.index(max_gain)]\n",
    "    return best_col"
   ]
  },
  {
   "cell_type": "code",
   "execution_count": 36,
   "metadata": {},
   "outputs": [
    {
     "data": {
      "text/plain": [
       "'marital_status'"
      ]
     },
     "execution_count": 36,
     "metadata": {},
     "output_type": "execute_result"
    }
   ],
   "source": [
    "data = pd.DataFrame([\n",
    "    [0,20,0],\n",
    "    [0,60,2],\n",
    "    [0,40,1],\n",
    "    [1,25,1],\n",
    "    [1,35,2],\n",
    "    [1,55,1]\n",
    "    ])\n",
    "# Assign column names to the data\n",
    "data.columns = [\"high_income\", \"age\", \"marital_status\"]\n",
    "\n",
    "cols = ['age', 'marital_status']\n",
    "\n",
    "best_col = find_best_col(data, 'high_income', cols)\n",
    "best_col"
   ]
  },
  {
   "cell_type": "markdown",
   "metadata": {},
   "source": [
    "### Put them together "
   ]
  },
  {
   "cell_type": "code",
   "execution_count": 66,
   "metadata": {
    "collapsed": true
   },
   "outputs": [],
   "source": [
    "def id3(data, target_col, cols, tree, nodes):\n",
    "    \n",
    "    unique = pd.unique(data[target_col])\n",
    "    if len(unique) == 1:\n",
    "        if unique[0] == 0:\n",
    "            tree['label'] = 0\n",
    "        elif unique[0] ==1:\n",
    "            tree['label'] = 1\n",
    "        #？？？？　why return??\n",
    "        return \n",
    "    nodes.append(len(nodes) + 1)\n",
    "    tree['number'] = nodes[-1]\n",
    "    # ???? tree['number']\n",
    "    \n",
    "    \n",
    "    \n",
    "    best_col = find_best_col(data, target_col, cols)\n",
    "    median = data[best_col].median()\n",
    "    tree['column'] = best_col\n",
    "    tree['number'] = median\n",
    "    \n",
    "    left_col = data[data[best_col] < median]\n",
    "    right_col = data[data[best_col] >= median]\n",
    "    split_dict = [['left', left_col], ['right', right_col]]\n",
    "    print tree\n",
    "    for name, split_col in split_dict:\n",
    "        tree[name] = {}\n",
    "        id3(split_col, target_col, cols, tree[name], nodes)"
   ]
  },
  {
   "cell_type": "code",
   "execution_count": 67,
   "metadata": {},
   "outputs": [
    {
     "name": "stdout",
     "output_type": "stream",
     "text": [
      "{'column': 'age', 'number': 37.5}\n",
      "{'column': 'age', 'number': 25.0}\n",
      "{'column': 'age', 'number': 55.0}\n",
      "{'column': 'age', 'number': 57.5}\n",
      "tree:\n",
      "{'column': 'age', 'right': {'column': 'age', 'right': {'column': 'age', 'right': {'label': 0}, 'number': 57.5, 'left': {'label': 1}}, 'number': 55.0, 'left': {'label': 0}}, 'number': 37.5, 'left': {'column': 'age', 'right': {'label': 1}, 'number': 25.0, 'left': {'label': 0}}}\n",
      "\n",
      "nodes:\n",
      "[1, 2, 3, 4]\n"
     ]
    }
   ],
   "source": [
    "tree ={}\n",
    "nodes = []\n",
    "\n",
    "id3(data, 'high_income', ['age', 'marital_status'], tree, nodes)\n",
    "print 'tree:'\n",
    "print tree\n",
    "print \n",
    "print 'nodes:'\n",
    "print nodes"
   ]
  },
  {
   "cell_type": "markdown",
   "metadata": {},
   "source": [
    "### Predict single row"
   ]
  },
  {
   "cell_type": "code",
   "execution_count": 69,
   "metadata": {
    "collapsed": true
   },
   "outputs": [],
   "source": [
    "def predict(tree, row):\n",
    "    if 'label' in tree.keys():\n",
    "        return tree['label']\n",
    "    column = tree['column']\n",
    "    median = tree['number']\n",
    "    \n",
    "    if row[column] < median:\n",
    "        return predict(tree['left'], row)\n",
    "    else:\n",
    "        return predict(tree['right'], row)\n",
    "        "
   ]
  },
  {
   "cell_type": "code",
   "execution_count": 71,
   "metadata": {},
   "outputs": [
    {
     "data": {
      "text/plain": [
       "0"
      ]
     },
     "execution_count": 71,
     "metadata": {},
     "output_type": "execute_result"
    }
   ],
   "source": [
    "row = data.iloc[0]\n",
    "predict(tree, row)"
   ]
  },
  {
   "cell_type": "markdown",
   "metadata": {},
   "source": [
    "###  Predict batch"
   ]
  },
  {
   "cell_type": "code",
   "execution_count": 76,
   "metadata": {},
   "outputs": [
    {
     "data": {
      "text/plain": [
       "0    0\n",
       "1    0\n",
       "2    0\n",
       "3    1\n",
       "4    1\n",
       "5    1\n",
       "dtype: int64"
      ]
     },
     "execution_count": 76,
     "metadata": {},
     "output_type": "execute_result"
    }
   ],
   "source": [
    "def predict_batch(tree, df):\n",
    "    return df.apply(lambda x: predict(tree, x), axis=1)\n",
    "\n",
    "predict_batch(tree, data[['age', 'marital_status']])"
   ]
  }
 ],
 "metadata": {
  "kernelspec": {
   "display_name": "Python 2",
   "language": "python",
   "name": "python2"
  },
  "language_info": {
   "codemirror_mode": {
    "name": "ipython",
    "version": 2
   },
   "file_extension": ".py",
   "mimetype": "text/x-python",
   "name": "python",
   "nbconvert_exporter": "python",
   "pygments_lexer": "ipython2",
   "version": "2.7.13"
  }
 },
 "nbformat": 4,
 "nbformat_minor": 2
}
