{
 "cells": [
  {
   "cell_type": "markdown",
   "metadata": {},
   "source": [
    "制作u盘启动器中途被打断，造成u盘属性一项显示0字节，且电脑无法格式化。\n",
    "\n",
    "网上寻找方法，较多的方法是用右键属性，然后用**检查**选项来修复，多次修复无果。\n",
    "\n",
    "最后用的方法为： **用Uboot软件修复**"
   ]
  }
 ],
 "metadata": {
  "kernelspec": {
   "display_name": "Python 3",
   "language": "python",
   "name": "python3"
  },
  "language_info": {
   "codemirror_mode": {
    "name": "ipython",
    "version": 3
   },
   "file_extension": ".py",
   "mimetype": "text/x-python",
   "name": "python",
   "nbconvert_exporter": "python",
   "pygments_lexer": "ipython3",
   "version": "3.6.4"
  }
 },
 "nbformat": 4,
 "nbformat_minor": 2
}
