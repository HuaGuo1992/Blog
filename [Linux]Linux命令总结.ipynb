{
 "cells": [
  {
   "cell_type": "markdown",
   "metadata": {},
   "source": [
    "总结了一些使用过的linux命令, 之后会继续补充."
   ]
  },
  {
   "cell_type": "markdown",
   "metadata": {},
   "source": [
    "1. watch -n 10 nvidia-smi\n",
    "\n",
    "watch 'command' every 10s"
   ]
  },
  {
   "cell_type": "markdown",
   "metadata": {},
   "source": [
    "## 目录处理"
   ]
  },
  {
   "cell_type": "markdown",
   "metadata": {
    "collapsed": true
   },
   "source": [
    "mkdir -p   递归创建目录\n",
    "\n",
    "mv    删除文件，改名\n",
    "\n",
    "tree -d  显示directory tree\n",
    "\n",
    "ls -a | wc -l  显示目录中有多少文件\n",
    "\n",
    "1.DATA='~/Desktop'\n",
    "2.cd $DATA\n",
    "\n"
   ]
  },
  {
   "cell_type": "markdown",
   "metadata": {
    "collapsed": true
   },
   "source": [
    "## 文件相关"
   ]
  },
  {
   "cell_type": "markdown",
   "metadata": {
    "collapsed": true
   },
   "source": [
    "unzip filename 解压filename\n",
    "\n",
    "\n",
    "\n"
   ]
  },
  {
   "cell_type": "markdown",
   "metadata": {},
   "source": [
    "## 网络相关 "
   ]
  },
  {
   "cell_type": "markdown",
   "metadata": {},
   "source": [
    "wget 地址　　　下载文件"
   ]
  },
  {
   "cell_type": "markdown",
   "metadata": {},
   "source": [
    "**可以继续参考博客** 以下两篇文献[1](http://blog.csdn.net/hezemin0315/article/details/50666803),[2](http://blog.csdn.net/liu537192/article/details/51490863)"
   ]
  }
 ],
 "metadata": {
  "kernelspec": {
   "display_name": "Python 3",
   "language": "python",
   "name": "python3"
  },
  "language_info": {
   "codemirror_mode": {
    "name": "ipython",
    "version": 3
   },
   "file_extension": ".py",
   "mimetype": "text/x-python",
   "name": "python",
   "nbconvert_exporter": "python",
   "pygments_lexer": "ipython3",
   "version": "3.6.4"
  }
 },
 "nbformat": 4,
 "nbformat_minor": 2
}
