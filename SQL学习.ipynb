{
 "cells": [
  {
   "cell_type": "markdown",
   "metadata": {},
   "source": [
    "# 关系型和非关系型数据库 "
   ]
  },
  {
   "cell_type": "markdown",
   "metadata": {},
   "source": [
    "1. 非关系型： NoSQL not only SQL \n",
    "\n",
    "    解决的问题：数据容量增加，需要集群解决;大数据，喝多数据需要频繁读取和增加，不频繁修改。  MongDB等\n",
    "    \n",
    "2. 基于关系模型(如一个学生可以选修几门课，一门课程可以被多人选修等)的数据库叫关系型数据库。MySQL， SQLite等"
   ]
  },
  {
   "cell_type": "markdown",
   "metadata": {},
   "source": [
    "# SQL 和SQLite"
   ]
  },
  {
   "cell_type": "markdown",
   "metadata": {},
   "source": [
    "SQL 结构化查询语言\n",
    "\n",
    "SQLite：一款小型的关系型数据库管理系统   python： import sqlite3"
   ]
  },
  {
   "cell_type": "markdown",
   "metadata": {},
   "source": [
    "SQL执行顺序的问题[链接](https://blog.csdn.net/u014044812/article/details/51004754)"
   ]
  },
  {
   "cell_type": "markdown",
   "metadata": {},
   "source": [
    "DISTINCT 和 UNIQUE的区别：https://blog.csdn.net/lejuo/article/details/3505422"
   ]
  },
  {
   "cell_type": "markdown",
   "metadata": {},
   "source": [
    "# 待学习"
   ]
  },
  {
   "cell_type": "markdown",
   "metadata": {},
   "source": [
    "p208关系的完整性约束。"
   ]
  }
 ],
 "metadata": {
  "kernelspec": {
   "display_name": "Python 3",
   "language": "python",
   "name": "python3"
  },
  "language_info": {
   "codemirror_mode": {
    "name": "ipython",
    "version": 3
   },
   "file_extension": ".py",
   "mimetype": "text/x-python",
   "name": "python",
   "nbconvert_exporter": "python",
   "pygments_lexer": "ipython3",
   "version": "3.6.4"
  },
  "toc": {
   "nav_menu": {},
   "number_sections": true,
   "sideBar": true,
   "skip_h1_title": false,
   "title_cell": "Table of Contents",
   "title_sidebar": "Contents",
   "toc_cell": false,
   "toc_position": {},
   "toc_section_display": true,
   "toc_window_display": false
  }
 },
 "nbformat": 4,
 "nbformat_minor": 2
}
