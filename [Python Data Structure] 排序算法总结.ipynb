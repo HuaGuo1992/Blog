{
 "cells": [
  {
   "cell_type": "markdown",
   "metadata": {},
   "source": [
    "2017.12.29"
   ]
  },
  {
   "cell_type": "markdown",
   "metadata": {
    "collapsed": true
   },
   "source": [
    "本节总结如下排序方法：\n",
    "1. Bubble sort 冒泡排序\n",
    "1. Selection sort 选择排序\n",
    "+ Insertion sort 插入排序\n",
    "    + Shell sort 希尔排序\n",
    "+ Merge sort 归并排序\n",
    "+ Quick sort 快速排序\n",
    "+ heap sort 堆排序 "
   ]
  },
  {
   "cell_type": "markdown",
   "metadata": {},
   "source": [
    "### 以上这6种排序方法都为**比较排序**, 总体总结这几种排序:\n",
    "1. 冒泡排序的过程中会不断的交换元素, 然而选择排序可以说是冒泡排序的改进版, 它相当有选择了前面数列中的最大值, 省却了在过程中更换位置的操作; \n",
    "1. 插入排序相当于把过程发过来, 假设之前的列表已经排好序, 然后把新元素插入其中, 而希尔排序是插入排序的改进版, 它通过先把列表分成几个小列表, 在小列表内部进行插入排序, 最后对大列表进行插入排序, 以此达到较快的排序; \n",
    "2. 归并排序和快速排序用到分治法的思想, 如下图(来源:[Python algorithms](https://www.goodreads.com/book/show/9537756-python-algorithms))为分治法的一个节点展示, 快速排序在前一半(dividing)实现, 而归并排序在后一半(combining)实现.\n",
    "<img src='images/sort_algorithm.png' width='600' height='400'>\n",
    "3. 堆排序通过使用完全二叉树来实现排序\n",
    "\n",
    "之后还将介绍到**非比较排序**,主要有计数排序,基数排序,桶排序等"
   ]
  },
  {
   "cell_type": "markdown",
   "metadata": {},
   "source": [
    "排序算法性能如下:\n",
    "\n",
    "<img src='images/sort_compare.png' width='600' height='400'>\n",
    "\n"
   ]
  },
  {
   "cell_type": "markdown",
   "metadata": {},
   "source": [
    "## Bubble Sort"
   ]
  },
  {
   "cell_type": "markdown",
   "metadata": {},
   "source": [
    "复杂度为$O(n^2)$\n",
    "\n",
    "算法：\n",
    "\n",
    "+ １．比较相邻的元素，若第一大于第二，就交换他们\n",
    "+ ２．对每一对相邻元素进行相同操作，使最大元素到最后．\n",
    "+ ３．除却后部排好序的元素，然后再次进行１，２步操作\n",
    "\n",
    "两个两个比较，从头到尾，手中总是拿着到目前为止最大的那个，第一轮过去让最大的元素沉到列表的最后面。依次进行。示意图如下：\n",
    "\n",
    "<img src='images/sorting_bubble.png' width='600' height='400'>"
   ]
  },
  {
   "cell_type": "code",
   "execution_count": 1,
   "metadata": {},
   "outputs": [
    {
     "name": "stdout",
     "output_type": "stream",
     "text": [
      "[17, 20, 26, 31, 44, 54, 55, 77, 93]\n"
     ]
    }
   ],
   "source": [
    "def bubbleSort(alist):\n",
    "    for passnum in range(len(alist)-1,0,-1):\n",
    "        for i in range(passnum):\n",
    "            if alist[i]>alist[i+1]:\n",
    "                temp = alist[i]\n",
    "                alist[i] = alist[i+1]\n",
    "                alist[i+1] = temp\n",
    "\n",
    "alist = [54,26,93,17,77,31,44,55,20]\n",
    "bubbleSort(alist)\n",
    "print(alist)\n"
   ]
  },
  {
   "cell_type": "markdown",
   "metadata": {},
   "source": [
    "##  Selection sort"
   ]
  },
  {
   "cell_type": "markdown",
   "metadata": {},
   "source": [
    "复杂度就比较来言，和冒泡排序一样为$O(n^2)$,然而**交换的次数大大减少**，所以运行速度更快。\n",
    "\n",
    "在剩下的表中，遍历发现最大的元素，然后把它放在末端。\n",
    "\n",
    "<img src='images/sorting_selection.png' width='600' height='400'>"
   ]
  },
  {
   "cell_type": "code",
   "execution_count": 4,
   "metadata": {},
   "outputs": [
    {
     "name": "stdout",
     "output_type": "stream",
     "text": [
      "[17, 20, 26, 31, 44, 54, 55, 77, 93]\n"
     ]
    }
   ],
   "source": [
    "def selectionSort(alist):\n",
    "   for fillslot in range(len(alist)-1,0,-1):\n",
    "       positionOfMax=0\n",
    "       for location in range(1,fillslot+1):\n",
    "           if alist[location]>alist[positionOfMax]:\n",
    "               positionOfMax = location\n",
    "\n",
    "       temp = alist[fillslot]\n",
    "       alist[fillslot] = alist[positionOfMax]\n",
    "       alist[positionOfMax] = temp\n",
    "\n",
    "alist = [54,26,93,17,77,31,44,55,20]\n",
    "selectionSort(alist)\n",
    "print(alist)\n"
   ]
  },
  {
   "cell_type": "markdown",
   "metadata": {},
   "source": [
    "##  Insertion sort "
   ]
  },
  {
   "cell_type": "markdown",
   "metadata": {},
   "source": [
    "插入排序(insertion sorting)：假设前面的元素已经排好序，将这个元素插入前面的元素，为提高速度，可采用二分查找来插入．\n",
    "\n",
    "复杂度的问题：\n",
    "\n",
    "算法最坏复杂度为$O(n^2)$,最好为$O(n)$"
   ]
  },
  {
   "cell_type": "code",
   "execution_count": 5,
   "metadata": {
    "collapsed": true
   },
   "outputs": [],
   "source": [
    "# normal insertion sort algorithm\n",
    "def insertion_sort(lst):\n",
    "    \n",
    "    for idx in range(1, len(lst)):\n",
    "        current_value = lst[idx]\n",
    "        position = idx\n",
    "        while position > 0 and lst[position-1] > current_value:\n",
    "            lst[position] = lst[position-1]\n",
    "            position -=1\n",
    "        lst[position] = current_value\n",
    "# insertion sort with binary search    \n",
    "def insertion_sort_binary_search(lst):   \n",
    "    for idx in range(1, len(lst)):\n",
    "        current_value = lst[idx]\n",
    "        position = idx\n",
    "        lower = 0\n",
    "        higher = position - 1\n",
    "        while higher >= lower:\n",
    "            mid = (higher + lower) / 2\n",
    "            if lst[mid] > current_value:\n",
    "                higher = mid -1\n",
    "            else:\n",
    "                lower = mid + 1\n",
    "#             print lower\n",
    "#             print higher\n",
    "        while position > lower:\n",
    "            lst[position] = lst[position-1]\n",
    "            position -=1\n",
    "        lst[position] = current_value\n",
    "#         print lst"
   ]
  },
  {
   "cell_type": "markdown",
   "metadata": {},
   "source": [
    "**Shell sort**"
   ]
  },
  {
   "cell_type": "markdown",
   "metadata": {},
   "source": [
    "相当于对列表进行了前处理，使得总的复杂度降低。\n",
    "\n",
    "前处理：列表被分割成几个小的列表，每个列表内部进行插入排序\n",
    "\n",
    "<img src='images/sorting_shell.png' width='600' height='400'>\n",
    "\n",
    "**选用不同的gap进行处理，最后一个的gap为1,得到最后的结果。如下示例代码：**"
   ]
  },
  {
   "cell_type": "code",
   "execution_count": 6,
   "metadata": {},
   "outputs": [
    {
     "name": "stdout",
     "output_type": "stream",
     "text": [
      "('After increments of size', 4, 'The list is', [20, 26, 44, 17, 54, 31, 93, 55, 77])\n",
      "('After increments of size', 2, 'The list is', [20, 17, 44, 26, 54, 31, 77, 55, 93])\n",
      "('After increments of size', 1, 'The list is', [17, 20, 26, 31, 44, 54, 55, 77, 93])\n",
      "[17, 20, 26, 31, 44, 54, 55, 77, 93]\n"
     ]
    }
   ],
   "source": [
    "def shellSort(alist):\n",
    "    sublistcount = len(alist)//2\n",
    "    while sublistcount > 0:\n",
    "\n",
    "      for startposition in range(sublistcount):\n",
    "        gapInsertionSort(alist,startposition,sublistcount)\n",
    "\n",
    "      print(\"After increments of size\",sublistcount,\n",
    "                                   \"The list is\",alist)\n",
    "\n",
    "      sublistcount = sublistcount // 2\n",
    "\n",
    "def gapInsertionSort(alist,start,gap):\n",
    "    for i in range(start+gap,len(alist),gap):\n",
    "\n",
    "        currentvalue = alist[i]\n",
    "        position = i\n",
    "\n",
    "        while position>=gap and alist[position-gap]>currentvalue:\n",
    "            alist[position]=alist[position-gap]\n",
    "            position = position-gap\n",
    "\n",
    "        alist[position]=currentvalue\n",
    "\n",
    "alist = [54,26,93,17,77,31,44,55,20]\n",
    "shellSort(alist)\n",
    "print(alist)\n"
   ]
  },
  {
   "cell_type": "markdown",
   "metadata": {},
   "source": [
    "##  Merge sort"
   ]
  },
  {
   "cell_type": "markdown",
   "metadata": {},
   "source": [
    "合并排序(merge sort):　二路排序，将原始数据分为两部分，分别进行排序，然后将各自集合并． 典型分治法测略．\n",
    "\n",
    "+ Split \n",
    "+ Merge\n",
    "\n",
    "时间复杂度：\n",
    "\n",
    "Split 二分log(n)； Merge 每个元素都会被放入排序好的list中,每个需要ｎ步．\n",
    "\n",
    "所以总的复杂度为$O(nlogn)$   **归并排序复杂度推倒还不大清楚**\n",
    "\n",
    "\n",
    "<img src='images/merg_sort.png', width='600' height='400'>"
   ]
  },
  {
   "cell_type": "code",
   "execution_count": 8,
   "metadata": {
    "collapsed": true
   },
   "outputs": [],
   "source": [
    "def merge_sort(lst):\n",
    "    print 'Spliting: ' + str(lst)\n",
    "    \n",
    "    #spliting lst\n",
    "    if len(lst) > 1:\n",
    "        mid = len(lst) // 2\n",
    "        left_half = lst[:mid]\n",
    "        right_half = lst[mid:]\n",
    "        merge_sort(left_half)\n",
    "        merge_sort(right_half)\n",
    "\n",
    "        # index of left_half, right_half & lst\n",
    "        i = 0\n",
    "        j = 0\n",
    "        k = 0\n",
    "\n",
    "        # while until one of the list has been iterated\n",
    "        while i < len(left_half) and j < len(right_half):\n",
    "            if left_half[i] < right_half[j]:\n",
    "                lst[k] = left_half[i]\n",
    "                i += 1\n",
    "            else:\n",
    "                lst[k] = right_half[j]\n",
    "                j += 1\n",
    "            k += 1\n",
    "\n",
    "        # To iterate the rest one\n",
    "        while i < len(left_half):\n",
    "            lst[k] = left_half[i]\n",
    "            i += 1\n",
    "            k += 1\n",
    "        while j < len(right_half):\n",
    "            lst[k] = right_half[j]\n",
    "            j += 1\n",
    "            k += 1\n",
    "        print 'Merging: ' + str(lst)\n",
    "    "
   ]
  },
  {
   "cell_type": "markdown",
   "metadata": {},
   "source": [
    "##  Quick sort "
   ]
  },
  {
   "cell_type": "markdown",
   "metadata": {},
   "source": [
    "1. 选择最后一个元素作为基准\n",
    "1. 之前所有元素和基准元素比较，分为两部分\n",
    "1. 对每部分进行１，２操作\n",
    "\n",
    "复杂度：O(nlogn)\n"
   ]
  },
  {
   "cell_type": "markdown",
   "metadata": {},
   "source": [
    "**以下有两种方法实现快速排序**\n",
    "\n",
    "1. index i&j 从左端开始\n",
    "1. index leftMark, rightMark 从两端同时开始"
   ]
  },
  {
   "cell_type": "code",
   "execution_count": 9,
   "metadata": {
    "collapsed": true
   },
   "outputs": [],
   "source": [
    "# 第一种方法\n",
    "def partition(arr, firstIndex, lastIndex):\n",
    "    i = firstIndex - 1\n",
    "    for j in range(firstIndex, lastIndex):\n",
    "        if arr[j] <= arr[lastIndex]:\n",
    "            i += 1\n",
    "            arr[j], arr[i] = arr[i], arr[j]\n",
    "#             print 'j is ' + str(j)\n",
    "#             print arr\n",
    "    arr[i+1], arr[lastIndex] = arr[lastIndex], arr[i+1]\n",
    "    return i\n",
    "\n",
    "\n",
    "def QuickSort(arr, firstIndex, lastIndex):\n",
    "    if firstIndex < lastIndex:\n",
    "        divIndex = partition(arr, firstIndex, lastIndex)\n",
    "        QuickSort(arr, firstIndex, divIndex)\n",
    "        QuickSort(arr, divIndex+1, lastIndex)\n",
    "    else:\n",
    "        return"
   ]
  },
  {
   "cell_type": "markdown",
   "metadata": {},
   "source": [
    "**第二种方法：**\n",
    "\n",
    "<img src='images/sorting_quick.png' width='600' height='400'>"
   ]
  },
  {
   "cell_type": "code",
   "execution_count": 11,
   "metadata": {},
   "outputs": [
    {
     "name": "stdout",
     "output_type": "stream",
     "text": [
      "[17, 20, 26, 31, 44, 54, 55, 77, 93]\n"
     ]
    }
   ],
   "source": [
    "# 第二种方法\n",
    "def quickSort(alist):\n",
    "   quickSortHelper(alist,0,len(alist)-1)\n",
    "\n",
    "def quickSortHelper(alist,first,last):\n",
    "   if first<last:\n",
    "\n",
    "       splitpoint = partition(alist,first,last)\n",
    "\n",
    "       quickSortHelper(alist,first,splitpoint-1)\n",
    "       quickSortHelper(alist,splitpoint+1,last)\n",
    "\n",
    "\n",
    "def partition(alist,first,last):\n",
    "   pivotvalue = alist[first]\n",
    "\n",
    "   leftmark = first+1\n",
    "   rightmark = last\n",
    "\n",
    "   done = False\n",
    "   while not done:\n",
    "\n",
    "       while leftmark <= rightmark and alist[leftmark] <= pivotvalue:\n",
    "           leftmark = leftmark + 1\n",
    "\n",
    "       while alist[rightmark] >= pivotvalue and rightmark >= leftmark:\n",
    "           rightmark = rightmark -1\n",
    "\n",
    "       if rightmark < leftmark:\n",
    "           done = True\n",
    "       else:\n",
    "           temp = alist[leftmark]\n",
    "           alist[leftmark] = alist[rightmark]\n",
    "           alist[rightmark] = temp\n",
    "\n",
    "   temp = alist[first]\n",
    "   alist[first] = alist[rightmark]\n",
    "   alist[rightmark] = temp\n",
    "\n",
    "\n",
    "   return rightmark\n",
    "\n",
    "alist = [54,26,93,17,77,31,44,55,20]\n",
    "quickSort(alist)\n",
    "print(alist)\n",
    "\n"
   ]
  },
  {
   "cell_type": "markdown",
   "metadata": {},
   "source": [
    "##  堆排序 "
   ]
  },
  {
   "cell_type": "markdown",
   "metadata": {},
   "source": [
    "堆排序时利用堆这种数据结构(这里运用大根堆), 通过无序区的大根堆寻找最大元素, 并把最大元素移到有序区来实现排序.\n",
    "\n",
    "要了解这个排序方法,需要了解堆的数据结构,堆是一种完全二叉树结构,通常是通过一维数组来表现,它分为大根堆和小根堆,大根堆的子节点小于父节点.\n",
    "\n",
    "堆排序过程:\n",
    "1. 由输入的原始数组构建大根堆,作为初始无序区\n",
    "1. 将堆顶元素和堆尾元素调换位置,堆顶元素进入有序区,无序区元素少一个\n",
    "1. 对无序区重新调整,建立新的大根堆\n",
    "1. 步骤2,3,直至堆的尺寸为1\n",
    "\n",
    "参考[网上图片](https://www.cnblogs.com/eniac12/p/5329396.html#s5)如下:\n",
    "<img src='images/heap_sort.gif' width='400'>\n",
    "\n",
    "以下通过三个函数构建堆排序:"
   ]
  },
  {
   "cell_type": "code",
   "execution_count": 29,
   "metadata": {},
   "outputs": [],
   "source": [
    "def ajustHeap(L, low, high):\n",
    "    # 将处于low位置的元素调整下去(如果需要)\n",
    "    # high指的是堆的大小\n",
    "#     print('L before', L)\n",
    "    tmp = L[low]\n",
    "    i = low\n",
    "    j = 2*i\n",
    "    while j <= high:\n",
    "        if j <= high and j+1 <= high:\n",
    "            # j, j+1 为i的字节点, 此举在将j指向比较大的字节点\n",
    "            if L[j] < L[j+1]:\n",
    "                j+=1\n",
    "        if L[j] > tmp:\n",
    "            #如若字节点大于父节点, 则将字节点上移\n",
    "            L[i] = L[j]\n",
    "            # i指向tmp暂时的位置, j指向暂时位置的字节点\n",
    "            i = j\n",
    "            j = 2*i\n",
    "        else:\n",
    "            break\n",
    "    #发现tmp的位置\n",
    "    L[i] = tmp\n",
    "#     print('low', low)\n",
    "#     print('L after', L)\n",
    "#     print('===================')    \n",
    "\n",
    "def build_maxheap(L, Len):\n",
    "    # 用于构造初始的大根堆\n",
    "    for i in range(Len//2, 0, -1):\n",
    "        ajustHeap(L, i, Len)\n",
    "    return L\n",
    "    \n",
    "\n",
    "def heap_sort(L):\n",
    "    L.insert(0, 0)\n",
    "    # 序号从1开始,所以插入一个0\n",
    "    Len = len(L)-1\n",
    "    build_maxheap(L, Len)\n",
    "    for idx in range(Len, 1, -1):\n",
    "        L[1], L[idx] = L[idx], L[1] # 交换堆顶元素和最后一个元素\n",
    "        ajustHeap(L, 1, idx-1) # 重新调整堆, 将最大值移至堆顶\n",
    "    return L[1:]\n",
    "    "
   ]
  },
  {
   "cell_type": "code",
   "execution_count": 30,
   "metadata": {},
   "outputs": [
    {
     "data": {
      "text/plain": [
       "[13, 38, 47, 49, 65, 67, 76, 97]"
      ]
     },
     "execution_count": 30,
     "metadata": {},
     "output_type": "execute_result"
    }
   ],
   "source": [
    "L = [49,38,65,97,76,13,67,47]\n",
    "heap_sort(L)"
   ]
  }
 ],
 "metadata": {
  "kernelspec": {
   "display_name": "Python 3",
   "language": "python",
   "name": "python3"
  },
  "language_info": {
   "codemirror_mode": {
    "name": "ipython",
    "version": 3
   },
   "file_extension": ".py",
   "mimetype": "text/x-python",
   "name": "python",
   "nbconvert_exporter": "python",
   "pygments_lexer": "ipython3",
   "version": "3.6.4"
  },
  "toc": {
   "nav_menu": {},
   "number_sections": true,
   "sideBar": true,
   "skip_h1_title": false,
   "title_cell": "Table of Contents",
   "title_sidebar": "Contents",
   "toc_cell": false,
   "toc_position": {},
   "toc_section_display": true,
   "toc_window_display": false
  }
 },
 "nbformat": 4,
 "nbformat_minor": 2
}
