{
 "cells": [
  {
   "cell_type": "markdown",
   "metadata": {},
   "source": [
    "# 1.22-1.28 总结"
   ]
  },
  {
   "cell_type": "markdown",
   "metadata": {},
   "source": [
    "编程学习总结(共计16小时)\n",
    "--\n",
    "1. leetcode 23 problems solved(array and dynamic programming)(12个小时)\n",
    "1. python algorithm book 20 页 (4个小时)"
   ]
  },
  {
   "cell_type": "markdown",
   "metadata": {},
   "source": [
    "古迹调研总结(共计4小时)\n",
    "--\n",
    "1. 查阅民国21年和清<林县志>(4小时)"
   ]
  },
  {
   "cell_type": "markdown",
   "metadata": {},
   "source": [
    "# 1.29-2.4 "
   ]
  },
  {
   "cell_type": "markdown",
   "metadata": {},
   "source": [
    "计划\n",
    "--\n",
    "编程学习\n",
    "\n",
    "1. （未，刚开始）深挖ML一个项目(20小时，周一确定)\n",
    "1. （完成７题）leetcode完成50题(预计20小时，7题每天)\n",
    "1. （完成第八章）python algorith 书　读完第七八章（30页，６小时）\n",
    "1. （未）扫尾博客搭建\n",
    "\n",
    "1. （未）查看求职博客\n",
    "\n",
    "古迹调研\n",
    "--\n",
    "1. （完成）实地调研\n",
    "2. （完成）县志阅读\n",
    "\n",
    "生活\n",
    "--\n",
    "1. （已确定，还未完成）确定礼物，开始准备\n",
    "\n",
    "总结(2.5)：\n",
    "1. 任务量完成３０％\n",
    "1. 主要任务(项目未开始)\n",
    "1. leetcode 题目比较难做，博客搭建还需努力"
   ]
  },
  {
   "cell_type": "markdown",
   "metadata": {},
   "source": [
    "## 2.5-2.11"
   ]
  },
  {
   "cell_type": "markdown",
   "metadata": {},
   "source": [
    "计划：\n",
    "1. 图像识别的项目\n",
    "1. 解决礼物的问题\n",
    "1. 复习完数据结构算法，并总结\n",
    "1. leetcode 刷题２０道"
   ]
  },
  {
   "cell_type": "code",
   "execution_count": null,
   "metadata": {
    "collapsed": true
   },
   "outputs": [],
   "source": []
  }
 ],
 "metadata": {
  "kernelspec": {
   "display_name": "Python 2",
   "language": "python",
   "name": "python2"
  },
  "language_info": {
   "codemirror_mode": {
    "name": "ipython",
    "version": 2
   },
   "file_extension": ".py",
   "mimetype": "text/x-python",
   "name": "python",
   "nbconvert_exporter": "python",
   "pygments_lexer": "ipython2",
   "version": "2.7.13"
  }
 },
 "nbformat": 4,
 "nbformat_minor": 2
}
