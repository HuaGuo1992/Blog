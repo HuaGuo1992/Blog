{
 "cells": [
  {
   "cell_type": "markdown",
   "metadata": {},
   "source": [
    "2017.12.29"
   ]
  },
  {
   "cell_type": "markdown",
   "metadata": {},
   "source": [
    "# 1. Searching"
   ]
  },
  {
   "cell_type": "markdown",
   "metadata": {},
   "source": [
    "+ 顺序查找　sequential search\n",
    "+ 二分查找　binary search\n",
    "+ 哈希表和哈希查找　hashing"
   ]
  },
  {
   "cell_type": "markdown",
   "metadata": {},
   "source": [
    "## 1.1 Sequential search "
   ]
  },
  {
   "cell_type": "markdown",
   "metadata": {},
   "source": [
    "Sequential search with *Unordered list*\n",
    "\n",
    "<img src='images/search_sequential.png' style='100%'>\n",
    "\n",
    "... with *ordered list*:\n",
    "\n",
    "<img src='images/search_sequential_ordered.png', style='120%'>"
   ]
  },
  {
   "cell_type": "markdown",
   "metadata": {},
   "source": [
    "## 1.2 Binary search"
   ]
  },
  {
   "cell_type": "markdown",
   "metadata": {},
   "source": [
    "The complexity is $O(log(n))$. It is important to note that for small values of n, the **additional cost of sorting** is probably **not worth** it.\n"
   ]
  },
  {
   "cell_type": "code",
   "execution_count": 2,
   "metadata": {},
   "outputs": [
    {
     "name": "stdout",
     "output_type": "stream",
     "text": [
      "False\n"
     ]
    }
   ],
   "source": [
    "found = False\n",
    "\n",
    "def recursionBinarySearch(alist, item):\n",
    "    first = 0\n",
    "    last = len(alist) - 1\n",
    "    global found\n",
    "    \n",
    "    while first<= last and not found:\n",
    "        mid = (first + last) // 2\n",
    "        if alist[mid] == item:\n",
    "            found = True\n",
    "        elif alist[mid] > item:\n",
    "            last = mid -1\n",
    "            return recursionBinarySearch(alist[first:last], item)\n",
    "        else:\n",
    "            first = mid + 1\n",
    "            return recursionBinarySearch(alist[first: last], item)\n",
    "#         print('first', first, 'last', last)\n",
    "    return found\n",
    "\n",
    "\n",
    "testlist = [0, 1, 2, 8, 13, 17, 19, 32, 42,]\n",
    "print(recursionBinarySearch(testlist, 3))\n",
    "# print(binarySearch(testlist, 13))"
   ]
  },
  {
   "cell_type": "markdown",
   "metadata": {},
   "source": [
    "## 1.3 Hashing "
   ]
  },
  {
   "cell_type": "markdown",
   "metadata": {},
   "source": [
    "哈希表的搜索复杂度为O(1)，**Python中dictionary 和 set 是用哈希表实现的**．"
   ]
  },
  {
   "cell_type": "markdown",
   "metadata": {},
   "source": [
    "### 哈希表 "
   ]
  },
  {
   "cell_type": "markdown",
   "metadata": {},
   "source": [
    "哈希表中每个位置被称为slot, 每个位置能容纳一个item，item的最初值为None,　每个位置都已从０开始数字命名．如下所示：\n",
    "\n",
    "<img src='images/hashing_slot.png' width=800>"
   ]
  },
  {
   "cell_type": "markdown",
   "metadata": {},
   "source": [
    "### 哈希函数 "
   ]
  },
  {
   "cell_type": "markdown",
   "metadata": {},
   "source": [
    "哈希函数：根据给定的关键字，决定存储位置的函数。\n",
    "\n",
    "基本原则：使得到的地址近可能多的均匀分布在给定空间"
   ]
  },
  {
   "cell_type": "markdown",
   "metadata": {},
   "source": [
    "**解决冲突**"
   ]
  }
 ],
 "metadata": {
  "kernelspec": {
   "display_name": "Python 3",
   "language": "python",
   "name": "python3"
  },
  "language_info": {
   "codemirror_mode": {
    "name": "ipython",
    "version": 3
   },
   "file_extension": ".py",
   "mimetype": "text/x-python",
   "name": "python",
   "nbconvert_exporter": "python",
   "pygments_lexer": "ipython3",
   "version": "3.6.4"
  },
  "toc": {
   "nav_menu": {},
   "number_sections": true,
   "sideBar": true,
   "skip_h1_title": false,
   "title_cell": "Table of Contents",
   "title_sidebar": "Contents",
   "toc_cell": false,
   "toc_position": {},
   "toc_section_display": true,
   "toc_window_display": false
  }
 },
 "nbformat": 4,
 "nbformat_minor": 2
}
