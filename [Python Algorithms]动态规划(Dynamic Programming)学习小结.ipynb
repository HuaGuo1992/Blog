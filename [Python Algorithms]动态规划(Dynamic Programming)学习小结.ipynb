{
 "cells": [
  {
   "cell_type": "markdown",
   "metadata": {},
   "source": [
    "2018-2-5\n",
    "--\n",
    "此篇文章结合[Python Algorithms](https://www.goodreads.com/book/show/9537756-python-algorithms) 第八章和[Leetcode](https://leetcode.com/)上动态规划相关题目．为笔者动态规划编程思想学习初步小结．"
   ]
  },
  {
   "cell_type": "markdown",
   "metadata": {},
   "source": [
    "## 1. 概念初解 "
   ]
  },
  {
   "cell_type": "markdown",
   "metadata": {},
   "source": [
    "动态规划的思想和分治法类似，都是将问题分解成子问题．所不同的是动态规划中子问题直接有重叠，而分治法的子问题直接没有重叠．\n",
    "\n",
    "动态规划实际上是将递归(recursion)反过来，转化为一个迭代(iteration)的过程，同时在这个过程中还会逐步的填满(比如某个多维数组)．实际上是一个**空间换时间**的算法．"
   ]
  },
  {
   "cell_type": "markdown",
   "metadata": {},
   "source": [
    "几种方法之间的关系：\n",
    "--\n",
    "Brute force(有助于理解问题) $\\longrightarrow$ Recursion(一些因素限制：limited stack depth; function call overhead) $\\longrightarrow$ Recursion with memorization $\\longrightarrow$ Danamic programming "
   ]
  },
  {
   "cell_type": "markdown",
   "metadata": {},
   "source": [
    "涉及到几种重要思想：\n",
    "--\n",
    "- Induction\n",
    "- Relaxiation\n",
    "- Strong assumption"
   ]
  },
  {
   "cell_type": "markdown",
   "metadata": {},
   "source": [
    "## 2. 适用情况 "
   ]
  },
  {
   "cell_type": "markdown",
   "metadata": {},
   "source": [
    "1. 最有子结构性质：问题的最优解包含的子问题的解也是最优的\n",
    "1. 无后效性：子问题的接一旦确定，便不受在其后包含它的更大问题的求解影响\n",
    "1. 子问题重叠性质"
   ]
  },
  {
   "cell_type": "markdown",
   "metadata": {},
   "source": [
    "## 3. 思路 "
   ]
  },
  {
   "cell_type": "markdown",
   "metadata": {},
   "source": [
    "归纳法(Induction)的思想在动态规划中很重要．我们可以通过归纳法得出算法的递归办解决办法，然后逆过来转化为一个迭代版本."
   ]
  },
  {
   "cell_type": "markdown",
   "metadata": {},
   "source": [
    "动态规划：\n",
    "1. Recursion with memorization\n",
    "\n",
    "    1. Start 1st, next step\n",
    "    1. Start last, previous\n",
    "1. Iteration with relaxation\n",
    "\n",
    "    1. relax edges out \n",
    "    1. relax deges in "
   ]
  },
  {
   "cell_type": "markdown",
   "metadata": {},
   "source": [
    "## 3. 实例 "
   ]
  },
  {
   "cell_type": "markdown",
   "metadata": {},
   "source": [
    "Longest Common Subsequence(LCS)问题：\n",
    "--\n"
   ]
  },
  {
   "cell_type": "code",
   "execution_count": 1,
   "metadata": {
    "collapsed": true
   },
   "outputs": [],
   "source": [
    "# Memoizing decorator \n",
    "from functools import wraps\n",
    "from functools import wraps\n",
    "def memo(func):\n",
    "    cache = {}\n",
    "#     @wraps(func)\n",
    "    def wraps(*arg):\n",
    "        if arg not in cache:\n",
    "            cache[arg] = func(*arg)\n",
    "        return cache[arg]\n",
    "    return wraps"
   ]
  },
  {
   "cell_type": "code",
   "execution_count": 2,
   "metadata": {
    "collapsed": true
   },
   "outputs": [],
   "source": [
    "lst = [1, 0, 7, 2, 8, 3, 4, 9]"
   ]
  },
  {
   "cell_type": "code",
   "execution_count": 28,
   "metadata": {
    "collapsed": true
   },
   "outputs": [],
   "source": [
    "# recursive version\n",
    "def rec_lis(lst):\n",
    "    @memo\n",
    "    def L(cur):\n",
    "        res = 1\n",
    "        for pre in range(cur):\n",
    "            if lst[pre] <= lst[cur]:\n",
    "                res = max(res, 1 + L(pre))\n",
    "        return res\n",
    "    return max(L(i) for i in range(len(lst)))\n",
    "#     return [L(i) for i in range(len(lst))]\n",
    "\n",
    "# iterative version\n",
    "def basic_lis(lst):\n",
    "    L = [1]*len(lst)\n",
    "    for cur, val in enumerate(lst):\n",
    "        for pre in range(cur):\n",
    "#             print('l0', L[0])\n",
    "            if lst[pre] <= val:\n",
    "                L[cur] = max(L[cur], 1 + L[pre])\n",
    "#     return L\n",
    "    return max(L)"
   ]
  },
  {
   "cell_type": "code",
   "execution_count": 29,
   "metadata": {},
   "outputs": [
    {
     "data": {
      "text/plain": [
       "5"
      ]
     },
     "execution_count": 29,
     "metadata": {},
     "output_type": "execute_result"
    }
   ],
   "source": [
    "rec_lis(lst)"
   ]
  },
  {
   "cell_type": "code",
   "execution_count": 30,
   "metadata": {},
   "outputs": [
    {
     "data": {
      "text/plain": [
       "5"
      ]
     },
     "execution_count": 30,
     "metadata": {},
     "output_type": "execute_result"
    }
   ],
   "source": [
    "basic_lis(lst)"
   ]
  },
  {
   "cell_type": "markdown",
   "metadata": {},
   "source": [
    "## leet code 383. Counting bits"
   ]
  },
  {
   "cell_type": "code",
   "execution_count": 129,
   "metadata": {
    "collapsed": true
   },
   "outputs": [],
   "source": [
    "# brute forece  \n",
    "#2.93%\n",
    "def naive(num):\n",
    "    def count(i):\n",
    "        res = []\n",
    "        while i != 0:\n",
    "            res.append(i%2)\n",
    "            i = i//2\n",
    "        return sum(res)\n",
    "    re = []\n",
    "    for i in range(num+1):\n",
    "        re.append(count(i))\n",
    "    return re\n",
    "\n",
    "\n",
    "\n",
    "# Recursive version  L(i) = L(i//2) + i%2  \n",
    "# 2.11%\n",
    "def recur(num):\n",
    "    dp = [0]*(num+1)\n",
    "    def L(i):\n",
    "        if i == 0:\n",
    "            dp[i] = 0\n",
    "            return dp[i]\n",
    "#         print('i', i)\n",
    "#         print('i//2', i//2)\n",
    "#         print('i%2', i%2)\n",
    "        dp[i] = L(i//2) + i%2\n",
    "        return dp[i]\n",
    "    for i in range(num+1):\n",
    "        L(i)\n",
    "    return dp \n",
    "\n",
    "# Recursive version with memorization\n",
    "# 4.57%\n",
    "from functools import wraps\n",
    "def memo(func):\n",
    "    cache = {}\n",
    "#     @wraps(func)\n",
    "    def wraps(*arg):\n",
    "        if arg not in cache:\n",
    "            cache[arg] = func(*arg)\n",
    "        return cache[arg]\n",
    "    return wraps\n",
    "def recur_memo(num):\n",
    "    dp = [0]*(num+1)\n",
    "    @memo\n",
    "    def L(i):\n",
    "        if i == 0:\n",
    "            dp[i] = 0\n",
    "            return dp[i]\n",
    "#         print('i', i)\n",
    "#         print('i//2', i//2)\n",
    "#         print('i%2', i%2)\n",
    "        dp[i] = L(i//2) + i%2\n",
    "        return dp[i]\n",
    "    for i in range(num+1):\n",
    "        L(i)\n",
    "    return dp \n",
    "\n",
    "\n",
    "# DP version\n",
    "# strong assumption dp[i] = dp[i//1] + i%2\n",
    "% 31.03\n",
    "def dp(nums):\n",
    "    dp = [0]*(nums+1)\n",
    "    for idx in range(1, nums+1):\n",
    "        dp[idx] = dp[idx//2] + idx%2\n",
    "    return dp    "
   ]
  },
  {
   "cell_type": "code",
   "execution_count": 130,
   "metadata": {},
   "outputs": [
    {
     "data": {
      "text/plain": [
       "[0, 1, 1, 2, 1, 2]"
      ]
     },
     "execution_count": 130,
     "metadata": {},
     "output_type": "execute_result"
    }
   ],
   "source": [
    "naive(5)"
   ]
  },
  {
   "cell_type": "code",
   "execution_count": 131,
   "metadata": {},
   "outputs": [
    {
     "data": {
      "text/plain": [
       "[0, 1, 1, 2, 1, 2]"
      ]
     },
     "execution_count": 131,
     "metadata": {},
     "output_type": "execute_result"
    }
   ],
   "source": [
    "recur(5)"
   ]
  },
  {
   "cell_type": "code",
   "execution_count": 132,
   "metadata": {},
   "outputs": [
    {
     "data": {
      "text/plain": [
       "[0, 1, 1, 2, 1, 2]"
      ]
     },
     "execution_count": 132,
     "metadata": {},
     "output_type": "execute_result"
    }
   ],
   "source": [
    "recur_memo(5)"
   ]
  },
  {
   "cell_type": "code",
   "execution_count": 101,
   "metadata": {
    "scrolled": true
   },
   "outputs": [
    {
     "data": {
      "text/plain": [
       "[0, 1, 1, 2, 1, 2]"
      ]
     },
     "execution_count": 101,
     "metadata": {},
     "output_type": "execute_result"
    }
   ],
   "source": [
    "dp(5)"
   ]
  },
  {
   "cell_type": "markdown",
   "metadata": {},
   "source": [
    "## Leetcode 712. Minimum ASCII delete sum for two strings "
   ]
  },
  {
   "cell_type": "code",
   "execution_count": 133,
   "metadata": {
    "collapsed": true
   },
   "outputs": [],
   "source": [
    "s1 = 'delete'\n",
    "s2 = 'leet'"
   ]
  },
  {
   "cell_type": "markdown",
   "metadata": {},
   "source": [
    "Induction process:\n",
    "--\n",
    "L(i, j) =\n",
    "1. ord(s1[0:i+1])  if j=0\n",
    "1. ord(s2[0:j+1])  if i=0\n",
    "1. min(L(i-1, j)+ord(s1[i]), L(i, j-1) + ord(s2[j]))"
   ]
  },
  {
   "cell_type": "code",
   "execution_count": 2,
   "metadata": {
    "collapsed": true
   },
   "outputs": [],
   "source": [
    "# recursive version\n",
    "\n",
    "def rec(s1, s2):\n",
    "    def L(i, j):\n",
    "        if i == 0:\n",
    "            return sum(ord(s2[idx]) for idx in range(j+1))\n",
    "        elif j == 0:\n",
    "            return sum(ord(s1[idx]) for idx in range(i+1))\n",
    "        if s1[i] == s2[j]:\n",
    "            return L(i-1, j-1)\n",
    "        else:\n",
    "            return min(L(i-1, j)+ord(s1[i]), L(i, j-1) + ord(s2[j]))\n",
    "    return L(len(s1)-1, len(s2)-1)\n",
    "\n",
    "# DP version\n",
    "\n",
    "def dp(s1, s2):\n",
    "    m = len(s1)\n",
    "    n = len(s2)\n",
    "    dp = [[0]*n for _ in xrange(m)]\n",
    "    for i in xrange(n):\n",
    "        for j in xrange(m):\n",
    "            if i == 0:\n",
    "                dp[i][j] = sum(ord(s2[idx]) for idx in range(j+1))\n",
    "            elif j == 0:\n",
    "                dp[i][j] = sum(ord(s1[idx]) for idx in range(i+1))\n",
    "            if s1[i] == s1[j]:\n",
    "                dp[i][j] = dp[i-1][j-1]\n",
    "            else:\n",
    "                dp[i][j] = min(dp[i-1][j] + ord(s1[i]), dp[i][j-1] + ord(s2[j]))\n",
    "    return dp\n",
    "    "
   ]
  }
 ],
 "metadata": {
  "kernelspec": {
   "display_name": "Python 3",
   "language": "python",
   "name": "python3"
  },
  "language_info": {
   "codemirror_mode": {
    "name": "ipython",
    "version": 3
   },
   "file_extension": ".py",
   "mimetype": "text/x-python",
   "name": "python",
   "nbconvert_exporter": "python",
   "pygments_lexer": "ipython3",
   "version": "3.6.4"
  }
 },
 "nbformat": 4,
 "nbformat_minor": 2
}
