{
 "cells": [
  {
   "cell_type": "markdown",
   "metadata": {},
   "source": [
    "# 连读 "
   ]
  },
  {
   "cell_type": "markdown",
   "metadata": {},
   "source": [
    "## 辅音元音"
   ]
  },
  {
   "cell_type": "markdown",
   "metadata": {},
   "source": [
    "son a of bitch"
   ]
  },
  {
   "cell_type": "markdown",
   "metadata": {},
   "source": [
    "## 元音元音"
   ]
  },
  {
   "cell_type": "markdown",
   "metadata": {},
   "source": [
    "how are you"
   ]
  },
  {
   "cell_type": "markdown",
   "metadata": {},
   "source": [
    "## 元音辅音 "
   ]
  },
  {
   "cell_type": "markdown",
   "metadata": {},
   "source": [
    "+ d + j:  would you, could you\n",
    "+ t + j:  about you, last year\n",
    "+ s + j:  six years"
   ]
  },
  {
   "cell_type": "markdown",
   "metadata": {},
   "source": [
    "# 失爆"
   ]
  },
  {
   "cell_type": "markdown",
   "metadata": {},
   "source": [
    " p, b, t, d, g, k\n",
    "\n",
    "**连读和失爆的区别**\n",
    "\n",
    "是否能怼在一起\n",
    "\n",
    "能： look after  连读\n",
    "\n",
    "不能： out there  失爆"
   ]
  },
  {
   "cell_type": "markdown",
   "metadata": {},
   "source": [
    "# 弱读 "
   ]
  },
  {
   "cell_type": "markdown",
   "metadata": {},
   "source": [
    "## 通过弱读体现节奏感 "
   ]
  },
  {
   "cell_type": "markdown",
   "metadata": {},
   "source": [
    "**Cows ear grass**\n",
    "\n",
    "The **cows eat** the **grass**\n",
    "\n",
    "The **cows** are **eating** the **grass**\n",
    "\n",
    "The **cows** have been **eating** the **grass**"
   ]
  },
  {
   "cell_type": "markdown",
   "metadata": {},
   "source": [
    "## 元音不饱满和h的消失 "
   ]
  },
  {
   "cell_type": "markdown",
   "metadata": {},
   "source": [
    "# 英美音区别"
   ]
  },
  {
   "cell_type": "markdown",
   "metadata": {},
   "source": [
    "+ 字母组合ary, 美音为$\\rm \\epsilon rl$, 英 erl"
   ]
  },
  {
   "cell_type": "markdown",
   "metadata": {},
   "source": [
    "# 影子跟读"
   ]
  }
 ],
 "metadata": {
  "kernelspec": {
   "display_name": "Python 3",
   "language": "python",
   "name": "python3"
  },
  "language_info": {
   "codemirror_mode": {
    "name": "ipython",
    "version": 3
   },
   "file_extension": ".py",
   "mimetype": "text/x-python",
   "name": "python",
   "nbconvert_exporter": "python",
   "pygments_lexer": "ipython3",
   "version": "3.6.4"
  },
  "toc": {
   "nav_menu": {},
   "number_sections": true,
   "sideBar": true,
   "skip_h1_title": false,
   "title_cell": "Table of Contents",
   "title_sidebar": "Contents",
   "toc_cell": false,
   "toc_position": {},
   "toc_section_display": true,
   "toc_window_display": false
  }
 },
 "nbformat": 4,
 "nbformat_minor": 2
}
