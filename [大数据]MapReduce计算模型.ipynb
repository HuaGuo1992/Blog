{
 "cells": [
  {
   "cell_type": "markdown",
   "metadata": {},
   "source": [
    "参考文章[1](https://www.kancloud.cn/kancloud/the-art-of-programming/41616)[2](https://zhuanlan.zhihu.com/p/32172999),总结整理一下内容"
   ]
  },
  {
   "cell_type": "markdown",
   "metadata": {},
   "source": [
    "MapReduce, 简单的说就是将大批量的工作分解(map)执行, 然后再将结果合并成最终结果(reduce). 好处为任务被分解乎, 可以通过大量机器并行计算, 减少操作的时间. 原理类似归并排序, 将数据交给不同的机器去处理, 数据划分, 然后归越."
   ]
  },
  {
   "cell_type": "markdown",
   "metadata": {},
   "source": [
    "1. MapReduce是一种模式\n",
    "2. Hadoop是一种框架\n",
    "3. Hadoop是一种实现了mapreduce模式的开源分布式并行框架."
   ]
  },
  {
   "cell_type": "markdown",
   "metadata": {},
   "source": [
    "Spark是一个新兴的大叔局处理引擎, 主要特点是提供了一个集群的分布式内存抽象."
   ]
  },
  {
   "cell_type": "markdown",
   "metadata": {},
   "source": [
    "## 分别介绍map, reduce"
   ]
  },
  {
   "cell_type": "markdown",
   "metadata": {},
   "source": [
    "一下为map和reduce的输入和输出\n",
    "<img src='images/map_reduce_sep.png' width=600>"
   ]
  },
  {
   "cell_type": "markdown",
   "metadata": {},
   "source": [
    "mapreduce六大过程:来洋葱(Input),拿洋葱(Split),切洋葱(Map),放洋葱(Shuffle),拼洋葱(Reduce),送洋葱(Finalize)"
   ]
  },
  {
   "cell_type": "markdown",
   "metadata": {},
   "source": [
    "<img src='images/map_reduce.jpg' width=800>"
   ]
  },
  {
   "cell_type": "markdown",
   "metadata": {},
   "source": [
    "## MapReduce的架构 "
   ]
  },
  {
   "cell_type": "markdown",
   "metadata": {},
   "source": [
    "在实际操作中, 会产生很多worker, 会有Map worker, Reduce worker 和Master worker(作为用户协调整个过程).\n",
    "<img src='images/master.png' width=1000>"
   ]
  },
  {
   "cell_type": "markdown",
   "metadata": {},
   "source": [
    "<img src='images/map_reduce_frame.jpg'>"
   ]
  }
 ],
 "metadata": {
  "kernelspec": {
   "display_name": "Python 3",
   "language": "python",
   "name": "python3"
  },
  "language_info": {
   "codemirror_mode": {
    "name": "ipython",
    "version": 3
   },
   "file_extension": ".py",
   "mimetype": "text/x-python",
   "name": "python",
   "nbconvert_exporter": "python",
   "pygments_lexer": "ipython3",
   "version": "3.6.4"
  },
  "toc": {
   "nav_menu": {},
   "number_sections": true,
   "sideBar": true,
   "skip_h1_title": false,
   "title_cell": "Table of Contents",
   "title_sidebar": "Contents",
   "toc_cell": false,
   "toc_position": {},
   "toc_section_display": true,
   "toc_window_display": false
  }
 },
 "nbformat": 4,
 "nbformat_minor": 2
}
