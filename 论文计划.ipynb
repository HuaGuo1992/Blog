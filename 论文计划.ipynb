{
 "cells": [
  {
   "cell_type": "markdown",
   "metadata": {},
   "source": [
    "# 总体计划"
   ]
  },
  {
   "cell_type": "markdown",
   "metadata": {},
   "source": [
    "时间为3.1-3.31号.分为两个阶段\n",
    "1. 第一阶段: 3.1-3.21, 21天\n",
    "    + 完成论文总体, 预计正文内容30页(可以写的很烂, 但要把总体写完, 框架搭建完) \n",
    "2. 第二阶段: 3.22-3.31 10天\n",
    "    + 递交老师, 老师修改, 自己修改, 添加细节"
   ]
  },
  {
   "cell_type": "markdown",
   "metadata": {},
   "source": [
    "# 第一阶段"
   ]
  },
  {
   "cell_type": "markdown",
   "metadata": {},
   "source": [
    "1. 每周最少要完成10页的工作量, 即工作日每天需要完成2页(3个小时???)的工作量, 未完成则需周末补"
   ]
  },
  {
   "cell_type": "markdown",
   "metadata": {},
   "source": [
    "# 第二阶段"
   ]
  }
 ],
 "metadata": {
  "kernelspec": {
   "display_name": "Python 3",
   "language": "python",
   "name": "python3"
  },
  "language_info": {
   "codemirror_mode": {
    "name": "ipython",
    "version": 3
   },
   "file_extension": ".py",
   "mimetype": "text/x-python",
   "name": "python",
   "nbconvert_exporter": "python",
   "pygments_lexer": "ipython3",
   "version": "3.6.4"
  }
 },
 "nbformat": 4,
 "nbformat_minor": 2
}
