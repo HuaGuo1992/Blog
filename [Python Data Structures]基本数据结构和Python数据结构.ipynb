{
 "cells": [
  {
   "cell_type": "markdown",
   "metadata": {},
   "source": [
    "2017-12-22\n",
    "--"
   ]
  },
  {
   "cell_type": "markdown",
   "metadata": {},
   "source": [
    "# 1. 介绍"
   ]
  },
  {
   "cell_type": "markdown",
   "metadata": {},
   "source": [
    "最近在学习数据结构，参照的课程为 [Problem solving with algorithms and data structures](http://interactivepython.org/runestone/static/pythonds/index.html#).\n",
    "\n",
    "这篇文章总结此课程的1-3章内容，主要有两部分：基本数据结构和Python 数据结构"
   ]
  },
  {
   "cell_type": "markdown",
   "metadata": {},
   "source": [
    "# 2. 基本数据结构"
   ]
  },
  {
   "cell_type": "markdown",
   "metadata": {},
   "source": [
    "线性结构 (linear structures)：区别线性结构的标准为如何在结构中实现**添加和删除**操作\n",
    "+ stack(栈)\n",
    "+ queue(队列)\n",
    "+ deque(双端)\n",
    "+ list(列表)"
   ]
  },
  {
   "cell_type": "markdown",
   "metadata": {},
   "source": [
    "## 栈 (stack)  "
   ]
  },
  {
   "cell_type": "markdown",
   "metadata": {},
   "source": [
    "Stack: the addition of new items and the removal of existing items always takes place at the same end.\n",
    "\n",
    "LIFO: last-in first-out"
   ]
  },
  {
   "cell_type": "code",
   "execution_count": 2,
   "metadata": {
    "collapsed": true
   },
   "outputs": [],
   "source": [
    "class Stack:\n",
    "     def __init__(self):\n",
    "         self.items = []\n",
    "\n",
    "     def isEmpty(self):\n",
    "         return self.items == []\n",
    "\n",
    "     def push(self, item):\n",
    "         self.items.append(item)\n",
    "\n",
    "     def pop(self):\n",
    "         return self.items.pop()\n",
    "\n",
    "     def peek(self):\n",
    "         return self.items[len(self.items)-1]\n",
    "\n",
    "     def size(self):\n",
    "         return len(self.items)"
   ]
  },
  {
   "cell_type": "markdown",
   "metadata": {},
   "source": [
    "应用场景一：Balanced symbols"
   ]
  },
  {
   "cell_type": "markdown",
   "metadata": {},
   "source": [
    "<img src='images/balanced_symbols.png', style='100%'>"
   ]
  },
  {
   "cell_type": "markdown",
   "metadata": {},
   "source": [
    "应用场景二：Converting decimal numbers to binary number"
   ]
  },
  {
   "cell_type": "markdown",
   "metadata": {},
   "source": [
    "Divided by 2(BASE) algorithm: continually divides the decimal number by 2(BASE) and keeps tracks of the remainder"
   ]
  },
  {
   "cell_type": "markdown",
   "metadata": {},
   "source": [
    "<img src='images/dividedby2.png', style='100%'>"
   ]
  },
  {
   "cell_type": "code",
   "execution_count": 4,
   "metadata": {
    "collapsed": true
   },
   "outputs": [],
   "source": [
    "def baseConverter(decNumber,base):\n",
    "    digits = \"0123456789ABCDEF\"\n",
    "\n",
    "    remstack = Stack()\n",
    "\n",
    "    while decNumber > 0:\n",
    "        rem = decNumber % base\n",
    "        remstack.push(rem)\n",
    "        decNumber = decNumber // base\n",
    "\n",
    "    newString = \"\"\n",
    "    while not remstack.isEmpty():\n",
    "        newString = newString + digits[remstack.pop()]\n",
    "\n",
    "    return newString"
   ]
  },
  {
   "cell_type": "markdown",
   "metadata": {},
   "source": [
    "应用场景三：Infix, prefix and postfix expression conversion"
   ]
  },
  {
   "cell_type": "markdown",
   "metadata": {},
   "source": [
    "- Prefix   all operators preceds the two operands that they works on\n",
    "- Postfix        ........after   .............\n",
    "\n",
    "infix to prefix or postfix 手工换算很简单：给所有运算添上符号，然后将操作符移动到括号外，移除括号．\n",
    "<img src='images/infix_postfix.png', style='100%'>"
   ]
  },
  {
   "cell_type": "code",
   "execution_count": 5,
   "metadata": {
    "collapsed": true
   },
   "outputs": [],
   "source": [
    "def infixToPostfix(infixexpr):\n",
    "    prec = {}\n",
    "    prec[\"*\"] = 3\n",
    "    prec[\"/\"] = 3\n",
    "    prec[\"+\"] = 2\n",
    "    prec[\"-\"] = 2\n",
    "    prec[\"(\"] = 1\n",
    "    opStack = Stack()\n",
    "    postfixList = []\n",
    "    tokenList = infixexpr.split()\n",
    "\n",
    "    for token in tokenList:\n",
    "        if token in \"ABCDEFGHIJKLMNOPQRSTUVWXYZ\" or token in \"0123456789\":\n",
    "            postfixList.append(token)\n",
    "        elif token == '(':\n",
    "            opStack.push(token)\n",
    "        elif token == ')':\n",
    "            topToken = opStack.pop()\n",
    "            while topToken != '(':\n",
    "                postfixList.append(topToken)\n",
    "                topToken = opStack.pop()\n",
    "        else:\n",
    "            while (not opStack.isEmpty()) and \\\n",
    "               (prec[opStack.peek()] >= prec[token]):\n",
    "                  postfixList.append(opStack.pop())\n",
    "            opStack.push(token)\n",
    "\n",
    "    while not opStack.isEmpty():\n",
    "        postfixList.append(opStack.pop())\n",
    "    return \" \".join(postfixList)\n"
   ]
  },
  {
   "cell_type": "markdown",
   "metadata": {},
   "source": [
    "## 队列 (Queue) "
   ]
  },
  {
   "cell_type": "markdown",
   "metadata": {},
   "source": [
    "Queue: starts at the rear and makes its way toward the front\n",
    "\n",
    "FIFO:first-in first-out"
   ]
  },
  {
   "cell_type": "code",
   "execution_count": 6,
   "metadata": {
    "collapsed": true
   },
   "outputs": [],
   "source": [
    "class Queue:\n",
    "    def __init__(self):\n",
    "        self.items = []\n",
    "\n",
    "    def isEmpty(self):\n",
    "        return self.items == []\n",
    "\n",
    "    def enqueue(self, item):\n",
    "        self.items.insert(0,item)\n",
    "\n",
    "    def dequeue(self):\n",
    "        return self.items.pop()\n",
    "\n",
    "    def size(self):\n",
    "        return len(self.items)\n"
   ]
  },
  {
   "cell_type": "markdown",
   "metadata": {},
   "source": [
    "## 双端队列 (Deque) "
   ]
  },
  {
   "cell_type": "markdown",
   "metadata": {},
   "source": [
    "deque: hybird of stack and queue\n",
    "\n",
    "<img src='images/deque.png' style='100%'>"
   ]
  },
  {
   "cell_type": "code",
   "execution_count": 8,
   "metadata": {
    "collapsed": true
   },
   "outputs": [],
   "source": [
    "class Deque:\n",
    "    def __init__(self):\n",
    "        self.items = []\n",
    "\n",
    "    def isEmpty(self):\n",
    "        return self.items == []\n",
    "\n",
    "    def addFront(self, item):\n",
    "        self.items.append(item)\n",
    "\n",
    "    def addRear(self, item):\n",
    "        self.items.insert(0,item)\n",
    "\n",
    "    def removeFront(self):\n",
    "        return self.items.pop()\n",
    "\n",
    "    def removeRear(self):\n",
    "        return self.items.pop(0)\n",
    "\n",
    "    def size(self):\n",
    "        return len(self.items)\n"
   ]
  },
  {
   "cell_type": "markdown",
   "metadata": {},
   "source": [
    "应用场景： Palindrome-Checker(回文)"
   ]
  },
  {
   "cell_type": "markdown",
   "metadata": {},
   "source": [
    "<img src='images/palindrome.png' style='100%'>"
   ]
  },
  {
   "cell_type": "markdown",
   "metadata": {},
   "source": [
    "## List(表)\n",
    "\n",
    "**Unordered List: linked list(链表)**"
   ]
  },
  {
   "cell_type": "markdown",
   "metadata": {},
   "source": [
    "Linked list: collection of items where each item holds a relative position with repect to the others.\n",
    "\n",
    "In the figure below, it appears that these values have been placed randomly.  maintain the location of the next item.\n",
    "<img src='images/linked_list.png' style='70%'>\n",
    "\n",
    "Node Class holds at least **two pieces of information**: \n",
    "1. data field of this node; \n",
    "2. a reference to the next node\n",
    "\n",
    "$$注意:$$\n",
    "+ A linked list implementation maintains logical order without requiring physical storage requirments\n",
    "+ Modification to the head of the linked list is a special case."
   ]
  },
  {
   "cell_type": "code",
   "execution_count": 9,
   "metadata": {
    "collapsed": true
   },
   "outputs": [],
   "source": [
    "class Node:\n",
    "    def __init__(self,initdata):\n",
    "        self.data = initdata\n",
    "        self.next = None\n",
    "\n",
    "    def getData(self):\n",
    "        return self.data\n",
    "\n",
    "    def getNext(self):\n",
    "        return self.next\n",
    "\n",
    "    def setData(self,newdata):\n",
    "        self.data = newdata\n",
    "\n",
    "    def setNext(self,newnext):\n",
    "        self.next = newnext\n",
    "\n",
    "\n",
    "class UnorderedList:\n",
    "\n",
    "    def __init__(self):\n",
    "        self.head = None\n",
    "        \n",
    "    def isEmpty(self):\n",
    "        return self.head == None\n",
    "\n",
    "    def add(self,item):\n",
    "        temp = Node(item)\n",
    "        temp.setNext(self.head)\n",
    "        self.head = temp\n",
    "\n",
    "    def size(self):\n",
    "        current = self.head\n",
    "        count = 0\n",
    "        while current != None:\n",
    "            count = count + 1\n",
    "            current = current.getNext()\n",
    "\n",
    "        return count\n"
   ]
  },
  {
   "cell_type": "markdown",
   "metadata": {},
   "source": [
    "## Ordered List"
   ]
  },
  {
   "cell_type": "markdown",
   "metadata": {},
   "source": [
    "与上面主要区别是 add() 和　search()"
   ]
  },
  {
   "cell_type": "code",
   "execution_count": 11,
   "metadata": {
    "collapsed": true
   },
   "outputs": [],
   "source": [
    "class Node:\n",
    "    def __init__(self,initdata):\n",
    "        self.data = initdata\n",
    "        self.next = None\n",
    "\n",
    "    def getData(self):\n",
    "        return self.data\n",
    "\n",
    "    def getNext(self):\n",
    "        return self.next\n",
    "\n",
    "    def setData(self,newdata):\n",
    "        self.data = newdata\n",
    "\n",
    "    def setNext(self,newnext):\n",
    "        self.next = newnext\n",
    "\n",
    "\n",
    "class OrderedList:\n",
    "    def __init__(self):\n",
    "        self.head = None\n",
    "\n",
    "    def search(self,item):\n",
    "        current = self.head\n",
    "        found = False\n",
    "        stop = False\n",
    "        while current != None and not found and not stop:\n",
    "            if current.getData() == item:\n",
    "                found = True\n",
    "            else:\n",
    "                if current.getData() > item:\n",
    "                    stop = True\n",
    "                else:\n",
    "                    current = current.getNext()\n",
    "\n",
    "        return found\n",
    "\n",
    "    def add(self,item):\n",
    "        current = self.head\n",
    "        previous = None\n",
    "        stop = False\n",
    "        while current != None and not stop:\n",
    "            if current.getData() > item:\n",
    "                stop = True\n",
    "            else:\n",
    "                previous = current\n",
    "                current = current.getNext()\n",
    "\n",
    "        temp = Node(item)\n",
    "        if previous == None:\n",
    "            temp.setNext(self.head)\n",
    "            self.head = temp\n",
    "        else:\n",
    "            temp.setNext(current)\n",
    "            previous.setNext(temp)\n",
    "\n",
    "    def isEmpty(self):\n",
    "        return self.head == None\n",
    "\n",
    "    def size(self):\n",
    "        current = self.head\n",
    "        count = 0\n",
    "        while current != None:\n",
    "            count = count + 1\n",
    "            current = current.getNext()\n",
    "\n",
    "        return count\n"
   ]
  },
  {
   "cell_type": "markdown",
   "metadata": {},
   "source": [
    "# 3. Python 数据结构 "
   ]
  },
  {
   "cell_type": "markdown",
   "metadata": {},
   "source": [
    "字符串格式化\n",
    "--\n",
    "具体细节参见[链接](http://interactivepython.org/runestone/static/pythonds/Introduction/InputandOutput.html)\n",
    "<img src='images/string_format1.png' width='800' height='600'>\n",
    "<img src='images/string_format2.png' width='800' height='600'>"
   ]
  },
  {
   "cell_type": "markdown",
   "metadata": {},
   "source": [
    "|string|list|tuple|\n",
    "|-|-|-|\n",
    "|immutable|mutable|immutatble|"
   ]
  },
  {
   "cell_type": "markdown",
   "metadata": {},
   "source": [
    "## List "
   ]
  },
  {
   "cell_type": "markdown",
   "metadata": {},
   "source": [
    "<img src='images/list_python.png' style='100%'>"
   ]
  },
  {
   "cell_type": "markdown",
   "metadata": {},
   "source": [
    "## Dictionary"
   ]
  },
  {
   "cell_type": "markdown",
   "metadata": {},
   "source": [
    "<img src='images/dict_python.png' style='100%'>"
   ]
  }
 ],
 "metadata": {
  "kernelspec": {
   "display_name": "Python 3",
   "language": "python",
   "name": "python3"
  },
  "language_info": {
   "codemirror_mode": {
    "name": "ipython",
    "version": 3
   },
   "file_extension": ".py",
   "mimetype": "text/x-python",
   "name": "python",
   "nbconvert_exporter": "python",
   "pygments_lexer": "ipython3",
   "version": "3.6.4"
  },
  "toc": {
   "nav_menu": {},
   "number_sections": true,
   "sideBar": true,
   "skip_h1_title": false,
   "title_cell": "Table of Contents",
   "title_sidebar": "Contents",
   "toc_cell": false,
   "toc_position": {},
   "toc_section_display": true,
   "toc_window_display": true
  }
 },
 "nbformat": 4,
 "nbformat_minor": 2
}
